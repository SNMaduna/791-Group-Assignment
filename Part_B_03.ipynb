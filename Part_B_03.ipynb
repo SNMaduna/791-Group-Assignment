{
 "cells": [
  {
   "cell_type": "code",
   "execution_count": 5,
   "id": "9850e6ab",
   "metadata": {},
   "outputs": [
    {
     "name": "stdout",
     "output_type": "stream",
     "text": [
      "Note: you may need to restart the kernel to use updated packages.\n"
     ]
    },
    {
     "name": "stderr",
     "output_type": "stream",
     "text": [
      "WARNING: Ignoring invalid distribution ~ (c:\\Python312\\Lib\\site-packages)\n",
      "WARNING: Ignoring invalid distribution ~ip (c:\\Python312\\Lib\\site-packages)\n",
      "WARNING: Ignoring invalid distribution ~~p (c:\\Python312\\Lib\\site-packages)\n",
      "WARNING: Ignoring invalid distribution ~ (c:\\Python312\\Lib\\site-packages)\n",
      "WARNING: Ignoring invalid distribution ~ip (c:\\Python312\\Lib\\site-packages)\n",
      "WARNING: Ignoring invalid distribution ~~p (c:\\Python312\\Lib\\site-packages)\n",
      "WARNING: Ignoring invalid distribution ~ (c:\\Python312\\Lib\\site-packages)\n",
      "WARNING: Ignoring invalid distribution ~ip (c:\\Python312\\Lib\\site-packages)\n",
      "WARNING: Ignoring invalid distribution ~~p (c:\\Python312\\Lib\\site-packages)\n"
     ]
    }
   ],
   "source": [
    "%pip install -q google-cloud-translate==3.15.3 protobuf==4.25.3"
   ]
  },
  {
   "cell_type": "code",
   "execution_count": 2,
   "id": "3e972abe-881f-4eec-a359-85bd4fc05d38",
   "metadata": {},
   "outputs": [
    {
     "name": "stdout",
     "output_type": "stream",
     "text": [
      "python-dotenv successfully installed. Continue to run the next cell.\n"
     ]
    }
   ],
   "source": [
    "# Install python-dotenv (quietly), then import and continue\n",
    "import sys, subprocess\n",
    "subprocess.check_call([sys.executable, \"-m\", \"pip\", \"install\", \"-q\", \"python-dotenv\"])\n",
    "\n",
    "print(\"python-dotenv successfully installed. Continue to run the next cell.\")\n"
   ]
  },
  {
   "cell_type": "code",
   "execution_count": 3,
   "id": "10b05851-0b4a-4bf7-b941-098af0f4d508",
   "metadata": {},
   "outputs": [
    {
     "name": "stdout",
     "output_type": "stream",
     "text": [
      "Kernel Python: c:\\Python312\\python.exe\n",
      "GOOGLE_CLOUD_PROJECT = None\n",
      "GOOGLE_APPLICATION_CREDENTIALS = None\n",
      "Key file exists? -> None\n",
      "google-cloud-translate import error: No module named 'google.cloud'\n"
     ]
    }
   ],
   "source": [
    "# Sanity check to see if Google API Translate is successfully installed in the kernel\n",
    "import os, pathlib, sys, json, importlib\n",
    "\n",
    "print(\"Kernel Python:\", sys.executable)  # make sure this matches your conda env \n",
    "print(\"GOOGLE_CLOUD_PROJECT =\", os.getenv(\"GOOGLE_CLOUD_PROJECT\"))\n",
    "key = os.getenv(\"GOOGLE_APPLICATION_CREDENTIALS\")\n",
    "print(\"GOOGLE_APPLICATION_CREDENTIALS =\", key)\n",
    "print(\"Key file exists? ->\", (pathlib.Path(key).exists() if key else None))\n",
    "\n",
    "# Optional check of the key to confirm project_id\n",
    "if key and pathlib.Path(key).exists():\n",
    "    try:\n",
    "        info = json.load(open(key))\n",
    "        print(\"Key project_id =\", info.get(\"project_id\"))\n",
    "    except Exception as e:\n",
    "        print(\"Couldn't read key JSON:\", e)\n",
    "\n",
    "# Check the library is installed in THIS kernel\n",
    "try:\n",
    "    import google.cloud.translate_v3 as translate\n",
    "    print(\"google-cloud-translate import: OK\")\n",
    "except Exception as e:\n",
    "    print(\"google-cloud-translate import error:\", e)\n"
   ]
  },
  {
   "cell_type": "code",
   "execution_count": 6,
   "id": "411bd002-cca2-41b4-994b-c2f58b4fc2e4",
   "metadata": {},
   "outputs": [
    {
     "name": "stdout",
     "output_type": "stream",
     "text": [
      "Set env vars in-process; re-run the translator guard cell now.\n"
     ]
    }
   ],
   "source": [
    "\n",
    "\n",
    "import os, pathlib, sys, subprocess\n",
    "\n",
    "os.environ[\"GOOGLE_CLOUD_PROJECT\"] = \"inf791-translate\"\n",
    "os.environ[\"GOOGLE_APPLICATION_CREDENTIALS\"] = \"/home/taongashe-muzvidziwa/Downloads/inf791-translate-9d9fa523e40e.json\"\n",
    "\n",
    "# (re)install client in this kernel if needed\n",
    "try:\n",
    "    import google.cloud.translate_v3 as translate\n",
    "except Exception:\n",
    "    subprocess.check_call([sys.executable, \"-m\", \"pip\", \"install\", \"-q\", \"google-cloud-translate==3.15.3\", \"protobuf==4.25.3\"])\n",
    "    import google.cloud.translate_v3 as translate\n",
    "\n",
    "print(\"Set env vars in-process; re-run the translator guard cell now.\")\n"
   ]
  },
  {
   "cell_type": "code",
   "execution_count": 7,
   "id": "7041f981-2886-45ad-bde7-5dd6f023280c",
   "metadata": {},
   "outputs": [
    {
     "name": "stdout",
     "output_type": "stream",
     "text": [
      "No .env file found (running in fallback mode)\n",
      "ROOT: c:\\Users\\smadu\\OneDrive\\Desktop\\INF 791 Applied Data Science\\Assignment 03\\This is your local repo\\791-Group-Assignment\n",
      "Data folder → True\n",
      "Cache folder → True\n",
      "Results folder → True\n",
      "Bootstrap OK\n"
     ]
    }
   ],
   "source": [
    "# Bootstrap environment and folders \n",
    "import os, pathlib, pandas as pd\n",
    "\n",
    "ROOT = pathlib.Path.cwd()\n",
    "DATA = ROOT / \"data\"\n",
    "CACHE = ROOT / \"cache\"\n",
    "RESULTS = ROOT / \"results\"\n",
    "\n",
    "for p in (DATA, CACHE, RESULTS):\n",
    "    p.mkdir(exist_ok=True)\n",
    "\n",
    "# Optional: load .env if available\n",
    "from dotenv import load_dotenv\n",
    "if (ROOT / \".env\").exists():\n",
    "    load_dotenv(ROOT / \".env\")\n",
    "    print(\"Loaded .env successfully\")\n",
    "else:\n",
    "    print(\"No .env file found (running in fallback mode)\")\n",
    "\n",
    "print(f\"ROOT: {ROOT}\")\n",
    "print(\"Data folder →\", DATA.exists())\n",
    "print(\"Cache folder →\", CACHE.exists())\n",
    "print(\"Results folder →\", RESULTS.exists())\n",
    "\n",
    "print(\"Bootstrap OK\")\n"
   ]
  },
  {
   "cell_type": "code",
   "execution_count": 8,
   "id": "2f025ce7-7dec-4cd3-a0eb-5cc781391e61",
   "metadata": {},
   "outputs": [
    {
     "name": "stdout",
     "output_type": "stream",
     "text": [
      "No Google credentials found, using Deep-Translator (free API)\n",
      "Translator ready | Mode: Deep-Translator (free)\n"
     ]
    }
   ],
   "source": [
    "# Translator guard with automatic fallback\n",
    "import os, sys, subprocess, pathlib\n",
    "\n",
    "# try to see if user already set google cloud creds\n",
    "GOOGLE_PROJECT = os.getenv(\"GOOGLE_CLOUD_PROJECT\", \"\").strip()\n",
    "GOOGLE_KEY     = os.getenv(\"GOOGLE_APPLICATION_CREDENTIALS\", \"\").strip()\n",
    "\n",
    "USE_GOOGLE_API = False\n",
    "USE_DEEP_TRANS = False\n",
    "\n",
    "# check if google credentials exist\n",
    "if GOOGLE_PROJECT and GOOGLE_KEY and pathlib.Path(GOOGLE_KEY).exists():\n",
    "    try:\n",
    "        from google.cloud import translate_v3 as translate\n",
    "        USE_GOOGLE_API = True\n",
    "        print(\"Using official Google Cloud Translate API\")\n",
    "    except Exception:\n",
    "        print(\"Google Cloud library missing — falling back to deep-translator\")\n",
    "else:\n",
    "    print(\"No Google credentials found, using Deep-Translator (free API)\")\n",
    "\n",
    "# install deep-translator if missing\n",
    "try:\n",
    "    from deep_translator import GoogleTranslator\n",
    "    USE_DEEP_TRANS = not USE_GOOGLE_API\n",
    "except ImportError:\n",
    "    subprocess.check_call([sys.executable, \"-m\", \"pip\", \"install\", \"-q\", \"deep-translator\"])\n",
    "    from deep_translator import GoogleTranslator\n",
    "    USE_DEEP_TRANS = not USE_GOOGLE_API\n",
    "\n",
    "def translate_texts(texts, target=\"en\", source=\"auto\"):\n",
    "    \"\"\"Translates a list of words either through Google Cloud or Deep-Translator.\"\"\"\n",
    "    if not texts:\n",
    "        return []\n",
    "    results = []\n",
    "    if USE_GOOGLE_API:\n",
    "        from google.cloud import translate_v3 as translate\n",
    "        client = translate.TranslationServiceClient()\n",
    "        parent = f\"projects/{GOOGLE_PROJECT}/locations/global\"\n",
    "        for t in texts:\n",
    "            try:\n",
    "                resp = client.translate_text(contents=[t], target_language_code=target, parent=parent)\n",
    "                results.append(resp.translations[0].translated_text)\n",
    "            except Exception as e:\n",
    "                print(\"GCP error, keeping original:\", t, \"-\", str(e)[:80])\n",
    "                results.append(t)\n",
    "    else:\n",
    "        tr = GoogleTranslator(source=source, target=target)\n",
    "        for t in texts:\n",
    "            try:\n",
    "                results.append(tr.translate(t))\n",
    "            except Exception:\n",
    "                results.append(t)\n",
    "    return results\n",
    "\n",
    "print(\"Translator ready\",\n",
    "      \"| Mode:\", \"Google API\" if USE_GOOGLE_API else \"Deep-Translator (free)\")\n"
   ]
  },
  {
   "cell_type": "code",
   "execution_count": 9,
   "id": "a44ed1ee-678b-4cfa-b4a3-f90413c12d97",
   "metadata": {},
   "outputs": [
    {
     "name": "stdout",
     "output_type": "stream",
     "text": [
      "Inputs OK\n"
     ]
    }
   ],
   "source": [
    "#Parameters and inputs\n",
    "import pandas as pd\n",
    "import numpy as np\n",
    "\n",
    "BASE_LEXICON_XLSX = \"expanded_lexicon_v4.xlsx\"\n",
    "LEX_WORK          = \"expanded_lexicon_v4_working.xlsx\"\n",
    "CORPUS_CSV        = DATA / \"shona_senti.csv\"\n",
    "\n",
    "MIN_TOKEN_FREQ    = 5\n",
    "TOP_N_PER_CLASS   = 300\n",
    "\n",
    "assert (ROOT/BASE_LEXICON_XLSX).exists(), \"Missing expanded_lexicon_v4.xlsx in project root.\"\n",
    "assert (CORPUS_CSV).exists(), \"Missing data/shona_senti.csv\"\n",
    "\n",
    "print(\"Inputs OK\")\n"
   ]
  },
  {
   "cell_type": "code",
   "execution_count": 10,
   "id": "4e227f8a-a4a2-4fce-b20a-4f9665757bf7",
   "metadata": {},
   "outputs": [
    {
     "name": "stdout",
     "output_type": "stream",
     "text": [
      "Corpus shape: (15959, 5)\n",
      "Label distribution:\n",
      " label\n",
      "negative    7820\n",
      "positive    4744\n",
      "neutral     3395\n",
      "Name: count, dtype: int64\n"
     ]
    }
   ],
   "source": [
    "#Cleaning and tokenising, PMI\n",
    "import re, math\n",
    "from collections import Counter, defaultdict\n",
    "from tqdm import tqdm\n",
    "\n",
    "PUNCT_RE = re.compile(r\"[\\.,!?:;\\-—_\\(\\)\\[\\]\\{\\}\\\"\\'`\\/\\\\]\")\n",
    "MULTISPACE_RE = re.compile(r\"\\s+\")\n",
    "\n",
    "def clean_text(s: str) -> str:\n",
    "    if not isinstance(s, str): return \"\"\n",
    "    s = s.lower()\n",
    "    s = PUNCT_RE.sub(\" \", s)\n",
    "    s = MULTISPACE_RE.sub(\" \", s).strip()\n",
    "    return s\n",
    "\n",
    "def tokenize(s: str):\n",
    "    return [t for t in s.split() if t]\n",
    "\n",
    "def compute_class_pmi(df, tokens_col=\"tokens\", label_col=\"label\", min_freq=5):\n",
    "    total = Counter(); by_cls = defaultdict(Counter)\n",
    "    for _, r in df[[tokens_col, label_col]].iterrows():\n",
    "        toks, lbl = r[tokens_col], r[label_col]\n",
    "        total.update(toks); by_cls[lbl].update(toks)\n",
    "    vocab = {w for w,c in total.items() if c >= min_freq}\n",
    "    if not vocab:\n",
    "        return pd.DataFrame(columns=[\"token\",\"label\",\"PMI\",\"freq\",\"class_freq\"])\n",
    "    total_sum = sum(total[w] for w in vocab)\n",
    "    cls_sums  = {c: sum(by_cls[c][w] for w in vocab) for c in by_cls}\n",
    "    rows=[]\n",
    "    for w in vocab:\n",
    "        p_w = (total[w]+1)/(total_sum+len(vocab))\n",
    "        for c in by_cls:\n",
    "            p_joint = (by_cls[c][w]+1)/(cls_sums[c]+len(vocab))\n",
    "            p_c = (cls_sums[c]+len(vocab))/(total_sum+len(vocab))\n",
    "            pmi = math.log2(p_joint/(p_w*p_c))\n",
    "            rows.append({\"token\":w,\"label\":c,\"PMI\":pmi,\"freq\":total[w],\"class_freq\":by_cls[c][w]})\n",
    "    return pd.DataFrame(rows).sort_values([\"label\",\"PMI\"], ascending=[True,False])\n",
    "\n",
    "# Load corpus and prepare\n",
    "df = pd.read_csv(CORPUS_CSV).dropna(subset=[\"text\",\"label\"])\n",
    "df[\"text_clean\"] = df[\"text\"].map(clean_text)\n",
    "df[\"tokens\"] = df[\"text_clean\"].map(tokenize)\n",
    "\n",
    "print(\"Corpus shape:\", df.shape)\n",
    "print(\"Label distribution:\\n\", df[\"label\"].value_counts())\n"
   ]
  },
  {
   "cell_type": "code",
   "execution_count": 11,
   "id": "b13535f9-2c2d-464a-8771-8599a3cf95ba",
   "metadata": {},
   "outputs": [
    {
     "name": "stdout",
     "output_type": "stream",
     "text": [
      "Saved: c:\\Users\\smadu\\OneDrive\\Desktop\\INF 791 Applied Data Science\\Assignment 03\\This is your local repo\\791-Group-Assignment\\results\\pmi_candidates.csv (900, 5)\n"
     ]
    },
    {
     "name": "stderr",
     "output_type": "stream",
     "text": [
      "C:\\Users\\smadu\\AppData\\Local\\Temp\\ipykernel_1744\\2112636791.py:4: FutureWarning: DataFrameGroupBy.apply operated on the grouping columns. This behavior is deprecated, and in a future version of pandas the grouping columns will be excluded from the operation. Either pass `include_groups=False` to exclude the groupings or explicitly select the grouping columns after groupby to silence this warning.\n",
      "  .apply(lambda g: g.nlargest(TOP_N_PER_CLASS, \"PMI\"))\n"
     ]
    }
   ],
   "source": [
    "# Compute and Save PMI candidates\n",
    "pmi_df = compute_class_pmi(df, tokens_col=\"tokens\", label_col=\"label\", min_freq=MIN_TOKEN_FREQ)\n",
    "cands = (pmi_df.groupby(\"label\", group_keys=False)\n",
    "                .apply(lambda g: g.nlargest(TOP_N_PER_CLASS, \"PMI\"))\n",
    "                .reset_index(drop=True))\n",
    "RESULTS.mkdir(exist_ok=True)\n",
    "cands.to_csv(RESULTS / \"pmi_candidates.csv\", index=False)\n",
    "print(\"Saved:\", RESULTS / \"pmi_candidates.csv\", cands.shape)\n",
    "\n",
    "best = (cands.sort_values(\"PMI\", ascending=False)\n",
    "              .groupby(\"token\").first().reset_index())\n",
    "label2sign = {\"positive\":1,\"pos\":1,\"negative\":-1,\"neg\":-1,\"neutral\":0,\"neu\":0}\n",
    "best[\"pmi_sign\"] = best[\"label\"].str.lower().map(label2sign).fillna(0)\n"
   ]
  },
  {
   "cell_type": "code",
   "execution_count": 12,
   "id": "1fd16d2c-04f7-4ad7-bf7e-f1f24f0c01b0",
   "metadata": {},
   "outputs": [
    {
     "name": "stdout",
     "output_type": "stream",
     "text": [
      "Loaded working copy: expanded_lexicon_v4_working.xlsx\n"
     ]
    }
   ],
   "source": [
    "#Loading lexicon and Polarity sign\n",
    "lex_src = pd.read_excel(BASE_LEXICON_XLSX)\n",
    "lex_src.columns = [str(c).strip() for c in lex_src.columns]\n",
    "\n",
    "# ensure language cols exist\n",
    "for col in [\"French\",\"English\",\"Zulu\",\"Xhosa\",\"Sepedi\",\"Shona\",\"Afrikaans\"]:\n",
    "    if col not in lex_src.columns: lex_src[col] = np.nan\n",
    "\n",
    "# prefer existing working copy if present\n",
    "if (ROOT/LEX_WORK).exists():\n",
    "    lex_src = pd.read_excel(LEX_WORK)\n",
    "    print(\"Loaded working copy:\", LEX_WORK)\n",
    "else:\n",
    "    lex_src.to_excel(LEX_WORK, index=False)\n",
    "    print(\"Created working copy:\", LEX_WORK)\n",
    "\n",
    "lex = lex_src.copy()\n",
    "if \"Score\" in lex.columns:\n",
    "    lex[\"polarity_sign\"] = np.sign(pd.to_numeric(lex[\"Score\"], errors=\"coerce\")).fillna(0)\n",
    "elif \"Sentiment\" in lex.columns:\n",
    "    m = {\"positive\":1,\"pos\":1,\"negative\":-1,\"neg\":-1,\"neutral\":0,\"neu\":0}\n",
    "    lex[\"polarity_sign\"] = lex[\"Sentiment\"].astype(str).str.lower().map(m).fillna(0)\n",
    "else:\n",
    "    lex[\"polarity_sign\"] = 0\n"
   ]
  },
  {
   "cell_type": "code",
   "execution_count": 13,
   "id": "987cefd0-4526-4cc3-b59b-49d24cf38239",
   "metadata": {},
   "outputs": [
    {
     "name": "stdout",
     "output_type": "stream",
     "text": [
      "PMI terms: 900 | to-translate now: 900\n",
      "Saved: c:\\Users\\smadu\\OneDrive\\Desktop\\INF 791 Applied Data Science\\Assignment 03\\This is your local repo\\791-Group-Assignment\\results\\pmi_terms_with_english.csv\n"
     ]
    }
   ],
   "source": [
    "# === Cell G : PMI tokens -> English, with cache + Google/Deep guard ===\n",
    "import pandas as pd\n",
    "\n",
    "# 0) Compatibility shim: ensure translate_texts exists\n",
    "try:\n",
    "    translate_texts\n",
    "except NameError:\n",
    "    def translate_texts(texts, target=\"en\", source=\"auto\"):\n",
    "        return list(texts)\n",
    "\n",
    "pmi_cache_path = CACHE / \"pmi_to_en.csv\"\n",
    "cache_pmi = {}\n",
    "\n",
    "# Load existing cache if present (support headerless or with header)\n",
    "if pmi_cache_path.exists():\n",
    "    try:\n",
    "        tmp = pd.read_csv(pmi_cache_path, header=None, names=[\"token\",\"en\"])\n",
    "    except Exception:\n",
    "        tmp = pd.read_csv(pmi_cache_path)\n",
    "        if not {\"token\",\"en\"}.issubset(tmp.columns):\n",
    "            tmp.columns = [\"token\",\"en\"]\n",
    "    for _, r in tmp.iterrows():\n",
    "        cache_pmi[str(r[\"token\"])] = str(r[\"en\"])\n",
    "\n",
    "# Figure out which terms still need translation\n",
    "terms = sorted(set(best[\"token\"].astype(str)))\n",
    "todo  = [t for t in terms if t not in cache_pmi]\n",
    "print(f\"PMI terms: {len(terms)} | to-translate now: {len(todo)}\")\n",
    "\n",
    "# Translate any missing terms (Google v3 if creds, else Deep-Translator)\n",
    "if todo:\n",
    "    translated = translate_texts(todo, target=\"en\", source=\"auto\")\n",
    "    for t, gloss in zip(todo, translated):\n",
    "        cache_pmi[t] = gloss\n",
    "\n",
    "# Persist/refresh cache (headerless for speed; reader handles both)\n",
    "pd.DataFrame([(k, v) for k, v in cache_pmi.items()], columns=[\"token\",\"en\"]).to_csv(\n",
    "    pmi_cache_path, index=False, header=False\n",
    ")\n",
    "\n",
    "# Attach English to PMI 'best' table and save\n",
    "best[\"token_en\"] = best[\"token\"].map(cache_pmi)\n",
    "best[\"token_en_norm\"] = best[\"token_en\"].astype(str).str.lower()\n",
    "\n",
    "out_path = RESULTS / \"pmi_terms_with_english.csv\"\n",
    "best[[\"token\",\"label\",\"PMI\",\"token_en\"]].to_csv(out_path, index=False)\n",
    "print(\"Saved:\", out_path)\n"
   ]
  },
  {
   "cell_type": "code",
   "execution_count": 14,
   "id": "d22094d2-6d5f-45bd-82cf-c0854e249d57",
   "metadata": {},
   "outputs": [
    {
     "name": "stdout",
     "output_type": "stream",
     "text": [
      "Saved: c:\\Users\\smadu\\OneDrive\\Desktop\\INF 791 Applied Data Science\\Assignment 03\\This is your local repo\\791-Group-Assignment\\results\\corpus_vs_lexicon_matches_enpivot.csv\n"
     ]
    }
   ],
   "source": [
    "# Aign corpus vs lexicon (English pivot) \n",
    "assert \"English\" in lex.columns, \"Lexicon needs an 'English' column.\"\n",
    "lex[\"English_norm\"] = lex[\"English\"].astype(str).str.lower()\n",
    "\n",
    "merged_en = best.merge(lex, left_on=\"token_en_norm\", right_on=\"English_norm\", how=\"left\", suffixes=(\"_cand\",\"_lex\"))\n",
    "merged_en[\"agreement\"] = np.where(merged_en[\"pmi_sign\"] == merged_en[\"polarity_sign\"], \"match\", \"mismatch\")\n",
    "\n",
    "keep_cols = [\"token\",\"token_en\",\"label\",\"PMI\",\"pmi_sign\",\"polarity_sign\",\"agreement\",\n",
    "             \"English\",\"French\",\"Shona\",\"Zulu\",\"Xhosa\",\"Afrikaans\",\"Sepedi\",\"Score\",\"Sentiment\",\"Nature\"]\n",
    "merged_en[[c for c in keep_cols if c in merged_en.columns]].to_csv(\n",
    "    RESULTS / \"corpus_vs_lexicon_matches_enpivot.csv\", index=False)\n",
    "print(\"Saved:\", RESULTS / \"corpus_vs_lexicon_matches_enpivot.csv\")\n"
   ]
  },
  {
   "cell_type": "code",
   "execution_count": 15,
   "id": "5665325c-b82c-4f0b-991a-f06f32528860",
   "metadata": {},
   "outputs": [
    {
     "name": "stdout",
     "output_type": "stream",
     "text": [
      "Wrote: c:\\Users\\smadu\\OneDrive\\Desktop\\INF 791 Applied Data Science\\Assignment 03\\This is your local repo\\791-Group-Assignment\\results\\rag_review_queue_enpivot.csv | items: 974\n"
     ]
    },
    {
     "data": {
      "text/html": [
       "<div>\n",
       "<style scoped>\n",
       "    .dataframe tbody tr th:only-of-type {\n",
       "        vertical-align: middle;\n",
       "    }\n",
       "\n",
       "    .dataframe tbody tr th {\n",
       "        vertical-align: top;\n",
       "    }\n",
       "\n",
       "    .dataframe thead th {\n",
       "        text-align: right;\n",
       "    }\n",
       "</style>\n",
       "<table border=\"1\" class=\"dataframe\">\n",
       "  <thead>\n",
       "    <tr style=\"text-align: right;\">\n",
       "      <th></th>\n",
       "      <th>token</th>\n",
       "      <th>token_en</th>\n",
       "      <th>pmi_label</th>\n",
       "      <th>lexicon_sign</th>\n",
       "      <th>contexts</th>\n",
       "      <th>llm_prompt</th>\n",
       "    </tr>\n",
       "  </thead>\n",
       "  <tbody>\n",
       "    <tr>\n",
       "      <th>0</th>\n",
       "      <td>#africa</td>\n",
       "      <td>#africa</td>\n",
       "      <td>neutral</td>\n",
       "      <td>0</td>\n",
       "      <td>[\"Wadiwa @ZANUPF_Official kana kuti Nguvo dzir...</td>\n",
       "      <td>You are helping annotate a multilingual sentim...</td>\n",
       "    </tr>\n",
       "    <tr>\n",
       "      <th>1</th>\n",
       "      <td>#edworks</td>\n",
       "      <td>#edworks</td>\n",
       "      <td>positive</td>\n",
       "      <td>0</td>\n",
       "      <td>[\"Chirongwa chemari, kuvaka nedura redura reBe...</td>\n",
       "      <td>You are helping annotate a multilingual sentim...</td>\n",
       "    </tr>\n",
       "    <tr>\n",
       "      <th>2</th>\n",
       "      <td>#gpzvhrk</td>\n",
       "      <td>#gpzvhrk</td>\n",
       "      <td>positive</td>\n",
       "      <td>0</td>\n",
       "      <td>[\"Kuuya kudzimba!\\r\\n\\r\\nMutambo wekupedzisira...</td>\n",
       "      <td>You are helping annotate a multilingual sentim...</td>\n",
       "    </tr>\n",
       "    <tr>\n",
       "      <th>3</th>\n",
       "      <td>#issawholenewvibe</td>\n",
       "      <td>#issawholenewvibe</td>\n",
       "      <td>positive</td>\n",
       "      <td>0</td>\n",
       "      <td>[\"Tarisa uone mufananidzo weZim Cyber-City Dom...</td>\n",
       "      <td>You are helping annotate a multilingual sentim...</td>\n",
       "    </tr>\n",
       "    <tr>\n",
       "      <th>4</th>\n",
       "      <td>#jobs</td>\n",
       "      <td>#jobs</td>\n",
       "      <td>positive</td>\n",
       "      <td>0</td>\n",
       "      <td>[\"Chemistry Teacher - Gateway High chikoro che...</td>\n",
       "      <td>You are helping annotate a multilingual sentim...</td>\n",
       "    </tr>\n",
       "    <tr>\n",
       "      <th>5</th>\n",
       "      <td>#jobszimbabwe</td>\n",
       "      <td>#jobszimabwe</td>\n",
       "      <td>positive</td>\n",
       "      <td>0</td>\n",
       "      <td>[\"Chemistry Teacher - Gateway High chikoro che...</td>\n",
       "      <td>You are helping annotate a multilingual sentim...</td>\n",
       "    </tr>\n",
       "    <tr>\n",
       "      <th>6</th>\n",
       "      <td>#legacyrealestate</td>\n",
       "      <td>#legacyrealestate</td>\n",
       "      <td>positive</td>\n",
       "      <td>0</td>\n",
       "      <td>[\"4 Imba yekurara yekuroja muGlen Lorne - USD ...</td>\n",
       "      <td>You are helping annotate a multilingual sentim...</td>\n",
       "    </tr>\n",
       "    <tr>\n",
       "      <th>7</th>\n",
       "      <td>#partycipate</td>\n",
       "      <td>#participate</td>\n",
       "      <td>neutral</td>\n",
       "      <td>0</td>\n",
       "      <td>[\"The Roast of Temba Mliswa featuring \\r\\nCde ...</td>\n",
       "      <td>You are helping annotate a multilingual sentim...</td>\n",
       "    </tr>\n",
       "    <tr>\n",
       "      <th>8</th>\n",
       "      <td>#rawsonproperties</td>\n",
       "      <td>#rawsonproperties</td>\n",
       "      <td>positive</td>\n",
       "      <td>0</td>\n",
       "      <td>[\"4 Imba yekurara yekuroja muHighlands - USD 2...</td>\n",
       "      <td>You are helping annotate a multilingual sentim...</td>\n",
       "    </tr>\n",
       "    <tr>\n",
       "      <th>9</th>\n",
       "      <td>#redmarketsunday</td>\n",
       "      <td>#redmarketsGunday</td>\n",
       "      <td>positive</td>\n",
       "      <td>0</td>\n",
       "      <td>[\"Kunhuwirira Kwake, kugadza mumutauro. Kuende...</td>\n",
       "      <td>You are helping annotate a multilingual sentim...</td>\n",
       "    </tr>\n",
       "  </tbody>\n",
       "</table>\n",
       "</div>"
      ],
      "text/plain": [
       "               token           token_en pmi_label  lexicon_sign  \\\n",
       "0            #africa            #africa   neutral             0   \n",
       "1           #edworks           #edworks  positive             0   \n",
       "2           #gpzvhrk           #gpzvhrk  positive             0   \n",
       "3  #issawholenewvibe  #issawholenewvibe  positive             0   \n",
       "4              #jobs              #jobs  positive             0   \n",
       "5      #jobszimbabwe       #jobszimabwe  positive             0   \n",
       "6  #legacyrealestate  #legacyrealestate  positive             0   \n",
       "7       #partycipate       #participate   neutral             0   \n",
       "8  #rawsonproperties  #rawsonproperties  positive             0   \n",
       "9   #redmarketsunday  #redmarketsGunday  positive             0   \n",
       "\n",
       "                                            contexts  \\\n",
       "0  [\"Wadiwa @ZANUPF_Official kana kuti Nguvo dzir...   \n",
       "1  [\"Chirongwa chemari, kuvaka nedura redura reBe...   \n",
       "2  [\"Kuuya kudzimba!\\r\\n\\r\\nMutambo wekupedzisira...   \n",
       "3  [\"Tarisa uone mufananidzo weZim Cyber-City Dom...   \n",
       "4  [\"Chemistry Teacher - Gateway High chikoro che...   \n",
       "5  [\"Chemistry Teacher - Gateway High chikoro che...   \n",
       "6  [\"4 Imba yekurara yekuroja muGlen Lorne - USD ...   \n",
       "7  [\"The Roast of Temba Mliswa featuring \\r\\nCde ...   \n",
       "8  [\"4 Imba yekurara yekuroja muHighlands - USD 2...   \n",
       "9  [\"Kunhuwirira Kwake, kugadza mumutauro. Kuende...   \n",
       "\n",
       "                                          llm_prompt  \n",
       "0  You are helping annotate a multilingual sentim...  \n",
       "1  You are helping annotate a multilingual sentim...  \n",
       "2  You are helping annotate a multilingual sentim...  \n",
       "3  You are helping annotate a multilingual sentim...  \n",
       "4  You are helping annotate a multilingual sentim...  \n",
       "5  You are helping annotate a multilingual sentim...  \n",
       "6  You are helping annotate a multilingual sentim...  \n",
       "7  You are helping annotate a multilingual sentim...  \n",
       "8  You are helping annotate a multilingual sentim...  \n",
       "9  You are helping annotate a multilingual sentim...  "
      ]
     },
     "execution_count": 15,
     "metadata": {},
     "output_type": "execute_result"
    }
   ],
   "source": [
    "# Build RAG/LLM review queue for mismatches \n",
    "import json\n",
    "\n",
    "def collect_contexts(the_df, token, label, max_examples=3, window=140):\n",
    "    ex=[]\n",
    "    for _, row in the_df[the_df[\"label\"]==label].iterrows():\n",
    "        toks = row[\"tokens\"] if isinstance(row[\"tokens\"], (list,tuple)) else []\n",
    "        if token in toks:\n",
    "            txt = str(row[\"text\"])\n",
    "            ex.append(txt if len(txt)<=window else txt[:window]+\" …\")\n",
    "            if len(ex)>=max_examples: break\n",
    "    return ex\n",
    "\n",
    "def safe_int(x, default=0):\n",
    "    try: return int(x) if pd.notna(x) else default\n",
    "    except: return default\n",
    "\n",
    "mis = merged_en[merged_en[\"agreement\"]==\"mismatch\"].copy()\n",
    "rows=[]\n",
    "for _, r in mis.iterrows():\n",
    "    tok = r.get(\"token\",\"\")\n",
    "    lbl = r.get(\"label\",\"\")\n",
    "    gloss = r.get(\"English\",\"\") or r.get(\"token_en\",\"\")\n",
    "    ctx = collect_contexts(df, tok, lbl)\n",
    "    lex_sign = safe_int(r.get(\"polarity_sign\",0))\n",
    "    prompt = (\n",
    "        \"You are helping annotate a multilingual sentiment lexicon.\\n\"\n",
    "        f\"Word: {tok}\\nLanguage: Shona\\nEnglish gloss: {gloss}\\n\"\n",
    "        f\"Corpus sentiment trend (from PMI): {lbl}.\\n\"\n",
    "        f\"Lexicon polarity sign: {lex_sign} (−1=neg,0=neu,1=pos).\\n\"\n",
    "        \"Tasks: (1) Provide POS tag; (2) Decide polarity (−9..9) and label (neg/neu/pos); \"\n",
    "        \"(3) If ambiguous, explain briefly and give two example sentences.\"\n",
    "    )\n",
    "    rows.append({\n",
    "        \"token\": tok,\n",
    "        \"token_en\": r.get(\"token_en\",\"\"),\n",
    "        \"pmi_label\": lbl,\n",
    "        \"lexicon_sign\": lex_sign,\n",
    "        \"contexts\": json.dumps(ctx, ensure_ascii=False),\n",
    "        \"llm_prompt\": prompt\n",
    "    })\n",
    "\n",
    "review = pd.DataFrame(rows)\n",
    "review.to_csv(RESULTS / \"rag_review_queue_enpivot.csv\", index=False)\n",
    "print(\"Wrote:\", RESULTS / \"rag_review_queue_enpivot.csv\", \"| items:\", len(review))\n",
    "review.head(10)\n"
   ]
  },
  {
   "cell_type": "code",
   "execution_count": 16,
   "id": "9e725c27-298c-4337-8b22-3bd9ef4bbe62",
   "metadata": {},
   "outputs": [
    {
     "name": "stderr",
     "output_type": "stream",
     "text": [
      "C:\\Users\\smadu\\AppData\\Local\\Temp\\ipykernel_1744\\1870606085.py:44: UserWarning: Glyph 128582 (\\N{FACE WITH OK GESTURE}) missing from font(s) Arial.\n",
      "  plt.tight_layout()\n",
      "C:\\Users\\smadu\\AppData\\Local\\Temp\\ipykernel_1744\\1870606085.py:44: UserWarning: Glyph 65039 (\\N{VARIATION SELECTOR-16}) missing from font(s) Arial.\n",
      "  plt.tight_layout()\n",
      "C:\\Users\\smadu\\AppData\\Local\\Temp\\ipykernel_1744\\1870606085.py:46: UserWarning: Glyph 128582 (\\N{FACE WITH OK GESTURE}) missing from font(s) Arial.\n",
      "  plt.savefig(RESULTS / \"fig_top_pmi_terms.png\", dpi=150)\n",
      "C:\\Users\\smadu\\AppData\\Local\\Temp\\ipykernel_1744\\1870606085.py:46: UserWarning: Glyph 65039 (\\N{VARIATION SELECTOR-16}) missing from font(s) Arial.\n",
      "  plt.savefig(RESULTS / \"fig_top_pmi_terms.png\", dpi=150)\n"
     ]
    },
    {
     "name": "stdout",
     "output_type": "stream",
     "text": [
      "Saved figures → c:\\Users\\smadu\\OneDrive\\Desktop\\INF 791 Applied Data Science\\Assignment 03\\This is your local repo\\791-Group-Assignment\\results\n",
      "YES c:\\Users\\smadu\\OneDrive\\Desktop\\INF 791 Applied Data Science\\Assignment 03\\This is your local repo\\791-Group-Assignment\\results\\pmi_candidates.csv\n",
      "YES c:\\Users\\smadu\\OneDrive\\Desktop\\INF 791 Applied Data Science\\Assignment 03\\This is your local repo\\791-Group-Assignment\\results\\pmi_terms_with_english.csv\n",
      "YES c:\\Users\\smadu\\OneDrive\\Desktop\\INF 791 Applied Data Science\\Assignment 03\\This is your local repo\\791-Group-Assignment\\results\\corpus_vs_lexicon_matches_enpivot.csv\n",
      "YES c:\\Users\\smadu\\OneDrive\\Desktop\\INF 791 Applied Data Science\\Assignment 03\\This is your local repo\\791-Group-Assignment\\results\\rag_review_queue_enpivot.csv\n",
      "YES c:\\Users\\smadu\\OneDrive\\Desktop\\INF 791 Applied Data Science\\Assignment 03\\This is your local repo\\791-Group-Assignment\\results\\fig_top_pmi_terms.png\n",
      "YES c:\\Users\\smadu\\OneDrive\\Desktop\\INF 791 Applied Data Science\\Assignment 03\\This is your local repo\\791-Group-Assignment\\results\\fig_agreement_pie.png\n"
     ]
    },
    {
     "name": "stderr",
     "output_type": "stream",
     "text": [
      "C:\\Users\\smadu\\AppData\\Roaming\\Python\\Python312\\site-packages\\IPython\\core\\pylabtools.py:170: UserWarning: Glyph 128582 (\\N{FACE WITH OK GESTURE}) missing from font(s) Arial.\n",
      "  fig.canvas.print_figure(bytes_io, **kw)\n",
      "C:\\Users\\smadu\\AppData\\Roaming\\Python\\Python312\\site-packages\\IPython\\core\\pylabtools.py:170: UserWarning: Glyph 65039 (\\N{VARIATION SELECTOR-16}) missing from font(s) Arial.\n",
      "  fig.canvas.print_figure(bytes_io, **kw)\n"
     ]
    },
    {
     "data": {
      "image/png": "[encoded data removed]",
      "text/plain": [
       "<Figure size 1400x400 with 3 Axes>"
      ]
     },
     "metadata": {},
     "output_type": "display_data"
    },
    {
     "data": {
      "image/png": "[encoded data removed]",
      "text/plain": [
       "<Figure size 420x420 with 1 Axes>"
      ]
     },
     "metadata": {},
     "output_type": "display_data"
    }
   ],
   "source": [
    "# === Cell J: Plots (top-K bars and pie chart)\n",
    "import re\n",
    "import matplotlib.pyplot as plt\n",
    "import seaborn as sns\n",
    "\n",
    "sns.set_theme(style=\"whitegrid\", context=\"notebook\")  # balanced sizing\n",
    "\n",
    "# ===Filter noisy tokens for neater charts ===\n",
    "TOP_K_PLOT = 12        # how many bars per class to show\n",
    "MIN_TOKEN_LEN = 3      # drop super-short items\n",
    "EXCLUDE_PATTERNS = [r\"^@\", r\"^#\",\n",
    "                    r\"^https?://\", r\"\\.com\\b\",  # urls\n",
    "                    r\"^\\d+$\"]                   # pure numbers\n",
    "\n",
    "def looks_noisy(tok: str) -> bool:\n",
    "    if tok is None: return True\n",
    "    tok = str(tok).strip().lower()\n",
    "    if len(tok) < MIN_TOKEN_LEN: return True\n",
    "    if any(re.search(p, tok) for p in EXCLUDE_PATTERNS): return True\n",
    "    return False\n",
    "\n",
    "cands_clean = cands[~cands[\"token\"].map(looks_noisy)].copy()\n",
    "\n",
    "# NOTE: remove exact duplicates across classes keeping highest PMI\n",
    "cands_clean = (cands_clean\n",
    "               .sort_values(\"PMI\", ascending=False)\n",
    "               .drop_duplicates(subset=[\"token\"], keep=\"first\"))\n",
    "\n",
    "# === Bar charts: top-K per label (negative / neutral / positive) ===\n",
    "labels_in_order = [\"negative\", \"neutral\", \"positive\"]  # keeps columns aligned visually\n",
    "fig, axes = plt.subplots(1, len(labels_in_order), figsize=(14, 4), sharey=True)\n",
    "\n",
    "for ax, lbl in zip(axes, labels_in_order):\n",
    "    sub = cands_clean[cands_clean[\"label\"] == lbl]\n",
    "    top = sub.nlargest(TOP_K_PLOT, \"PMI\").iloc[::-1]  # reverse so biggest is at top\n",
    "    sns.barplot(data=top, x=\"PMI\", y=\"token\", ax=ax, color=\"#3b82f6\")\n",
    "    ax.set_title(f\"Top PMI: {lbl}\", fontsize=11)\n",
    "    ax.set_xlabel(\"PMI\", fontsize=10)\n",
    "    ax.set_ylabel(\"token\" if ax is axes[0] else \"\")\n",
    "    # smaller ticklabels to avoid overlap\n",
    "    ax.tick_params(axis=\"y\", labelsize=8)\n",
    "    ax.tick_params(axis=\"x\", labelsize=8)\n",
    "\n",
    "plt.tight_layout()\n",
    "plt.subplots_adjust(left=0.22)  # more room for token labels\n",
    "plt.savefig(RESULTS / \"fig_top_pmi_terms.png\", dpi=150)\n",
    "\n",
    "#  ===Agreement pie (match vs mismatch)===\n",
    "try:\n",
    "    counts = merged_en[\"agreement\"].value_counts(dropna=False)\n",
    "    plt.figure(figsize=(4.2, 4.2))\n",
    "    plt.pie(counts.values,\n",
    "            labels=counts.index.astype(str),\n",
    "            autopct=\"%1.1f%%\",\n",
    "            colors=[\"#10b981\", \"#ef4444\", \"#9ca3af\"])\n",
    "    plt.title(\"Agreement (Corpus vs Lexicon)\", fontsize=11)\n",
    "    plt.tight_layout()\n",
    "    plt.savefig(RESULTS / \"fig_agreement_pie.png\", dpi=150)\n",
    "    print(\"Saved figures →\", RESULTS)\n",
    "except Exception as e:\n",
    "    print(\"Skipping pie chart (need merged_en):\", e)\n",
    "\n",
    "# Deliverables :\n",
    "for p in [\n",
    "    RESULTS/\"pmi_candidates.csv\",\n",
    "    RESULTS/\"pmi_terms_with_english.csv\",\n",
    "    RESULTS/\"corpus_vs_lexicon_matches_enpivot.csv\",\n",
    "    RESULTS/\"rag_review_queue_enpivot.csv\",\n",
    "    RESULTS/\"fig_top_pmi_terms.png\",\n",
    "    RESULTS/\"fig_agreement_pie.png\",\n",
    "]:\n",
    "    print((\"YES\" if p.exists() else \"NO\"), p)"
   ]
  }
 ],
 "metadata": {
  "kernelspec": {
   "display_name": "Python 3",
   "language": "python",
   "name": "python3"
  },
  "language_info": {
   "codemirror_mode": {
    "name": "ipython",
    "version": 3
   },
   "file_extension": ".py",
   "mimetype": "text/x-python",
   "name": "python",
   "nbconvert_exporter": "python",
   "pygments_lexer": "ipython3",
   "version": "3.12.2"
  }
 },
 "nbformat": 4,
 "nbformat_minor": 5
}
