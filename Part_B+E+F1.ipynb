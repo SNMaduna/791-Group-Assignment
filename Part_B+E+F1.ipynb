{
 "cells": [
  {
   "cell_type": "code",
   "execution_count": null,
   "id": "4b0cc282-f9cc-45b9-807b-ff7fd5bf784b",
   "metadata": {},
   "outputs": [],
   "source": [
    "#PART B + PART E (PARTIAL) + PART F"
   ]
  },
  {
   "cell_type": "code",
   "execution_count": null,
   "id": "9850e6ab",
   "metadata": {},
   "outputs": [],
   "source": [
    "%pip install -q google-cloud-translate==3.15.3 protobuf==4.25.3"
   ]
  },
  {
   "cell_type": "code",
   "execution_count": 1,
   "id": "3e972abe-881f-4eec-a359-85bd4fc05d38",
   "metadata": {},
   "outputs": [
    {
     "name": "stdout",
     "output_type": "stream",
     "text": [
      "python-dotenv successfully installed. Continue to run the next cell.\n"
     ]
    }
   ],
   "source": [
    "# Install python-dotenv (quietly), then import and continue\n",
    "import sys, subprocess\n",
    "subprocess.check_call([sys.executable, \"-m\", \"pip\", \"install\", \"-q\", \"python-dotenv\"])\n",
    "\n",
    "print(\"python-dotenv successfully installed. Continue to run the next cell.\")\n"
   ]
  },
  {
   "cell_type": "code",
   "execution_count": 2,
   "id": "10b05851-0b4a-4bf7-b941-098af0f4d508",
   "metadata": {},
   "outputs": [
    {
     "name": "stdout",
     "output_type": "stream",
     "text": [
      "Kernel Python: /Library/Frameworks/Python.framework/Versions/3.13/bin/python3\n",
      "GOOGLE_CLOUD_PROJECT = None\n",
      "GOOGLE_APPLICATION_CREDENTIALS = None\n",
      "Key file exists? -> None\n",
      "google-cloud-translate import: OK\n"
     ]
    }
   ],
   "source": [
    "# Sanity check to see if Google API Translate is successfully installed in the kernel\n",
    "import os, pathlib, sys, json, importlib\n",
    "\n",
    "print(\"Kernel Python:\", sys.executable)  # make sure this matches your conda env \n",
    "print(\"GOOGLE_CLOUD_PROJECT =\", os.getenv(\"GOOGLE_CLOUD_PROJECT\"))\n",
    "key = os.getenv(\"GOOGLE_APPLICATION_CREDENTIALS\")\n",
    "print(\"GOOGLE_APPLICATION_CREDENTIALS =\", key)\n",
    "print(\"Key file exists? ->\", (pathlib.Path(key).exists() if key else None))\n",
    "\n",
    "# Optional check of the key to confirm project_id\n",
    "if key and pathlib.Path(key).exists():\n",
    "    try:\n",
    "        info = json.load(open(key))\n",
    "        print(\"Key project_id =\", info.get(\"project_id\"))\n",
    "    except Exception as e:\n",
    "        print(\"Couldn't read key JSON:\", e)\n",
    "\n",
    "# Check the library is installed in THIS kernel\n",
    "try:\n",
    "    import google.cloud.translate_v3 as translate\n",
    "    print(\"google-cloud-translate import: OK\")\n",
    "except Exception as e:\n",
    "    print(\"google-cloud-translate import error:\", e)\n"
   ]
  },
  {
   "cell_type": "code",
   "execution_count": 3,
   "id": "411bd002-cca2-41b4-994b-c2f58b4fc2e4",
   "metadata": {},
   "outputs": [
    {
     "name": "stdout",
     "output_type": "stream",
     "text": [
      "Set env vars in-process; re-run the translator guard cell now.\n"
     ]
    }
   ],
   "source": [
    "\n",
    "\n",
    "import os, pathlib, sys, subprocess\n",
    "\n",
    "os.environ[\"GOOGLE_CLOUD_PROJECT\"] = \"inf791-translate\"\n",
    "os.environ[\"GOOGLE_APPLICATION_CREDENTIALS\"] = \"/home/taongashe-muzvidziwa/Downloads/inf791-translate-9d9fa523e40e.json\"\n",
    "\n",
    "# (re)install client in this kernel if needed\n",
    "try:\n",
    "    import google.cloud.translate_v3 as translate\n",
    "except Exception:\n",
    "    subprocess.check_call([sys.executable, \"-m\", \"pip\", \"install\", \"-q\", \"google-cloud-translate==3.15.3\", \"protobuf==4.25.3\"])\n",
    "    import google.cloud.translate_v3 as translate\n",
    "\n",
    "print(\"Set env vars in-process; re-run the translator guard cell now.\")\n"
   ]
  },
  {
   "cell_type": "code",
   "execution_count": 18,
   "id": "7041f981-2886-45ad-bde7-5dd6f023280c",
   "metadata": {},
   "outputs": [
    {
     "name": "stdout",
     "output_type": "stream",
     "text": [
      "No .env file found (running in fallback mode)\n",
      "ROOT: /Users/anouk/Downloads/791-Group-Assignment\n",
      "Data folder → True\n",
      "Cache folder → True\n",
      "Results folder → True\n",
      "Bootstrap OK\n"
     ]
    }
   ],
   "source": [
    "# Bootstrap environment and folders \n",
    "import os, pathlib, pandas as pd\n",
    "\n",
    "ROOT = pathlib.Path.cwd()\n",
    "DATA = ROOT / \"data\"\n",
    "CACHE = ROOT / \"cache\"\n",
    "RESULTS = ROOT / \"results\"\n",
    "\n",
    "for p in (DATA, CACHE, RESULTS):\n",
    "    p.mkdir(exist_ok=True)\n",
    "\n",
    "# Optional: load .env if available\n",
    "from dotenv import load_dotenv\n",
    "if (ROOT / \".env\").exists():\n",
    "    load_dotenv(ROOT / \".env\")\n",
    "    print(\"Loaded .env successfully\")\n",
    "else:\n",
    "    print(\"No .env file found (running in fallback mode)\")\n",
    "\n",
    "print(f\"ROOT: {ROOT}\")\n",
    "print(\"Data folder →\", DATA.exists())\n",
    "print(\"Cache folder →\", CACHE.exists())\n",
    "print(\"Results folder →\", RESULTS.exists())\n",
    "\n",
    "print(\"Bootstrap OK\")\n"
   ]
  },
  {
   "cell_type": "code",
   "execution_count": 19,
   "id": "2f025ce7-7dec-4cd3-a0eb-5cc781391e61",
   "metadata": {},
   "outputs": [
    {
     "name": "stdout",
     "output_type": "stream",
     "text": [
      "No Google credentials found, using Deep-Translator (free API)\n",
      "Translator ready | Mode: Deep-Translator (free)\n"
     ]
    }
   ],
   "source": [
    "# Translator guard with automatic fallback\n",
    "import os, sys, subprocess, pathlib\n",
    "\n",
    "# try to see if user already set google cloud creds\n",
    "GOOGLE_PROJECT = os.getenv(\"GOOGLE_CLOUD_PROJECT\", \"\").strip()\n",
    "GOOGLE_KEY     = os.getenv(\"GOOGLE_APPLICATION_CREDENTIALS\", \"\").strip()\n",
    "\n",
    "USE_GOOGLE_API = False\n",
    "USE_DEEP_TRANS = False\n",
    "\n",
    "# check if google credentials exist\n",
    "if GOOGLE_PROJECT and GOOGLE_KEY and pathlib.Path(GOOGLE_KEY).exists():\n",
    "    try:\n",
    "        from google.cloud import translate_v3 as translate\n",
    "        USE_GOOGLE_API = True\n",
    "        print(\"Using official Google Cloud Translate API\")\n",
    "    except Exception:\n",
    "        print(\"Google Cloud library missing — falling back to deep-translator\")\n",
    "else:\n",
    "    print(\"No Google credentials found, using Deep-Translator (free API)\")\n",
    "\n",
    "# install deep-translator if missing\n",
    "try:\n",
    "    from deep_translator import GoogleTranslator\n",
    "    USE_DEEP_TRANS = not USE_GOOGLE_API\n",
    "except ImportError:\n",
    "    subprocess.check_call([sys.executable, \"-m\", \"pip\", \"install\", \"-q\", \"deep-translator\"])\n",
    "    from deep_translator import GoogleTranslator\n",
    "    USE_DEEP_TRANS = not USE_GOOGLE_API\n",
    "\n",
    "def translate_texts(texts, target=\"en\", source=\"auto\"):\n",
    "    \"\"\"Translates a list of words either through Google Cloud or Deep-Translator.\"\"\"\n",
    "    if not texts:\n",
    "        return []\n",
    "    results = []\n",
    "    if USE_GOOGLE_API:\n",
    "        from google.cloud import translate_v3 as translate\n",
    "        client = translate.TranslationServiceClient()\n",
    "        parent = f\"projects/{GOOGLE_PROJECT}/locations/global\"\n",
    "        for t in texts:\n",
    "            try:\n",
    "                resp = client.translate_text(contents=[t], target_language_code=target, parent=parent)\n",
    "                results.append(resp.translations[0].translated_text)\n",
    "            except Exception as e:\n",
    "                print(\"GCP error, keeping original:\", t, \"-\", str(e)[:80])\n",
    "                results.append(t)\n",
    "    else:\n",
    "        tr = GoogleTranslator(source=source, target=target)\n",
    "        for t in texts:\n",
    "            try:\n",
    "                results.append(tr.translate(t))\n",
    "            except Exception:\n",
    "                results.append(t)\n",
    "    return results\n",
    "\n",
    "print(\"Translator ready\",\n",
    "      \"| Mode:\", \"Google API\" if USE_GOOGLE_API else \"Deep-Translator (free)\")\n"
   ]
  },
  {
   "cell_type": "code",
   "execution_count": 15,
   "id": "a44ed1ee-678b-4cfa-b4a3-f90413c12d97",
   "metadata": {},
   "outputs": [
    {
     "name": "stdout",
     "output_type": "stream",
     "text": [
      "✅ Inputs OK\n",
      "Lexicon: expanded_lexicon_v4.xlsx\n",
      "Corpus:  data/shona_senti.csv\n"
     ]
    }
   ],
   "source": [
    "#Parameters and inputs\n",
    "import pandas as pd\n",
    "import numpy as np\n",
    "\n",
    "BASE_LEXICON_XLSX = \"expanded_lexicon_v4.xlsx\"\n",
    "LEX_WORK          = \"expanded_lexicon_v4_working.xlsx\"\n",
    "CORPUS_CSV        = DATA / \"shona_senti.csv\"\n",
    "\n",
    "MIN_TOKEN_FREQ    = 5\n",
    "TOP_N_PER_CLASS   = 300\n",
    "\n",
    "assert (ROOT/BASE_LEXICON_XLSX).exists(), \"Missing expanded_lexicon_v4.xlsx in project root.\"\n",
    "assert (CORPUS_CSV).exists(), \"Missing data/shona_senti.csv\"\n",
    "\n",
    "print(\"Inputs OK\")\n"
   ]
  },
  {
   "cell_type": "code",
   "execution_count": 7,
   "id": "4e227f8a-a4a2-4fce-b20a-4f9665757bf7",
   "metadata": {},
   "outputs": [
    {
     "name": "stdout",
     "output_type": "stream",
     "text": [
      "✅ Using Deep Translator (Google Translate API)\n",
      "✅ Using corpus: data/shona_senti.csv\n",
      "🚀 Running Google Translate hybrid correction safely...\n"
     ]
    },
    {
     "name": "stderr",
     "output_type": "stream",
     "text": [
      "Translating...:   1%|▎                    | 199/15959 [02:42<2:52:08,  1.53it/s]"
     ]
    },
    {
     "name": "stdout",
     "output_type": "stream",
     "text": [
      "💾 Auto-saved progress at row 200/15959\n"
     ]
    },
    {
     "name": "stderr",
     "output_type": "stream",
     "text": [
      "Translating...:   3%|▌                    | 399/15959 [05:20<3:17:55,  1.31it/s]"
     ]
    },
    {
     "name": "stdout",
     "output_type": "stream",
     "text": [
      "💾 Auto-saved progress at row 400/15959\n"
     ]
    },
    {
     "name": "stderr",
     "output_type": "stream",
     "text": [
      "Translating...:   4%|▊                    | 599/15959 [07:57<1:59:55,  2.13it/s]"
     ]
    },
    {
     "name": "stdout",
     "output_type": "stream",
     "text": [
      "💾 Auto-saved progress at row 600/15959\n"
     ]
    },
    {
     "name": "stderr",
     "output_type": "stream",
     "text": [
      "Translating...:   5%|█                    | 799/15959 [10:42<2:10:44,  1.93it/s]"
     ]
    },
    {
     "name": "stdout",
     "output_type": "stream",
     "text": [
      "💾 Auto-saved progress at row 800/15959\n"
     ]
    },
    {
     "name": "stderr",
     "output_type": "stream",
     "text": [
      "Translating...:   6%|█▎                   | 999/15959 [13:43<2:38:06,  1.58it/s]"
     ]
    },
    {
     "name": "stdout",
     "output_type": "stream",
     "text": [
      "💾 Auto-saved progress at row 1000/15959\n"
     ]
    },
    {
     "name": "stderr",
     "output_type": "stream",
     "text": [
      "Translating...:   8%|█▌                  | 1199/15959 [16:38<2:16:41,  1.80it/s]"
     ]
    },
    {
     "name": "stdout",
     "output_type": "stream",
     "text": [
      "💾 Auto-saved progress at row 1200/15959\n"
     ]
    },
    {
     "name": "stderr",
     "output_type": "stream",
     "text": [
      "Translating...:   9%|█▊                  | 1399/15959 [19:39<2:08:57,  1.88it/s]"
     ]
    },
    {
     "name": "stdout",
     "output_type": "stream",
     "text": [
      "💾 Auto-saved progress at row 1400/15959\n"
     ]
    },
    {
     "name": "stderr",
     "output_type": "stream",
     "text": [
      "Translating...:  10%|██                  | 1599/15959 [22:29<2:03:49,  1.93it/s]"
     ]
    },
    {
     "name": "stdout",
     "output_type": "stream",
     "text": [
      "💾 Auto-saved progress at row 1600/15959\n"
     ]
    },
    {
     "name": "stderr",
     "output_type": "stream",
     "text": [
      "Translating...:  11%|██▎                 | 1799/15959 [25:15<2:55:58,  1.34it/s]"
     ]
    },
    {
     "name": "stdout",
     "output_type": "stream",
     "text": [
      "💾 Auto-saved progress at row 1800/15959\n"
     ]
    },
    {
     "name": "stderr",
     "output_type": "stream",
     "text": [
      "Translating...:  13%|██▌                 | 1999/15959 [27:57<2:30:42,  1.54it/s]"
     ]
    },
    {
     "name": "stdout",
     "output_type": "stream",
     "text": [
      "💾 Auto-saved progress at row 2000/15959\n"
     ]
    },
    {
     "name": "stderr",
     "output_type": "stream",
     "text": [
      "Translating...:  14%|██▊                 | 2199/15959 [30:45<3:41:26,  1.04it/s]"
     ]
    },
    {
     "name": "stdout",
     "output_type": "stream",
     "text": [
      "💾 Auto-saved progress at row 2200/15959\n"
     ]
    },
    {
     "name": "stderr",
     "output_type": "stream",
     "text": [
      "Translating...:  15%|███                 | 2399/15959 [33:38<3:32:06,  1.07it/s]"
     ]
    },
    {
     "name": "stdout",
     "output_type": "stream",
     "text": [
      "💾 Auto-saved progress at row 2400/15959\n"
     ]
    },
    {
     "name": "stderr",
     "output_type": "stream",
     "text": [
      "Translating...:  16%|███▎                | 2599/15959 [36:12<2:24:27,  1.54it/s]"
     ]
    },
    {
     "name": "stdout",
     "output_type": "stream",
     "text": [
      "💾 Auto-saved progress at row 2600/15959\n"
     ]
    },
    {
     "name": "stderr",
     "output_type": "stream",
     "text": [
      "Translating...:  18%|███▌                | 2799/15959 [39:07<3:46:24,  1.03s/it]"
     ]
    },
    {
     "name": "stdout",
     "output_type": "stream",
     "text": [
      "💾 Auto-saved progress at row 2800/15959\n"
     ]
    },
    {
     "name": "stderr",
     "output_type": "stream",
     "text": [
      "Translating...:  19%|███▊                | 2999/15959 [41:32<3:23:24,  1.06it/s]"
     ]
    },
    {
     "name": "stdout",
     "output_type": "stream",
     "text": [
      "💾 Auto-saved progress at row 3000/15959\n"
     ]
    },
    {
     "name": "stderr",
     "output_type": "stream",
     "text": [
      "Translating...:  20%|████                | 3199/15959 [44:10<3:49:06,  1.08s/it]"
     ]
    },
    {
     "name": "stdout",
     "output_type": "stream",
     "text": [
      "💾 Auto-saved progress at row 3200/15959\n"
     ]
    },
    {
     "name": "stderr",
     "output_type": "stream",
     "text": [
      "Translating...:  21%|████▎               | 3399/15959 [47:11<2:52:43,  1.21it/s]"
     ]
    },
    {
     "name": "stdout",
     "output_type": "stream",
     "text": [
      "💾 Auto-saved progress at row 3400/15959\n"
     ]
    },
    {
     "name": "stderr",
     "output_type": "stream",
     "text": [
      "Translating...:  23%|████▌               | 3599/15959 [49:52<1:40:43,  2.05it/s]"
     ]
    },
    {
     "name": "stdout",
     "output_type": "stream",
     "text": [
      "💾 Auto-saved progress at row 3600/15959\n"
     ]
    },
    {
     "name": "stderr",
     "output_type": "stream",
     "text": [
      "Translating...:  24%|████▊               | 3799/15959 [52:41<2:21:47,  1.43it/s]"
     ]
    },
    {
     "name": "stdout",
     "output_type": "stream",
     "text": [
      "💾 Auto-saved progress at row 3800/15959\n"
     ]
    },
    {
     "name": "stderr",
     "output_type": "stream",
     "text": [
      "Translating...:  25%|█████               | 3999/15959 [55:39<1:45:45,  1.88it/s]"
     ]
    },
    {
     "name": "stdout",
     "output_type": "stream",
     "text": [
      "💾 Auto-saved progress at row 4000/15959\n"
     ]
    },
    {
     "name": "stderr",
     "output_type": "stream",
     "text": [
      "Translating...:  26%|█████▎              | 4199/15959 [58:20<2:33:25,  1.28it/s]"
     ]
    },
    {
     "name": "stdout",
     "output_type": "stream",
     "text": [
      "💾 Auto-saved progress at row 4200/15959\n"
     ]
    },
    {
     "name": "stderr",
     "output_type": "stream",
     "text": [
      "Translating...:  28%|████▉             | 4399/15959 [1:01:13<2:12:00,  1.46it/s]"
     ]
    },
    {
     "name": "stdout",
     "output_type": "stream",
     "text": [
      "💾 Auto-saved progress at row 4400/15959\n"
     ]
    },
    {
     "name": "stderr",
     "output_type": "stream",
     "text": [
      "Translating...:  29%|█████▏            | 4599/15959 [1:03:53<1:49:08,  1.73it/s]"
     ]
    },
    {
     "name": "stdout",
     "output_type": "stream",
     "text": [
      "💾 Auto-saved progress at row 4600/15959\n"
     ]
    },
    {
     "name": "stderr",
     "output_type": "stream",
     "text": [
      "Translating...:  30%|█████▍            | 4799/15959 [1:06:41<1:45:11,  1.77it/s]"
     ]
    },
    {
     "name": "stdout",
     "output_type": "stream",
     "text": [
      "💾 Auto-saved progress at row 4800/15959\n"
     ]
    },
    {
     "name": "stderr",
     "output_type": "stream",
     "text": [
      "Translating...:  31%|█████▋            | 4999/15959 [1:09:22<1:55:53,  1.58it/s]"
     ]
    },
    {
     "name": "stdout",
     "output_type": "stream",
     "text": [
      "💾 Auto-saved progress at row 5000/15959\n"
     ]
    },
    {
     "name": "stderr",
     "output_type": "stream",
     "text": [
      "Translating...:  33%|█████▊            | 5199/15959 [1:12:17<2:33:44,  1.17it/s]"
     ]
    },
    {
     "name": "stdout",
     "output_type": "stream",
     "text": [
      "💾 Auto-saved progress at row 5200/15959\n"
     ]
    },
    {
     "name": "stderr",
     "output_type": "stream",
     "text": [
      "Translating...:  34%|██████            | 5399/15959 [1:15:17<2:14:00,  1.31it/s]"
     ]
    },
    {
     "name": "stdout",
     "output_type": "stream",
     "text": [
      "💾 Auto-saved progress at row 5400/15959\n"
     ]
    },
    {
     "name": "stderr",
     "output_type": "stream",
     "text": [
      "Translating...:  35%|██████▎           | 5599/15959 [1:17:50<1:40:27,  1.72it/s]"
     ]
    },
    {
     "name": "stdout",
     "output_type": "stream",
     "text": [
      "💾 Auto-saved progress at row 5600/15959\n"
     ]
    },
    {
     "name": "stderr",
     "output_type": "stream",
     "text": [
      "Translating...:  36%|██████▌           | 5799/15959 [1:20:37<1:50:37,  1.53it/s]"
     ]
    },
    {
     "name": "stdout",
     "output_type": "stream",
     "text": [
      "💾 Auto-saved progress at row 5800/15959\n"
     ]
    },
    {
     "name": "stderr",
     "output_type": "stream",
     "text": [
      "Translating...:  38%|██████▊           | 5999/15959 [1:23:34<1:55:29,  1.44it/s]"
     ]
    },
    {
     "name": "stdout",
     "output_type": "stream",
     "text": [
      "💾 Auto-saved progress at row 6000/15959\n"
     ]
    },
    {
     "name": "stderr",
     "output_type": "stream",
     "text": [
      "Translating...:  39%|██████▉           | 6199/15959 [1:26:26<3:26:23,  1.27s/it]"
     ]
    },
    {
     "name": "stdout",
     "output_type": "stream",
     "text": [
      "💾 Auto-saved progress at row 6200/15959\n"
     ]
    },
    {
     "name": "stderr",
     "output_type": "stream",
     "text": [
      "Translating...:  40%|███████▏          | 6399/15959 [1:29:18<1:41:36,  1.57it/s]"
     ]
    },
    {
     "name": "stdout",
     "output_type": "stream",
     "text": [
      "💾 Auto-saved progress at row 6400/15959\n"
     ]
    },
    {
     "name": "stderr",
     "output_type": "stream",
     "text": [
      "Translating...:  41%|███████▍          | 6599/15959 [1:31:54<2:39:03,  1.02s/it]"
     ]
    },
    {
     "name": "stdout",
     "output_type": "stream",
     "text": [
      "💾 Auto-saved progress at row 6600/15959\n"
     ]
    },
    {
     "name": "stderr",
     "output_type": "stream",
     "text": [
      "Translating...:  43%|███████▋          | 6799/15959 [1:34:40<2:01:44,  1.25it/s]"
     ]
    },
    {
     "name": "stdout",
     "output_type": "stream",
     "text": [
      "💾 Auto-saved progress at row 6800/15959\n"
     ]
    },
    {
     "name": "stderr",
     "output_type": "stream",
     "text": [
      "Translating...:  44%|███████▉          | 6999/15959 [1:37:05<1:16:33,  1.95it/s]"
     ]
    },
    {
     "name": "stdout",
     "output_type": "stream",
     "text": [
      "💾 Auto-saved progress at row 7000/15959\n"
     ]
    },
    {
     "name": "stderr",
     "output_type": "stream",
     "text": [
      "Translating...:  45%|████████          | 7199/15959 [1:39:47<1:31:01,  1.60it/s]"
     ]
    },
    {
     "name": "stdout",
     "output_type": "stream",
     "text": [
      "💾 Auto-saved progress at row 7200/15959\n"
     ]
    },
    {
     "name": "stderr",
     "output_type": "stream",
     "text": [
      "Translating...:  46%|████████▎         | 7399/15959 [1:42:26<1:20:17,  1.78it/s]"
     ]
    },
    {
     "name": "stdout",
     "output_type": "stream",
     "text": [
      "💾 Auto-saved progress at row 7400/15959\n"
     ]
    },
    {
     "name": "stderr",
     "output_type": "stream",
     "text": [
      "Translating...:  48%|████████▌         | 7599/15959 [1:45:11<1:15:57,  1.83it/s]"
     ]
    },
    {
     "name": "stdout",
     "output_type": "stream",
     "text": [
      "💾 Auto-saved progress at row 7600/15959\n"
     ]
    },
    {
     "name": "stderr",
     "output_type": "stream",
     "text": [
      "Translating...:  49%|████████▊         | 7799/15959 [1:48:03<2:00:53,  1.12it/s]"
     ]
    },
    {
     "name": "stdout",
     "output_type": "stream",
     "text": [
      "💾 Auto-saved progress at row 7800/15959\n"
     ]
    },
    {
     "name": "stderr",
     "output_type": "stream",
     "text": [
      "Translating...:  50%|█████████         | 7999/15959 [1:51:36<1:23:00,  1.60it/s]"
     ]
    },
    {
     "name": "stdout",
     "output_type": "stream",
     "text": [
      "💾 Auto-saved progress at row 8000/15959\n"
     ]
    },
    {
     "name": "stderr",
     "output_type": "stream",
     "text": [
      "Translating...:  51%|█████████▏        | 8199/15959 [1:54:30<1:58:14,  1.09it/s]"
     ]
    },
    {
     "name": "stdout",
     "output_type": "stream",
     "text": [
      "💾 Auto-saved progress at row 8200/15959\n"
     ]
    },
    {
     "name": "stderr",
     "output_type": "stream",
     "text": [
      "Translating...:  53%|█████████▍        | 8399/15959 [1:57:23<1:49:36,  1.15it/s]"
     ]
    },
    {
     "name": "stdout",
     "output_type": "stream",
     "text": [
      "💾 Auto-saved progress at row 8400/15959\n"
     ]
    },
    {
     "name": "stderr",
     "output_type": "stream",
     "text": [
      "Translating...:  54%|█████████▋        | 8599/15959 [2:00:15<1:36:21,  1.27it/s]"
     ]
    },
    {
     "name": "stdout",
     "output_type": "stream",
     "text": [
      "💾 Auto-saved progress at row 8600/15959\n"
     ]
    },
    {
     "name": "stderr",
     "output_type": "stream",
     "text": [
      "Translating...:  55%|█████████▉        | 8799/15959 [2:03:07<1:43:38,  1.15it/s]"
     ]
    },
    {
     "name": "stdout",
     "output_type": "stream",
     "text": [
      "💾 Auto-saved progress at row 8800/15959\n"
     ]
    },
    {
     "name": "stderr",
     "output_type": "stream",
     "text": [
      "Translating...:  56%|██████████▏       | 8999/15959 [2:05:50<1:00:07,  1.93it/s]"
     ]
    },
    {
     "name": "stdout",
     "output_type": "stream",
     "text": [
      "💾 Auto-saved progress at row 9000/15959\n"
     ]
    },
    {
     "name": "stderr",
     "output_type": "stream",
     "text": [
      "Translating...:  58%|██████████▍       | 9199/15959 [2:08:39<1:48:19,  1.04it/s]"
     ]
    },
    {
     "name": "stdout",
     "output_type": "stream",
     "text": [
      "💾 Auto-saved progress at row 9200/15959\n"
     ]
    },
    {
     "name": "stderr",
     "output_type": "stream",
     "text": [
      "Translating...:  59%|██████████▌       | 9399/15959 [2:11:20<1:22:40,  1.32it/s]"
     ]
    },
    {
     "name": "stdout",
     "output_type": "stream",
     "text": [
      "💾 Auto-saved progress at row 9400/15959\n"
     ]
    },
    {
     "name": "stderr",
     "output_type": "stream",
     "text": [
      "Translating...:  60%|██████████▊       | 9599/15959 [2:13:54<1:50:48,  1.05s/it]"
     ]
    },
    {
     "name": "stdout",
     "output_type": "stream",
     "text": [
      "💾 Auto-saved progress at row 9600/15959\n"
     ]
    },
    {
     "name": "stderr",
     "output_type": "stream",
     "text": [
      "Translating...:  61%|████████████▎       | 9799/15959 [2:16:35<59:43,  1.72it/s]"
     ]
    },
    {
     "name": "stdout",
     "output_type": "stream",
     "text": [
      "💾 Auto-saved progress at row 9800/15959\n"
     ]
    },
    {
     "name": "stderr",
     "output_type": "stream",
     "text": [
      "Translating...:  63%|███████████▎      | 9999/15959 [2:19:22<1:28:13,  1.13it/s]"
     ]
    },
    {
     "name": "stdout",
     "output_type": "stream",
     "text": [
      "💾 Auto-saved progress at row 10000/15959\n"
     ]
    },
    {
     "name": "stderr",
     "output_type": "stream",
     "text": [
      "Translating...:  64%|██████████▊      | 10199/15959 [2:21:58<1:29:39,  1.07it/s]"
     ]
    },
    {
     "name": "stdout",
     "output_type": "stream",
     "text": [
      "💾 Auto-saved progress at row 10200/15959\n"
     ]
    },
    {
     "name": "stderr",
     "output_type": "stream",
     "text": [
      "Translating...:  65%|███████████      | 10399/15959 [2:24:31<1:30:34,  1.02it/s]"
     ]
    },
    {
     "name": "stdout",
     "output_type": "stream",
     "text": [
      "💾 Auto-saved progress at row 10400/15959\n"
     ]
    },
    {
     "name": "stderr",
     "output_type": "stream",
     "text": [
      "Translating...:  66%|████████████▌      | 10599/15959 [2:27:04<48:12,  1.85it/s]"
     ]
    },
    {
     "name": "stdout",
     "output_type": "stream",
     "text": [
      "💾 Auto-saved progress at row 10600/15959\n"
     ]
    },
    {
     "name": "stderr",
     "output_type": "stream",
     "text": [
      "Translating...:  68%|████████████▊      | 10799/15959 [2:29:35<58:23,  1.47it/s]"
     ]
    },
    {
     "name": "stdout",
     "output_type": "stream",
     "text": [
      "💾 Auto-saved progress at row 10800/15959\n"
     ]
    },
    {
     "name": "stderr",
     "output_type": "stream",
     "text": [
      "Translating...:  69%|███████████▋     | 10999/15959 [2:32:20<1:23:53,  1.01s/it]"
     ]
    },
    {
     "name": "stdout",
     "output_type": "stream",
     "text": [
      "💾 Auto-saved progress at row 11000/15959\n"
     ]
    },
    {
     "name": "stderr",
     "output_type": "stream",
     "text": [
      "Translating...:  70%|███████████▉     | 11199/15959 [2:35:04<1:20:34,  1.02s/it]"
     ]
    },
    {
     "name": "stdout",
     "output_type": "stream",
     "text": [
      "💾 Auto-saved progress at row 11200/15959\n"
     ]
    },
    {
     "name": "stderr",
     "output_type": "stream",
     "text": [
      "Translating...:  71%|████████████▏    | 11399/15959 [2:37:38<1:25:12,  1.12s/it]"
     ]
    },
    {
     "name": "stdout",
     "output_type": "stream",
     "text": [
      "💾 Auto-saved progress at row 11400/15959\n"
     ]
    },
    {
     "name": "stderr",
     "output_type": "stream",
     "text": [
      "Translating...:  73%|█████████████▊     | 11599/15959 [2:40:22<42:11,  1.72it/s]"
     ]
    },
    {
     "name": "stdout",
     "output_type": "stream",
     "text": [
      "💾 Auto-saved progress at row 11600/15959\n"
     ]
    },
    {
     "name": "stderr",
     "output_type": "stream",
     "text": [
      "Translating...:  74%|██████████████     | 11799/15959 [2:43:05<52:06,  1.33it/s]"
     ]
    },
    {
     "name": "stdout",
     "output_type": "stream",
     "text": [
      "💾 Auto-saved progress at row 11800/15959\n"
     ]
    },
    {
     "name": "stderr",
     "output_type": "stream",
     "text": [
      "Translating...:  75%|██████████████▎    | 11999/15959 [2:45:40<36:34,  1.80it/s]"
     ]
    },
    {
     "name": "stdout",
     "output_type": "stream",
     "text": [
      "💾 Auto-saved progress at row 12000/15959\n"
     ]
    },
    {
     "name": "stderr",
     "output_type": "stream",
     "text": [
      "Translating...:  76%|██████████████▌    | 12199/15959 [2:48:16<41:42,  1.50it/s]"
     ]
    },
    {
     "name": "stdout",
     "output_type": "stream",
     "text": [
      "💾 Auto-saved progress at row 12200/15959\n"
     ]
    },
    {
     "name": "stderr",
     "output_type": "stream",
     "text": [
      "Translating...:  78%|██████████████▊    | 12399/15959 [2:51:00<52:13,  1.14it/s]"
     ]
    },
    {
     "name": "stdout",
     "output_type": "stream",
     "text": [
      "💾 Auto-saved progress at row 12400/15959\n"
     ]
    },
    {
     "name": "stderr",
     "output_type": "stream",
     "text": [
      "Translating...:  79%|██████████████▉    | 12599/15959 [2:53:51<31:12,  1.79it/s]"
     ]
    },
    {
     "name": "stdout",
     "output_type": "stream",
     "text": [
      "💾 Auto-saved progress at row 12600/15959\n"
     ]
    },
    {
     "name": "stderr",
     "output_type": "stream",
     "text": [
      "Translating...:  80%|███████████████▏   | 12799/15959 [2:56:27<48:33,  1.08it/s]"
     ]
    },
    {
     "name": "stdout",
     "output_type": "stream",
     "text": [
      "💾 Auto-saved progress at row 12800/15959\n"
     ]
    },
    {
     "name": "stderr",
     "output_type": "stream",
     "text": [
      "Translating...:  81%|███████████████▍   | 12999/15959 [2:59:16<27:02,  1.82it/s]"
     ]
    },
    {
     "name": "stdout",
     "output_type": "stream",
     "text": [
      "💾 Auto-saved progress at row 13000/15959\n"
     ]
    },
    {
     "name": "stderr",
     "output_type": "stream",
     "text": [
      "Translating...:  83%|███████████████▋   | 13199/15959 [3:02:14<34:36,  1.33it/s]"
     ]
    },
    {
     "name": "stdout",
     "output_type": "stream",
     "text": [
      "💾 Auto-saved progress at row 13200/15959\n"
     ]
    },
    {
     "name": "stderr",
     "output_type": "stream",
     "text": [
      "Translating...:  84%|███████████████▉   | 13399/15959 [3:05:02<37:56,  1.12it/s]"
     ]
    },
    {
     "name": "stdout",
     "output_type": "stream",
     "text": [
      "💾 Auto-saved progress at row 13400/15959\n"
     ]
    },
    {
     "name": "stderr",
     "output_type": "stream",
     "text": [
      "Translating...:  85%|████████████████▏  | 13599/15959 [3:07:45<37:20,  1.05it/s]"
     ]
    },
    {
     "name": "stdout",
     "output_type": "stream",
     "text": [
      "💾 Auto-saved progress at row 13600/15959\n"
     ]
    },
    {
     "name": "stderr",
     "output_type": "stream",
     "text": [
      "Translating...:  86%|████████████████▍  | 13799/15959 [3:10:43<31:30,  1.14it/s]"
     ]
    },
    {
     "name": "stdout",
     "output_type": "stream",
     "text": [
      "💾 Auto-saved progress at row 13800/15959\n"
     ]
    },
    {
     "name": "stderr",
     "output_type": "stream",
     "text": [
      "Translating...:  88%|████████████████▋  | 13999/15959 [3:13:49<34:50,  1.07s/it]"
     ]
    },
    {
     "name": "stdout",
     "output_type": "stream",
     "text": [
      "💾 Auto-saved progress at row 14000/15959\n"
     ]
    },
    {
     "name": "stderr",
     "output_type": "stream",
     "text": [
      "Translating...:  89%|████████████████▉  | 14199/15959 [3:16:42<28:45,  1.02it/s]"
     ]
    },
    {
     "name": "stdout",
     "output_type": "stream",
     "text": [
      "💾 Auto-saved progress at row 14200/15959\n"
     ]
    },
    {
     "name": "stderr",
     "output_type": "stream",
     "text": [
      "Translating...:  90%|█████████████████▏ | 14399/15959 [3:19:44<30:28,  1.17s/it]"
     ]
    },
    {
     "name": "stdout",
     "output_type": "stream",
     "text": [
      "💾 Auto-saved progress at row 14400/15959\n"
     ]
    },
    {
     "name": "stderr",
     "output_type": "stream",
     "text": [
      "Translating...:  91%|█████████████████▍ | 14599/15959 [3:22:38<27:25,  1.21s/it]"
     ]
    },
    {
     "name": "stdout",
     "output_type": "stream",
     "text": [
      "💾 Auto-saved progress at row 14600/15959\n"
     ]
    },
    {
     "name": "stderr",
     "output_type": "stream",
     "text": [
      "Translating...:  93%|█████████████████▌ | 14799/15959 [3:25:25<13:07,  1.47it/s]"
     ]
    },
    {
     "name": "stdout",
     "output_type": "stream",
     "text": [
      "💾 Auto-saved progress at row 14800/15959\n"
     ]
    },
    {
     "name": "stderr",
     "output_type": "stream",
     "text": [
      "Translating...:  94%|█████████████████▊ | 14999/15959 [3:28:13<19:07,  1.20s/it]"
     ]
    },
    {
     "name": "stdout",
     "output_type": "stream",
     "text": [
      "💾 Auto-saved progress at row 15000/15959\n"
     ]
    },
    {
     "name": "stderr",
     "output_type": "stream",
     "text": [
      "Translating...:  95%|██████████████████ | 15199/15959 [3:31:16<14:34,  1.15s/it]"
     ]
    },
    {
     "name": "stdout",
     "output_type": "stream",
     "text": [
      "💾 Auto-saved progress at row 15200/15959\n"
     ]
    },
    {
     "name": "stderr",
     "output_type": "stream",
     "text": [
      "Translating...:  96%|██████████████████▎| 15399/15959 [3:34:16<07:54,  1.18it/s]"
     ]
    },
    {
     "name": "stdout",
     "output_type": "stream",
     "text": [
      "💾 Auto-saved progress at row 15400/15959\n"
     ]
    },
    {
     "name": "stderr",
     "output_type": "stream",
     "text": [
      "Translating...:  98%|██████████████████▌| 15599/15959 [3:37:16<05:58,  1.00it/s]"
     ]
    },
    {
     "name": "stdout",
     "output_type": "stream",
     "text": [
      "💾 Auto-saved progress at row 15600/15959\n"
     ]
    },
    {
     "name": "stderr",
     "output_type": "stream",
     "text": [
      "Translating...:  99%|██████████████████▊| 15799/15959 [3:40:10<02:54,  1.09s/it]"
     ]
    },
    {
     "name": "stdout",
     "output_type": "stream",
     "text": [
      "💾 Auto-saved progress at row 15800/15959\n"
     ]
    },
    {
     "name": "stderr",
     "output_type": "stream",
     "text": [
      "Translating...: 100%|███████████████████| 15959/15959 [3:42:44<00:00,  1.19it/s]\n"
     ]
    },
    {
     "name": "stdout",
     "output_type": "stream",
     "text": [
      "✅ Saved 14876 corrected text pairs for manual review.\n",
      "✅ Saved cleaned corpus → results/cleaned_corpus.csv\n",
      "Corpus shape: (15959, 6)\n",
      "Label distribution:\n",
      " label\n",
      "negative    7820\n",
      "positive    4744\n",
      "neutral     3395\n",
      "Name: count, dtype: int64\n",
      "📊 Computing PMI...\n"
     ]
    },
    {
     "name": "stderr",
     "output_type": "stream",
     "text": [
      "/var/folders/3y/whgys4hs6cg6lfjvpflpslcr0000gn/T/ipykernel_86638/1179519527.py:123: FutureWarning: DataFrameGroupBy.apply operated on the grouping columns. This behavior is deprecated, and in a future version of pandas the grouping columns will be excluded from the operation. Either pass `include_groups=False` to exclude the groupings or explicitly select the grouping columns after groupby to silence this warning.\n",
      "  .apply(lambda g: g.nlargest(TOP_N_PER_CLASS, \"PMI\"))\n"
     ]
    },
    {
     "name": "stdout",
     "output_type": "stream",
     "text": [
      "✅ Saved: results/pmi_candidates.csv (900, 5)\n",
      "Loaded working copy: expanded_lexicon_v4_working.xlsx\n",
      "✅ Lexicon setup complete.\n"
     ]
    }
   ],
   "source": [
    "# === PART E + F (Safe Unified Version) ===\n",
    "# Cleaning, Tokenising, Hybrid Correction (Google Translate), PMI, and Lexicon prep\n",
    "\n",
    "from pathlib import Path\n",
    "import re, math, time\n",
    "from collections import Counter, defaultdict\n",
    "from tqdm import tqdm\n",
    "import pandas as pd\n",
    "import numpy as np\n",
    "\n",
    "# === Google Translate (Deep Translator) ===\n",
    "try:\n",
    "    from deep_translator import GoogleTranslator\n",
    "    translator = GoogleTranslator(source=\"auto\", target=\"en\")\n",
    "    print(\"✅ Using Deep Translator (Google Translate API)\")\n",
    "except ImportError:\n",
    "    import sys, subprocess\n",
    "    subprocess.check_call([sys.executable, \"-m\", \"pip\", \"install\", \"-q\", \"deep-translator\"])\n",
    "    from deep_translator import GoogleTranslator\n",
    "    translator = GoogleTranslator(source=\"auto\", target=\"en\")\n",
    "    print(\"✅ Installed and using Deep Translator\")\n",
    "\n",
    "# === Paths and parameters ===\n",
    "ROOT = Path(\".\")\n",
    "DATA = ROOT / \"data\"\n",
    "RESULTS = ROOT / \"results\"\n",
    "RESULTS.mkdir(exist_ok=True)\n",
    "\n",
    "CORPUS_CSV = DATA / \"shona_senti.csv\"\n",
    "BASE_LEXICON_XLSX = ROOT / \"expanded_lexicon_v4.xlsx\"\n",
    "LEX_WORK = ROOT / \"expanded_lexicon_v4_working.xlsx\"\n",
    "\n",
    "MIN_TOKEN_FREQ = 5\n",
    "TOP_N_PER_CLASS = 300\n",
    "\n",
    "assert CORPUS_CSV.exists(), f\"❌ Missing file: {CORPUS_CSV}\"\n",
    "print(\"✅ Using corpus:\", CORPUS_CSV)\n",
    "\n",
    "# === Regex and cleaner ===\n",
    "PUNCT_RE = re.compile(r\"[\\.,!?:;\\-—_\\(\\)\\[\\]\\{\\}\\\"\\'`\\/\\\\]\")\n",
    "MULTISPACE_RE = re.compile(r\"\\s+\")\n",
    "\n",
    "def clean_text(s: str) -> str:\n",
    "    if not isinstance(s, str):\n",
    "        return \"\"\n",
    "    s = s.lower()\n",
    "    s = PUNCT_RE.sub(\" \", s)\n",
    "    s = MULTISPACE_RE.sub(\" \", s).strip()\n",
    "    return s\n",
    "\n",
    "def tokenize(s: str):\n",
    "    return [t for t in s.split() if t]\n",
    "\n",
    "# === SAFE Google Translation Correction (with auto-save) ===\n",
    "def safe_translate(text):\n",
    "    \"\"\"Translate text safely; return original if it fails.\"\"\"\n",
    "    try:\n",
    "        return translator.translate(text)\n",
    "    except Exception:\n",
    "        return text\n",
    "\n",
    "def hybrid_correction_batched(df, batch_size=200):\n",
    "    \"\"\"Process and save translation every N rows to avoid data loss.\"\"\"\n",
    "    translated = []\n",
    "    for i, text in enumerate(tqdm(df[\"text_clean\"], desc=\"Translating...\")):\n",
    "        corrected = safe_translate(text)\n",
    "        translated.append(corrected)\n",
    "\n",
    "        # auto-save every 200 rows\n",
    "        if (i + 1) % batch_size == 0:\n",
    "            df_partial = df.iloc[:i+1].copy()\n",
    "            df_partial[\"text_hybrid\"] = translated\n",
    "            df_partial.to_csv(\"auto_partial_translation.csv\", index=False)\n",
    "            print(f\"💾 Auto-saved progress at row {i+1}/{len(df)}\")\n",
    "            time.sleep(5)  # brief cooldown for API\n",
    "\n",
    "    return translated\n",
    "\n",
    "# === Load data ===\n",
    "df = pd.read_csv(CORPUS_CSV).dropna(subset=[\"text\", \"label\"])\n",
    "df[\"text_clean\"] = df[\"text\"].map(clean_text)\n",
    "\n",
    "print(\"🚀 Running Google Translate hybrid correction safely...\")\n",
    "df[\"text_hybrid\"] = hybrid_correction_batched(df)\n",
    "\n",
    "# === Save corrections for manual/native review ===\n",
    "review_df = df[df[\"text_clean\"] != df[\"text_hybrid\"]][[\"text_clean\", \"text_hybrid\"]]\n",
    "review_df.to_csv(\"review_queue_spelling.csv\", index=False)\n",
    "print(f\"✅ Saved {len(review_df)} corrected text pairs for manual review.\")\n",
    "\n",
    "# === Tokenisation ===\n",
    "df[\"tokens\"] = df[\"text_hybrid\"].map(tokenize)\n",
    "df.to_csv(RESULTS / \"cleaned_corpus.csv\", index=False)\n",
    "print(f\"✅ Saved cleaned corpus → {RESULTS / 'cleaned_corpus.csv'}\")\n",
    "\n",
    "print(\"Corpus shape:\", df.shape)\n",
    "print(\"Label distribution:\\n\", df[\"label\"].value_counts())\n",
    "\n",
    "# === PMI Computation ===\n",
    "def compute_class_pmi(df, tokens_col=\"tokens\", label_col=\"label\", min_freq=5):\n",
    "    total = Counter(); by_cls = defaultdict(Counter)\n",
    "    for _, r in df[[tokens_col, label_col]].iterrows():\n",
    "        toks, lbl = r[tokens_col], r[label_col]\n",
    "        total.update(toks); by_cls[lbl].update(toks)\n",
    "    vocab = {w for w, c in total.items() if c >= min_freq}\n",
    "    if not vocab:\n",
    "        return pd.DataFrame(columns=[\"token\",\"label\",\"PMI\",\"freq\",\"class_freq\"])\n",
    "    total_sum = sum(total[w] for w in vocab)\n",
    "    cls_sums = {c: sum(by_cls[c][w] for w in vocab) for c in by_cls}\n",
    "    rows = []\n",
    "    for w in vocab:\n",
    "        p_w = (total[w]+1)/(total_sum+len(vocab))\n",
    "        for c in by_cls:\n",
    "            p_joint = (by_cls[c][w]+1)/(cls_sums[c]+len(vocab))\n",
    "            p_c = (cls_sums[c]+len(vocab))/(total_sum+len(vocab))\n",
    "            pmi = math.log2(p_joint/(p_w*p_c))\n",
    "            rows.append({\"token\":w,\"label\":c,\"PMI\":pmi,\"freq\":total[w],\"class_freq\":by_cls[c][w]})\n",
    "    return pd.DataFrame(rows).sort_values([\"label\",\"PMI\"], ascending=[True,False])\n",
    "\n",
    "print(\"📊 Computing PMI...\")\n",
    "pmi_df = compute_class_pmi(df, tokens_col=\"tokens\", label_col=\"label\", min_freq=MIN_TOKEN_FREQ)\n",
    "cands = (pmi_df.groupby(\"label\", group_keys=False)\n",
    "                .apply(lambda g: g.nlargest(TOP_N_PER_CLASS, \"PMI\"))\n",
    "                .reset_index(drop=True))\n",
    "cands.to_csv(RESULTS / \"pmi_candidates.csv\", index=False)\n",
    "print(\"✅ Saved:\", RESULTS / \"pmi_candidates.csv\", cands.shape)\n",
    "\n",
    "# === Merge PMI + polarity ===\n",
    "best = (cands.sort_values(\"PMI\", ascending=False)\n",
    "              .groupby(\"token\").first().reset_index())\n",
    "label2sign = {\"positive\":1,\"pos\":1,\"negative\":-1,\"neg\":-1,\"neutral\":0,\"neu\":0}\n",
    "best[\"pmi_sign\"] = best[\"label\"].str.lower().map(label2sign).fillna(0)\n",
    "\n",
    "# === Lexicon setup ===\n",
    "lex_src = pd.read_excel(BASE_LEXICON_XLSX)\n",
    "lex_src.columns = [str(c).strip() for c in lex_src.columns]\n",
    "for col in [\"French\",\"English\",\"Zulu\",\"Xhosa\",\"Sepedi\",\"Shona\",\"Afrikaans\"]:\n",
    "    if col not in lex_src.columns:\n",
    "        lex_src[col] = np.nan\n",
    "\n",
    "if LEX_WORK.exists():\n",
    "    lex_src = pd.read_excel(LEX_WORK)\n",
    "    print(\"Loaded working copy:\", LEX_WORK)\n",
    "else:\n",
    "    lex_src.to_excel(LEX_WORK, index=False)\n",
    "    print(\"Created working copy:\", LEX_WORK)\n",
    "\n",
    "lex = lex_src.copy()\n",
    "if \"Score\" in lex.columns:\n",
    "    lex[\"polarity_sign\"] = np.sign(pd.to_numeric(lex[\"Score\"], errors=\"coerce\")).fillna(0)\n",
    "elif \"Sentiment\" in lex.columns:\n",
    "    m = {\"positive\":1,\"pos\":1,\"negative\":-1,\"neg\":-1,\"neutral\":0,\"neu\":0}\n",
    "    lex[\"polarity_sign\"] = lex[\"Sentiment\"].astype(str).str.lower().map(m).fillna(0)\n",
    "else:\n",
    "    lex[\"polarity_sign\"] = 0\n",
    "\n",
    "print(\"✅ Lexicon setup complete.\")\n",
    "# SOMETIMES GIVES ERROR BUT STILL WORKS"
   ]
  },
  {
   "cell_type": "code",
   "execution_count": 20,
   "id": "e8f4d822-9272-48d0-bf93-cbd7121f0472",
   "metadata": {},
   "outputs": [
    {
     "name": "stdout",
     "output_type": "stream",
     "text": [
      "🧩 Resuming existing GPT file: results/cleaned_corpus_gpt.csv\n",
      "📊 Corpus shape: (15959, 7)\n",
      "🔍 0 rows still need correction\n",
      "✅ All GPT corrections already completed — nothing left to process.\n"
     ]
    }
   ],
   "source": [
    "# === PART E (Free ChatGPT-Compatible Correction Layer, overwrite GPT only) ===\n",
    "# Uses free ChatGPT endpoints via g4f, resumes safely, retries failed calls, and overwrites ONLY the GPT file.\n",
    "\n",
    "from pathlib import Path\n",
    "import pandas as pd\n",
    "import numpy as np\n",
    "import time\n",
    "from tqdm import tqdm\n",
    "import sys, subprocess, random\n",
    "\n",
    "# --- Install and import g4f (free ChatGPT wrapper) ---\n",
    "try:\n",
    "    import g4f\n",
    "except ImportError:\n",
    "    subprocess.check_call([sys.executable, \"-m\", \"pip\", \"install\", \"-q\", \"g4f\"])\n",
    "    import g4f\n",
    "\n",
    "# --- Paths ---\n",
    "ROOT = Path(\".\")\n",
    "RESULTS = ROOT / \"results\"\n",
    "RESULTS.mkdir(exist_ok=True)\n",
    "\n",
    "# Only modify the GPT version, never the base cleaned file\n",
    "base_path = RESULTS / \"cleaned_corpus.csv\"\n",
    "gpt_path = RESULTS / \"cleaned_corpus_gpt.csv\"\n",
    "\n",
    "# Load existing GPT progress or start fresh from cleaned base\n",
    "if gpt_path.exists():\n",
    "    df = pd.read_csv(gpt_path)\n",
    "    print(f\"🧩 Resuming existing GPT file: {gpt_path}\")\n",
    "else:\n",
    "    df = pd.read_csv(base_path)\n",
    "    print(f\"✅ Loaded base corpus from {base_path}\")\n",
    "    df[\"text_gpt_corrected\"] = np.nan  # create correction column\n",
    "\n",
    "print(f\"📊 Corpus shape: {df.shape}\")\n",
    "\n",
    "# --- Identify incomplete rows (still need correction) ---\n",
    "mask_incomplete = df[\"text_gpt_corrected\"].isna() | (df[\"text_gpt_corrected\"].astype(str).str.strip() == \"\")\n",
    "remaining = mask_incomplete.sum()\n",
    "print(f\"🔍 {remaining} rows still need correction\")\n",
    "\n",
    "# --- GPT correction function (free + retries) ---\n",
    "def gpt_free_correction(text, max_retries=3):\n",
    "    \"\"\"Free ChatGPT-compatible correction (via g4f) with retry logic.\"\"\"\n",
    "    if not isinstance(text, str) or not text.strip():\n",
    "        return text\n",
    "\n",
    "    prompt = (\n",
    "        \"Correct minor spelling and grammatical errors in this text, \"\n",
    "        \"but keep the original language and meaning exactly:\\n\"\n",
    "        f\"{text}\"\n",
    "    )\n",
    "\n",
    "    for attempt in range(1, max_retries + 1):\n",
    "        try:\n",
    "            model = random.choice([\"gpt-4o-mini\", \"gpt-4-turbo\", \"gpt-3.5-turbo\"])\n",
    "            response = g4f.ChatCompletion.create(\n",
    "                model=model,\n",
    "                messages=[{\"role\": \"user\", \"content\": prompt}],\n",
    "            )\n",
    "            if isinstance(response, str) and response.strip():\n",
    "                return response.strip()\n",
    "        except Exception as e:\n",
    "            print(f\"⚠️ GPT correction failed (attempt {attempt}/{max_retries}): {e}\")\n",
    "            time.sleep(2 * attempt)\n",
    "\n",
    "    return text  # fallback to original if all retries fail\n",
    "\n",
    "# --- Correction loop (resumable and batch-saving) ---\n",
    "def run_gpt_free(df, save_path, batch_size=50):\n",
    "    incomplete = df[df[\"text_gpt_corrected\"].isna() | (df[\"text_gpt_corrected\"].astype(str).str.strip() == \"\")]\n",
    "    total = len(incomplete)\n",
    "    print(f\"▶️ Starting correction for {total} rows\")\n",
    "\n",
    "    for idx, (i, row) in enumerate(tqdm(incomplete.iterrows(), total=total, desc=\"Free GPT correcting...\")):\n",
    "        corrected = gpt_free_correction(row[\"text_hybrid\"])\n",
    "        df.at[i, \"text_gpt_corrected\"] = corrected\n",
    "\n",
    "        # Save every batch or at end\n",
    "        if (idx + 1) % batch_size == 0 or (idx + 1) == total:\n",
    "            df.to_csv(save_path, index=False)\n",
    "            print(f\"💾 Saved progress ({idx+1}/{total}) → {save_path}\")\n",
    "            time.sleep(1)\n",
    "\n",
    "    return df\n",
    "\n",
    "# --- Run only if there’s still work left ---\n",
    "if remaining > 0:\n",
    "    df = run_gpt_free(df, gpt_path)\n",
    "    print(f\"✅ GPT correction complete. Final file saved → {gpt_path}\")\n",
    "else:\n",
    "    print(\"✅ All GPT corrections already completed — nothing left to process.\")"
   ]
  },
  {
   "cell_type": "code",
   "execution_count": 23,
   "id": "250eb835-7296-4ba2-a9f5-ec18baa10259",
   "metadata": {},
   "outputs": [],
   "source": [
    "# === Utility: Compute Class-based PMI ===\n",
    "import math\n",
    "from collections import Counter, defaultdict\n",
    "import pandas as pd\n",
    "\n",
    "def compute_class_pmi(df, tokens_col=\"tokens\", label_col=\"label\", min_freq=5):\n",
    "    \"\"\"\n",
    "    Computes Pointwise Mutual Information (PMI) per token per label.\n",
    "    Filters tokens below `min_freq` and returns a DataFrame with columns:\n",
    "      token | label | PMI | freq | class_freq\n",
    "    \"\"\"\n",
    "    total = Counter()\n",
    "    by_cls = defaultdict(Counter)\n",
    "\n",
    "    # Count tokens overall and per class\n",
    "    for _, row in df[[tokens_col, label_col]].iterrows():\n",
    "        toks = row[tokens_col]\n",
    "        lbl  = row[label_col]\n",
    "        total.update(toks)\n",
    "        by_cls[lbl].update(toks)\n",
    "\n",
    "    vocab = {w for w, c in total.items() if c >= min_freq}\n",
    "    if not vocab:\n",
    "        return pd.DataFrame(columns=[\"token\",\"label\",\"PMI\",\"freq\",\"class_freq\"])\n",
    "\n",
    "    total_sum = sum(total[w] for w in vocab)\n",
    "    cls_sums  = {c: sum(by_cls[c][w] for w in vocab) for c in by_cls}\n",
    "\n",
    "    rows = []\n",
    "    for w in vocab:\n",
    "        p_w = (total[w]+1)/(total_sum+len(vocab))\n",
    "        for c in by_cls:\n",
    "            p_joint = (by_cls[c][w]+1)/(cls_sums[c]+len(vocab))\n",
    "            p_c = (cls_sums[c]+len(vocab))/(total_sum+len(vocab))\n",
    "            pmi = math.log2(p_joint/(p_w*p_c))\n",
    "            rows.append({\n",
    "                \"token\": w,\n",
    "                \"label\": c,\n",
    "                \"PMI\": pmi,\n",
    "                \"freq\": total[w],\n",
    "                \"class_freq\": by_cls[c][w]\n",
    "            })\n",
    "\n",
    "    return pd.DataFrame(rows).sort_values([\"label\", \"PMI\"], ascending=[True, False])"
   ]
  },
  {
   "cell_type": "code",
   "execution_count": 24,
   "id": "b13535f9-2c2d-464a-8771-8599a3cf95ba",
   "metadata": {},
   "outputs": [
    {
     "name": "stdout",
     "output_type": "stream",
     "text": [
      "Saved: results/pmi_candidates.csv (678, 5)\n"
     ]
    },
    {
     "name": "stderr",
     "output_type": "stream",
     "text": [
      "/var/folders/3y/whgys4hs6cg6lfjvpflpslcr0000gn/T/ipykernel_87947/3192059814.py:4: FutureWarning: DataFrameGroupBy.apply operated on the grouping columns. This behavior is deprecated, and in a future version of pandas the grouping columns will be excluded from the operation. Either pass `include_groups=False` to exclude the groupings or explicitly select the grouping columns after groupby to silence this warning.\n",
      "  .apply(lambda g: g.nlargest(TOP_N_PER_CLASS, \"PMI\"))\n"
     ]
    }
   ],
   "source": [
    "#  PART F: Compute and Save PMI candidates\n",
    "pmi_df = compute_class_pmi(df, tokens_col=\"tokens\", label_col=\"label\", min_freq=MIN_TOKEN_FREQ)\n",
    "cands = (pmi_df.groupby(\"label\", group_keys=False)\n",
    "                .apply(lambda g: g.nlargest(TOP_N_PER_CLASS, \"PMI\"))\n",
    "                .reset_index(drop=True))\n",
    "RESULTS.mkdir(exist_ok=True)\n",
    "cands.to_csv(RESULTS / \"pmi_candidates.csv\", index=False)\n",
    "print(\"Saved:\", RESULTS / \"pmi_candidates.csv\", cands.shape)\n",
    "\n",
    "best = (cands.sort_values(\"PMI\", ascending=False)\n",
    "              .groupby(\"token\").first().reset_index())\n",
    "label2sign = {\"positive\":1,\"pos\":1,\"negative\":-1,\"neg\":-1,\"neutral\":0,\"neu\":0}\n",
    "best[\"pmi_sign\"] = best[\"label\"].str.lower().map(label2sign).fillna(0)\n"
   ]
  },
  {
   "cell_type": "code",
   "execution_count": 25,
   "id": "1fd16d2c-04f7-4ad7-bf7e-f1f24f0c01b0",
   "metadata": {},
   "outputs": [
    {
     "name": "stdout",
     "output_type": "stream",
     "text": [
      "Loaded working copy: expanded_lexicon_v4_working.xlsx\n"
     ]
    }
   ],
   "source": [
    "#Loading lexicon and Polarity sign\n",
    "lex_src = pd.read_excel(BASE_LEXICON_XLSX)\n",
    "lex_src.columns = [str(c).strip() for c in lex_src.columns]\n",
    "\n",
    "# ensure language cols exist\n",
    "for col in [\"French\",\"English\",\"Zulu\",\"Xhosa\",\"Sepedi\",\"Shona\",\"Afrikaans\"]:\n",
    "    if col not in lex_src.columns: lex_src[col] = np.nan\n",
    "\n",
    "# prefer existing working copy if present\n",
    "if (ROOT/LEX_WORK).exists():\n",
    "    lex_src = pd.read_excel(LEX_WORK)\n",
    "    print(\"Loaded working copy:\", LEX_WORK)\n",
    "else:\n",
    "    lex_src.to_excel(LEX_WORK, index=False)\n",
    "    print(\"Created working copy:\", LEX_WORK)\n",
    "\n",
    "lex = lex_src.copy()\n",
    "if \"Score\" in lex.columns:\n",
    "    lex[\"polarity_sign\"] = np.sign(pd.to_numeric(lex[\"Score\"], errors=\"coerce\")).fillna(0)\n",
    "elif \"Sentiment\" in lex.columns:\n",
    "    m = {\"positive\":1,\"pos\":1,\"negative\":-1,\"neg\":-1,\"neutral\":0,\"neu\":0}\n",
    "    lex[\"polarity_sign\"] = lex[\"Sentiment\"].astype(str).str.lower().map(m).fillna(0)\n",
    "else:\n",
    "    lex[\"polarity_sign\"] = 0\n"
   ]
  },
  {
   "cell_type": "code",
   "execution_count": 26,
   "id": "987cefd0-4526-4cc3-b59b-49d24cf38239",
   "metadata": {},
   "outputs": [
    {
     "name": "stdout",
     "output_type": "stream",
     "text": [
      "Project folders ready: ['data', 'results', 'cache']\n",
      "PMI terms: 226 | to-translate now: 220\n",
      "Saved: results/pmi_terms_with_english.csv\n"
     ]
    }
   ],
   "source": [
    "# === Project directories ===\n",
    "from pathlib import Path\n",
    "\n",
    "ROOT = Path(\".\")\n",
    "DATA = ROOT / \"data\"\n",
    "RESULTS = ROOT / \"results\"\n",
    "CACHE = ROOT / \"cache\"   # <-- Add this line\n",
    "\n",
    "# Ensure folders exist\n",
    "for p in [DATA, RESULTS, CACHE]:\n",
    "    p.mkdir(exist_ok=True)\n",
    "\n",
    "print(\"Project folders ready:\", [p.name for p in [DATA, RESULTS, CACHE]])\n",
    "# === Cell G : PMI tokens -> English, with cache + Google/Deep guard ===\n",
    "import pandas as pd\n",
    "\n",
    "# 0) Compatibility shim: ensure translate_texts exists\n",
    "try:\n",
    "    translate_texts\n",
    "except NameError:\n",
    "    def translate_texts(texts, target=\"en\", source=\"auto\"):\n",
    "        return list(texts)\n",
    "\n",
    "pmi_cache_path = CACHE / \"pmi_to_en.csv\"\n",
    "cache_pmi = {}\n",
    "\n",
    "# Load existing cache if present (support headerless or with header)\n",
    "if pmi_cache_path.exists():\n",
    "    try:\n",
    "        tmp = pd.read_csv(pmi_cache_path, header=None, names=[\"token\",\"en\"])\n",
    "    except Exception:\n",
    "        tmp = pd.read_csv(pmi_cache_path)\n",
    "        if not {\"token\",\"en\"}.issubset(tmp.columns):\n",
    "            tmp.columns = [\"token\",\"en\"]\n",
    "    for _, r in tmp.iterrows():\n",
    "        cache_pmi[str(r[\"token\"])] = str(r[\"en\"])\n",
    "\n",
    "# Figure out which terms still need translation\n",
    "terms = sorted(set(best[\"token\"].astype(str)))\n",
    "todo  = [t for t in terms if t not in cache_pmi]\n",
    "print(f\"PMI terms: {len(terms)} | to-translate now: {len(todo)}\")\n",
    "\n",
    "# Translate any missing terms (Google v3 if creds, else Deep-Translator)\n",
    "if todo:\n",
    "    translated = translate_texts(todo, target=\"en\", source=\"auto\")\n",
    "    for t, gloss in zip(todo, translated):\n",
    "        cache_pmi[t] = gloss\n",
    "\n",
    "# Persist/refresh cache (headerless for speed; reader handles both)\n",
    "pd.DataFrame([(k, v) for k, v in cache_pmi.items()], columns=[\"token\",\"en\"]).to_csv(\n",
    "    pmi_cache_path, index=False, header=False\n",
    ")\n",
    "\n",
    "# Attach English to PMI 'best' table and save\n",
    "best[\"token_en\"] = best[\"token\"].map(cache_pmi)\n",
    "best[\"token_en_norm\"] = best[\"token_en\"].astype(str).str.lower()\n",
    "\n",
    "out_path = RESULTS / \"pmi_terms_with_english.csv\"\n",
    "best[[\"token\",\"label\",\"PMI\",\"token_en\"]].to_csv(out_path, index=False)\n",
    "print(\"Saved:\", out_path)\n"
   ]
  },
  {
   "cell_type": "code",
   "execution_count": 27,
   "id": "d22094d2-6d5f-45bd-82cf-c0854e249d57",
   "metadata": {},
   "outputs": [
    {
     "name": "stdout",
     "output_type": "stream",
     "text": [
      "Saved: results/corpus_vs_lexicon_matches_enpivot.csv\n"
     ]
    }
   ],
   "source": [
    "# Aign corpus vs lexicon (English pivot) \n",
    "assert \"English\" in lex.columns, \"Lexicon needs an 'English' column.\"\n",
    "lex[\"English_norm\"] = lex[\"English\"].astype(str).str.lower()\n",
    "\n",
    "merged_en = best.merge(lex, left_on=\"token_en_norm\", right_on=\"English_norm\", how=\"left\", suffixes=(\"_cand\",\"_lex\"))\n",
    "merged_en[\"agreement\"] = np.where(merged_en[\"pmi_sign\"] == merged_en[\"polarity_sign\"], \"match\", \"mismatch\")\n",
    "\n",
    "keep_cols = [\"token\",\"token_en\",\"label\",\"PMI\",\"pmi_sign\",\"polarity_sign\",\"agreement\",\n",
    "             \"English\",\"French\",\"Shona\",\"Zulu\",\"Xhosa\",\"Afrikaans\",\"Sepedi\",\"Score\",\"Sentiment\",\"Nature\"]\n",
    "merged_en[[c for c in keep_cols if c in merged_en.columns]].to_csv(\n",
    "    RESULTS / \"corpus_vs_lexicon_matches_enpivot.csv\", index=False)\n",
    "print(\"Saved:\", RESULTS / \"corpus_vs_lexicon_matches_enpivot.csv\")\n"
   ]
  },
  {
   "cell_type": "code",
   "execution_count": 28,
   "id": "5665325c-b82c-4f0b-991a-f06f32528860",
   "metadata": {},
   "outputs": [
    {
     "name": "stdout",
     "output_type": "stream",
     "text": [
      "Wrote: results/rag_review_queue_enpivot.csv | items: 221\n"
     ]
    },
    {
     "data": {
      "text/html": [
       "<div>\n",
       "<style scoped>\n",
       "    .dataframe tbody tr th:only-of-type {\n",
       "        vertical-align: middle;\n",
       "    }\n",
       "\n",
       "    .dataframe tbody tr th {\n",
       "        vertical-align: top;\n",
       "    }\n",
       "\n",
       "    .dataframe thead th {\n",
       "        text-align: right;\n",
       "    }\n",
       "</style>\n",
       "<table border=\"1\" class=\"dataframe\">\n",
       "  <thead>\n",
       "    <tr style=\"text-align: right;\">\n",
       "      <th></th>\n",
       "      <th>token</th>\n",
       "      <th>token_en</th>\n",
       "      <th>pmi_label</th>\n",
       "      <th>lexicon_sign</th>\n",
       "      <th>contexts</th>\n",
       "      <th>llm_prompt</th>\n",
       "    </tr>\n",
       "  </thead>\n",
       "  <tbody>\n",
       "    <tr>\n",
       "      <th>0</th>\n",
       "      <td></td>\n",
       "      <td></td>\n",
       "      <td>neutral</td>\n",
       "      <td>0</td>\n",
       "      <td>[]</td>\n",
       "      <td>You are helping annotate a multilingual sentim...</td>\n",
       "    </tr>\n",
       "    <tr>\n",
       "      <th>1</th>\n",
       "      <td>!</td>\n",
       "      <td>None</td>\n",
       "      <td>neutral</td>\n",
       "      <td>0</td>\n",
       "      <td>[]</td>\n",
       "      <td>You are helping annotate a multilingual sentim...</td>\n",
       "    </tr>\n",
       "    <tr>\n",
       "      <th>2</th>\n",
       "      <td>\"</td>\n",
       "      <td>None</td>\n",
       "      <td>neutral</td>\n",
       "      <td>0</td>\n",
       "      <td>[]</td>\n",
       "      <td>You are helping annotate a multilingual sentim...</td>\n",
       "    </tr>\n",
       "    <tr>\n",
       "      <th>3</th>\n",
       "      <td>#</td>\n",
       "      <td>None</td>\n",
       "      <td>positive</td>\n",
       "      <td>0</td>\n",
       "      <td>[]</td>\n",
       "      <td>You are helping annotate a multilingual sentim...</td>\n",
       "    </tr>\n",
       "    <tr>\n",
       "      <th>4</th>\n",
       "      <td>$</td>\n",
       "      <td>None</td>\n",
       "      <td>neutral</td>\n",
       "      <td>0</td>\n",
       "      <td>[]</td>\n",
       "      <td>You are helping annotate a multilingual sentim...</td>\n",
       "    </tr>\n",
       "    <tr>\n",
       "      <th>5</th>\n",
       "      <td>%</td>\n",
       "      <td>None</td>\n",
       "      <td>neutral</td>\n",
       "      <td>0</td>\n",
       "      <td>[]</td>\n",
       "      <td>You are helping annotate a multilingual sentim...</td>\n",
       "    </tr>\n",
       "    <tr>\n",
       "      <th>6</th>\n",
       "      <td>&amp;</td>\n",
       "      <td>None</td>\n",
       "      <td>neutral</td>\n",
       "      <td>0</td>\n",
       "      <td>[]</td>\n",
       "      <td>You are helping annotate a multilingual sentim...</td>\n",
       "    </tr>\n",
       "    <tr>\n",
       "      <th>7</th>\n",
       "      <td>'</td>\n",
       "      <td>None</td>\n",
       "      <td>neutral</td>\n",
       "      <td>0</td>\n",
       "      <td>[]</td>\n",
       "      <td>You are helping annotate a multilingual sentim...</td>\n",
       "    </tr>\n",
       "    <tr>\n",
       "      <th>8</th>\n",
       "      <td>(</td>\n",
       "      <td>None</td>\n",
       "      <td>neutral</td>\n",
       "      <td>0</td>\n",
       "      <td>[]</td>\n",
       "      <td>You are helping annotate a multilingual sentim...</td>\n",
       "    </tr>\n",
       "    <tr>\n",
       "      <th>9</th>\n",
       "      <td>)</td>\n",
       "      <td>None</td>\n",
       "      <td>neutral</td>\n",
       "      <td>0</td>\n",
       "      <td>[]</td>\n",
       "      <td>You are helping annotate a multilingual sentim...</td>\n",
       "    </tr>\n",
       "  </tbody>\n",
       "</table>\n",
       "</div>"
      ],
      "text/plain": [
       "  token token_en pmi_label  lexicon_sign contexts  \\\n",
       "0                  neutral             0       []   \n",
       "1     !     None   neutral             0       []   \n",
       "2     \"     None   neutral             0       []   \n",
       "3     #     None  positive             0       []   \n",
       "4     $     None   neutral             0       []   \n",
       "5     %     None   neutral             0       []   \n",
       "6     &     None   neutral             0       []   \n",
       "7     '     None   neutral             0       []   \n",
       "8     (     None   neutral             0       []   \n",
       "9     )     None   neutral             0       []   \n",
       "\n",
       "                                          llm_prompt  \n",
       "0  You are helping annotate a multilingual sentim...  \n",
       "1  You are helping annotate a multilingual sentim...  \n",
       "2  You are helping annotate a multilingual sentim...  \n",
       "3  You are helping annotate a multilingual sentim...  \n",
       "4  You are helping annotate a multilingual sentim...  \n",
       "5  You are helping annotate a multilingual sentim...  \n",
       "6  You are helping annotate a multilingual sentim...  \n",
       "7  You are helping annotate a multilingual sentim...  \n",
       "8  You are helping annotate a multilingual sentim...  \n",
       "9  You are helping annotate a multilingual sentim...  "
      ]
     },
     "execution_count": 28,
     "metadata": {},
     "output_type": "execute_result"
    }
   ],
   "source": [
    "# Build RAG/LLM review queue for mismatches \n",
    "import json\n",
    "\n",
    "def collect_contexts(the_df, token, label, max_examples=3, window=140):\n",
    "    ex=[]\n",
    "    for _, row in the_df[the_df[\"label\"]==label].iterrows():\n",
    "        toks = row[\"tokens\"] if isinstance(row[\"tokens\"], (list,tuple)) else []\n",
    "        if token in toks:\n",
    "            txt = str(row[\"text\"])\n",
    "            ex.append(txt if len(txt)<=window else txt[:window]+\" …\")\n",
    "            if len(ex)>=max_examples: break\n",
    "    return ex\n",
    "\n",
    "def safe_int(x, default=0):\n",
    "    try: return int(x) if pd.notna(x) else default\n",
    "    except: return default\n",
    "\n",
    "mis = merged_en[merged_en[\"agreement\"]==\"mismatch\"].copy()\n",
    "rows=[]\n",
    "for _, r in mis.iterrows():\n",
    "    tok = r.get(\"token\",\"\")\n",
    "    lbl = r.get(\"label\",\"\")\n",
    "    gloss = r.get(\"English\",\"\") or r.get(\"token_en\",\"\")\n",
    "    ctx = collect_contexts(df, tok, lbl)\n",
    "    lex_sign = safe_int(r.get(\"polarity_sign\",0))\n",
    "    prompt = (\n",
    "        \"You are helping annotate a multilingual sentiment lexicon.\\n\"\n",
    "        f\"Word: {tok}\\nLanguage: Shona\\nEnglish gloss: {gloss}\\n\"\n",
    "        f\"Corpus sentiment trend (from PMI): {lbl}.\\n\"\n",
    "        f\"Lexicon polarity sign: {lex_sign} (−1=neg,0=neu,1=pos).\\n\"\n",
    "        \"Tasks: (1) Provide POS tag; (2) Decide polarity (−9..9) and label (neg/neu/pos); \"\n",
    "        \"(3) If ambiguous, explain briefly and give two example sentences.\"\n",
    "    )\n",
    "    rows.append({\n",
    "        \"token\": tok,\n",
    "        \"token_en\": r.get(\"token_en\",\"\"),\n",
    "        \"pmi_label\": lbl,\n",
    "        \"lexicon_sign\": lex_sign,\n",
    "        \"contexts\": json.dumps(ctx, ensure_ascii=False),\n",
    "        \"llm_prompt\": prompt\n",
    "    })\n",
    "\n",
    "review = pd.DataFrame(rows)\n",
    "review.to_csv(RESULTS / \"rag_review_queue_enpivot.csv\", index=False)\n",
    "print(\"Wrote:\", RESULTS / \"rag_review_queue_enpivot.csv\", \"| items:\", len(review))\n",
    "review.head(10)\n"
   ]
  },
  {
   "cell_type": "code",
   "execution_count": 29,
   "id": "9e725c27-298c-4337-8b22-3bd9ef4bbe62",
   "metadata": {},
   "outputs": [
    {
     "name": "stdout",
     "output_type": "stream",
     "text": [
      "Saved figures → results\n",
      "YES results/pmi_candidates.csv\n",
      "YES results/pmi_terms_with_english.csv\n",
      "YES results/corpus_vs_lexicon_matches_enpivot.csv\n",
      "YES results/rag_review_queue_enpivot.csv\n",
      "YES results/fig_top_pmi_terms.png\n",
      "YES results/fig_agreement_pie.png\n"
     ]
    },
    {
     "data": {
      "image/png": "[encoded data removed]",
      "text/plain": [
       "<Figure size 1400x400 with 3 Axes>"
      ]
     },
     "metadata": {},
     "output_type": "display_data"
    },
    {
     "data": {
      "image/png": "[encoded data removed]",
      "text/plain": [
       "<Figure size 420x420 with 1 Axes>"
      ]
     },
     "metadata": {},
     "output_type": "display_data"
    }
   ],
   "source": [
    "# === Cell J: Plots (top-K bars and pie chart)\n",
    "import re\n",
    "import matplotlib.pyplot as plt\n",
    "import seaborn as sns\n",
    "\n",
    "sns.set_theme(style=\"whitegrid\", context=\"notebook\")  # balanced sizing\n",
    "\n",
    "# ===Filter noisy tokens for neater charts ===\n",
    "TOP_K_PLOT = 12        # how many bars per class to show\n",
    "MIN_TOKEN_LEN = 3      # drop super-short items\n",
    "EXCLUDE_PATTERNS = [r\"^@\", r\"^#\",\n",
    "                    r\"^https?://\", r\"\\.com\\b\",  # urls\n",
    "                    r\"^\\d+$\"]                   # pure numbers\n",
    "\n",
    "def looks_noisy(tok: str) -> bool:\n",
    "    if tok is None: return True\n",
    "    tok = str(tok).strip().lower()\n",
    "    if len(tok) < MIN_TOKEN_LEN: return True\n",
    "    if any(re.search(p, tok) for p in EXCLUDE_PATTERNS): return True\n",
    "    return False\n",
    "\n",
    "cands_clean = cands[~cands[\"token\"].map(looks_noisy)].copy()\n",
    "\n",
    "# NOTE: remove exact duplicates across classes keeping highest PMI\n",
    "cands_clean = (cands_clean\n",
    "               .sort_values(\"PMI\", ascending=False)\n",
    "               .drop_duplicates(subset=[\"token\"], keep=\"first\"))\n",
    "\n",
    "# === Bar charts: top-K per label (negative / neutral / positive) ===\n",
    "labels_in_order = [\"negative\", \"neutral\", \"positive\"]  # keeps columns aligned visually\n",
    "fig, axes = plt.subplots(1, len(labels_in_order), figsize=(14, 4), sharey=True)\n",
    "\n",
    "for ax, lbl in zip(axes, labels_in_order):\n",
    "    sub = cands_clean[cands_clean[\"label\"] == lbl]\n",
    "    top = sub.nlargest(TOP_K_PLOT, \"PMI\").iloc[::-1]  # reverse so biggest is at top\n",
    "    sns.barplot(data=top, x=\"PMI\", y=\"token\", ax=ax, color=\"#3b82f6\")\n",
    "    ax.set_title(f\"Top PMI: {lbl}\", fontsize=11)\n",
    "    ax.set_xlabel(\"PMI\", fontsize=10)\n",
    "    ax.set_ylabel(\"token\" if ax is axes[0] else \"\")\n",
    "    # smaller ticklabels to avoid overlap\n",
    "    ax.tick_params(axis=\"y\", labelsize=8)\n",
    "    ax.tick_params(axis=\"x\", labelsize=8)\n",
    "\n",
    "plt.tight_layout()\n",
    "plt.subplots_adjust(left=0.22)  # more room for token labels\n",
    "plt.savefig(RESULTS / \"fig_top_pmi_terms.png\", dpi=150)\n",
    "\n",
    "#  ===Agreement pie (match vs mismatch)===\n",
    "try:\n",
    "    counts = merged_en[\"agreement\"].value_counts(dropna=False)\n",
    "    plt.figure(figsize=(4.2, 4.2))\n",
    "    plt.pie(counts.values,\n",
    "            labels=counts.index.astype(str),\n",
    "            autopct=\"%1.1f%%\",\n",
    "            colors=[\"#10b981\", \"#ef4444\", \"#9ca3af\"])\n",
    "    plt.title(\"Agreement (Corpus vs Lexicon)\", fontsize=11)\n",
    "    plt.tight_layout()\n",
    "    plt.savefig(RESULTS / \"fig_agreement_pie.png\", dpi=150)\n",
    "    print(\"Saved figures →\", RESULTS)\n",
    "except Exception as e:\n",
    "    print(\"Skipping pie chart (need merged_en):\", e)\n",
    "\n",
    "# Deliverables :\n",
    "for p in [\n",
    "    RESULTS/\"pmi_candidates.csv\",\n",
    "    RESULTS/\"pmi_terms_with_english.csv\",\n",
    "    RESULTS/\"corpus_vs_lexicon_matches_enpivot.csv\",\n",
    "    RESULTS/\"rag_review_queue_enpivot.csv\",\n",
    "    RESULTS/\"fig_top_pmi_terms.png\",\n",
    "    RESULTS/\"fig_agreement_pie.png\",\n",
    "]:\n",
    "    print((\"YES\" if p.exists() else \"NO\"), p)"
   ]
  },
  {
   "cell_type": "code",
   "execution_count": null,
   "id": "a2faf492-7c58-4ecd-9823-9f7f41b47ef6",
   "metadata": {},
   "outputs": [],
   "source": [
    "import sys\n",
    "!{sys.executable} -m pip install googletrans==4.0.0rc1 httpx==0.13.3 httpcore==0.9.1 textblob==0.17.1"
   ]
  },
  {
   "cell_type": "code",
   "execution_count": null,
   "id": "f1ea75b8-8b4f-4b58-92ff-b942044fa370",
   "metadata": {},
   "outputs": [],
   "source": []
  },
  {
   "cell_type": "code",
   "execution_count": null,
   "id": "1f31a130-a173-4650-bbc3-c7a04b523217",
   "metadata": {},
   "outputs": [],
   "source": []
  },
  {
   "cell_type": "code",
   "execution_count": null,
   "id": "fea75b33-5af2-4459-8375-2efd506f356a",
   "metadata": {},
   "outputs": [],
   "source": []
  },
  {
   "cell_type": "code",
   "execution_count": null,
   "id": "3b96c3fe-2d09-4776-8fe8-e85a42a8ce78",
   "metadata": {},
   "outputs": [],
   "source": []
  }
 ],
 "metadata": {
  "kernelspec": {
   "display_name": "Python 3 (ipykernel)",
   "language": "python",
   "name": "python3"
  },
  "language_info": {
   "codemirror_mode": {
    "name": "ipython",
    "version": 3
   },
   "file_extension": ".py",
   "mimetype": "text/x-python",
   "name": "python",
   "nbconvert_exporter": "python",
   "pygments_lexer": "ipython3",
   "version": "3.13.5"
  }
 },
 "nbformat": 4,
 "nbformat_minor": 5
}
