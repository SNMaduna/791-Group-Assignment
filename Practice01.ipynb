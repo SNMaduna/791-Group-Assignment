{
 "cells": [
  {
   "cell_type": "code",
   "execution_count": 1,
   "id": "1a6d8696",
   "metadata": {},
   "outputs": [
    {
     "ename": "ModuleNotFoundError",
     "evalue": "No module named 'pandas'",
     "output_type": "error",
     "traceback": [
      "\u001b[31m---------------------------------------------------------------------------\u001b[39m",
      "\u001b[31mModuleNotFoundError\u001b[39m                       Traceback (most recent call last)",
      "\u001b[36mCell\u001b[39m\u001b[36m \u001b[39m\u001b[32mIn[1]\u001b[39m\u001b[32m, line 1\u001b[39m\n\u001b[32m----> \u001b[39m\u001b[32m1\u001b[39m \u001b[38;5;28;01mimport\u001b[39;00m\u001b[38;5;250m \u001b[39m\u001b[34;01mpandas\u001b[39;00m\u001b[38;5;250m \u001b[39m\u001b[38;5;28;01mas\u001b[39;00m\u001b[38;5;250m \u001b[39m\u001b[34;01mpd\u001b[39;00m\n\u001b[32m      2\u001b[39m \u001b[38;5;28;01mfrom\u001b[39;00m\u001b[38;5;250m \u001b[39m\u001b[34;01mgoogletrans\u001b[39;00m\u001b[38;5;250m \u001b[39m\u001b[38;5;28;01mimport\u001b[39;00m Translator\n\u001b[32m      3\u001b[39m \u001b[38;5;28;01mfrom\u001b[39;00m\u001b[38;5;250m \u001b[39m\u001b[34;01mtqdm\u001b[39;00m\u001b[38;5;250m \u001b[39m\u001b[38;5;28;01mimport\u001b[39;00m tqdm   \u001b[38;5;66;03m# for progress bar\u001b[39;00m\n",
      "\u001b[31mModuleNotFoundError\u001b[39m: No module named 'pandas'"
     ]
    }
   ],
   "source": [
    "import pandas as pd\n",
    "from googletrans import Translator\n",
    "from tqdm import tqdm   # for progress bar\n",
    "\n",
    "# 1. Load your Excel file\n",
    "input_file = \"lexicon_6000 words.xlsx\"\n",
    "df = pd.read_excel(input_file)\n",
    "\n",
    "# 2. Initialize translator\n",
    "translator = Translator()\n",
    "\n",
    "# 3. Define new language columns (fixed codes)\n",
    "new_langs = {\n",
    "    \"English\": \"en\",\n",
    "    \"Zulu\": \"zu\",\n",
    "    \"Xhosa\": \"xh\",\n",
    "    \"Sepedi\": \"st\",     # Sesotho (closest option available in Google Translate)\n",
    "    \"Shona\": \"sn\",\n",
    "    \"Afrikaans\": \"af\"\n",
    "}\n",
    "\n",
    "# Add empty columns if not already there\n",
    "for lang in new_langs.keys():\n",
    "    if lang not in df.columns:\n",
    "        df[lang] = \"\"\n",
    "\n",
    "# 4. Translation loop with progress bar\n",
    "for i in tqdm(range(len(df)), desc=\"Translating words\"):\n",
    "    french_word = str(df.at[i, \"French\"])\n",
    "\n",
    "    try:\n",
    "        # Step A: French → English\n",
    "        english_translation = translator.translate(french_word, src=\"fr\", dest=\"en\").text\n",
    "        df.at[i, \"English\"] = english_translation\n",
    "\n",
    "        # Step B: English → Target Languages\n",
    "        for lang, code in new_langs.items():\n",
    "            if lang == \"English\":\n",
    "                continue  # already translated\n",
    "            translation = translator.translate(english_translation, src=\"en\", dest=code).text\n",
    "            df.at[i, lang] = translation\n",
    "\n",
    "    except Exception as e:\n",
    "        print(f\"⚠️ Error translating word '{french_word}': {e}\")\n",
    "\n",
    "# 5. Save expanded lexicon\n",
    "output_file = \"expanded_lexicon_6000.xlsx\"\n",
    "df.to_excel(output_file, index=False)\n",
    "\n",
    "print(f\"✅ Expanded lexicon saved as {output_file}\")\n",
    "\n"
   ]
  },
  {
   "cell_type": "code",
   "execution_count": null,
   "id": "1a4ea47b",
   "metadata": {},
   "outputs": [],
   "source": []
  },
  {
   "cell_type": "code",
   "execution_count": null,
   "id": "97e6bfa6",
   "metadata": {},
   "outputs": [
    {
     "name": "stdout",
     "output_type": "stream",
     "text": [
      "Found 94 missing translations.\n"
     ]
    }
   ],
   "source": [
    "import pandas as pd\n",
    "\n",
    "# Load your expanded lexicon\n",
    "df = pd.read_excel(\"expanded_lexicon_6000.xlsx\")\n",
    "\n",
    "# Find rows where English translation is missing\n",
    "missing_rows = df[df[\"English\"].isna() | (df[\"English\"] == \"\")]\n",
    "\n",
    "print(f\"Found {len(missing_rows)} missing translations.\")\n"
   ]
  },
  {
   "cell_type": "code",
   "execution_count": null,
   "id": "cc0be0c1",
   "metadata": {},
   "outputs": [
    {
     "name": "stdout",
     "output_type": "stream",
     "text": [
      "✅ Missing translations fixed and saved!\n"
     ]
    }
   ],
   "source": [
    "from googletrans import Translator\n",
    "import time\n",
    "\n",
    "translator = Translator()\n",
    "\n",
    "def safe_translate(text, src, dest, retries=3, delay=2):\n",
    "    for _ in range(retries):\n",
    "        try:\n",
    "            result = translator.translate(text, src=src, dest=dest)\n",
    "            if result and result.text:\n",
    "                return result.text\n",
    "        except Exception:\n",
    "            time.sleep(delay)\n",
    "    return None\n",
    "\n",
    "# Only translate missing rows\n",
    "for i, row in missing_rows.iterrows():\n",
    "    french_word = str(row[\"French\"]).strip()\n",
    "    if not french_word:\n",
    "        continue\n",
    "\n",
    "    english_translation = safe_translate(french_word, src=\"fr\", dest=\"en\")\n",
    "    if english_translation:\n",
    "        df.at[i, \"English\"] = english_translation\n",
    "        # Translate to other languages if missing\n",
    "        for lang, code in {\n",
    "            \"Zulu\": \"zu\", \"Xhosa\": \"xh\", \"Sepedi\": \"st\",\n",
    "            \"Shona\": \"sn\", \"Afrikaans\": \"af\"\n",
    "        }.items():\n",
    "            if pd.isna(df.at[i, lang]) or df.at[i, lang] == \"\":\n",
    "                df.at[i, lang] = safe_translate(english_translation, src=\"en\", dest=code)\n",
    "    else:\n",
    "        print(f\"⚠️ Could not translate '{french_word}'\")\n",
    "\n",
    "# Save fixed lexicon\n",
    "df.to_excel(\"expanded_lexicon_fixed.xlsx\", index=False)\n",
    "print(\"✅ Missing translations fixed and saved!\")\n"
   ]
  },
  {
   "cell_type": "code",
   "execution_count": null,
   "id": "a1a984dc",
   "metadata": {},
   "outputs": [
    {
     "name": "stdout",
     "output_type": "stream",
     "text": [
      "Found 94 missing translations.\n"
     ]
    }
   ],
   "source": [
    "import pandas as pd\n",
    "\n",
    "# Load your expanded lexicon\n",
    "df = pd.read_excel(\"expanded_lexicon_6000.xlsx\")\n",
    "\n",
    "# Find rows where English translation is missing\n",
    "missing_rows = df[df[\"English\"].isna() | (df[\"English\"] == \"\")]\n",
    "\n",
    "print(f\"Found {len(missing_rows)} missing translations.\")"
   ]
  },
  {
   "cell_type": "code",
   "execution_count": null,
   "id": "ee4d3a6f",
   "metadata": {},
   "outputs": [
    {
     "name": "stdout",
     "output_type": "stream",
     "text": [
      "Still missing after fixing: 94\n"
     ]
    }
   ],
   "source": [
    "missing_rows = df[df[\"English\"].isna() | (df[\"English\"] == \"\")]\n",
    "print(f\"Still missing after fixing: {len(missing_rows)}\")"
   ]
  },
  {
   "cell_type": "code",
   "execution_count": null,
   "id": "f060552f",
   "metadata": {},
   "outputs": [
    {
     "name": "stdout",
     "output_type": "stream",
     "text": [
      "Found 94 missing translations.\n",
      "✅ Missing translations fixed and saved!\n"
     ]
    }
   ],
   "source": [
    "import pandas as pd\n",
    "from googletrans import Translator\n",
    "import time\n",
    "\n",
    "# Load your lexicon\n",
    "df = pd.read_excel(\"expanded_lexicon_6000.xlsx\")\n",
    "\n",
    "# Find rows with missing English translations\n",
    "missing_rows = df[df[\"English\"].isna() | (df[\"English\"] == \"\")]\n",
    "print(f\"Found {len(missing_rows)} missing translations.\")\n",
    "\n",
    "translator = Translator()\n",
    "\n",
    "# Languages to translate to (fix Sepedi to nso)\n",
    "langs = {\n",
    "    \"Zulu\": \"zu\",\n",
    "    \"Xhosa\": \"xh\",\n",
    "    \"Sepedi\": \"nso\",   # Correct code if supported\n",
    "    \"Shona\": \"sn\",\n",
    "    \"Afrikaans\": \"af\"\n",
    "}\n",
    "\n",
    "def safe_translate(text, src, dest, retries=5, delay=5):\n",
    "    \"\"\"Translate text with retries and delay.\"\"\"\n",
    "    text = text.strip().replace(\"\\u00A0\", \" \")  # Clean non-breaking spaces\n",
    "    for _ in range(retries):\n",
    "        try:\n",
    "            result = translator.translate(text, src=src, dest=dest)\n",
    "            if result and result.text:\n",
    "                return result.text\n",
    "        except Exception:\n",
    "            time.sleep(delay)\n",
    "    return None\n",
    "\n",
    "# Process only missing rows\n",
    "for i, row in missing_rows.iterrows():\n",
    "    french_word = str(row[\"French\"]).strip()\n",
    "    if not french_word:\n",
    "        continue\n",
    "\n",
    "    english_translation = safe_translate(french_word, src=\"fr\", dest=\"en\")\n",
    "    if english_translation:\n",
    "        df.at[i, \"English\"] = english_translation\n",
    "        for lang, code in langs.items():\n",
    "            if pd.isna(df.at[i, lang]) or df.at[i, lang] == \"\":\n",
    "                translated = safe_translate(english_translation, src=\"en\", dest=code)\n",
    "                df.at[i, lang] = translated if translated else \"\"\n",
    "    else:\n",
    "        print(f\"⚠️ Could not translate '{french_word}'\")\n",
    "\n",
    "# Save the fixed lexicon\n",
    "df.to_excel(\"expanded_lexicon_fixed_v2.xlsx\", index=False)\n",
    "print(\"✅ Missing translations fixed and saved!\")\n"
   ]
  },
  {
   "cell_type": "code",
   "execution_count": null,
   "id": "25efc957",
   "metadata": {},
   "outputs": [
    {
     "name": "stdout",
     "output_type": "stream",
     "text": [
      "Still missing after fixing: 0\n"
     ]
    }
   ],
   "source": [
    "import pandas as pd\n",
    "\n",
    "# Load the fixed lexicon\n",
    "df_fixed = pd.read_excel(\"expanded_lexicon_fixed_v2.xlsx\")\n",
    "\n",
    "# Check for missing English translations\n",
    "missing_after = df_fixed[df_fixed[\"English\"].isna() | (df_fixed[\"English\"] == \"\")]\n",
    "print(f\"Still missing after fixing: {len(missing_after)}\")\n",
    "\n",
    "# Optional: see the words that are still missing\n",
    "if len(missing_after) > 0:\n",
    "    print(missing_after[[\"French\", \"English\"]])"
   ]
  },
  {
   "cell_type": "code",
   "execution_count": null,
   "id": "82383bc5",
   "metadata": {},
   "outputs": [
    {
     "name": "stdout",
     "output_type": "stream",
     "text": [
      "Zulu: 10 missing translations\n",
      "          French     English Zulu\n",
      "447        route        road  NaN\n",
      "748     pantalon       pants  NaN\n",
      "765       doigts     fingers  NaN\n",
      "832      chanter        sing  NaN\n",
      "1561      Demain    Tomorrow  NaN\n",
      "4955  chimérique  chimerical  NaN\n",
      "4959      chiper       steal  NaN\n",
      "4962      chique      classy  NaN\n",
      "4963       jabot        crop  NaN\n",
      "4966    jacasser     chatter  NaN\n",
      "Xhosa: 13 missing translations\n",
      "          French     English Xhosa\n",
      "447        route        road   NaN\n",
      "748     pantalon       pants   NaN\n",
      "765       doigts     fingers   NaN\n",
      "832      chanter        sing   NaN\n",
      "1561      Demain    Tomorrow   NaN\n",
      "1570     Abeille         Bee   NaN\n",
      "4955  chimérique  chimerical   NaN\n",
      "4957   chimpanzé  chimpanzee   NaN\n",
      "4959      chiper       steal   NaN\n",
      "4962      chique      classy   NaN\n",
      "Sepedi: 112 missing translations\n",
      "            French      English Sepedi\n",
      "447          route         road    NaN\n",
      "520        trouver         find    NaN\n",
      "748       pantalon        pants    NaN\n",
      "765         doigts      fingers    NaN\n",
      "832        chanter         sing    NaN\n",
      "887       partager        share    NaN\n",
      "1561        Demain     Tomorrow    NaN\n",
      "1570       Abeille          Bee    NaN\n",
      "1597   Information  Information    NaN\n",
      "1602          Père       Father    NaN\n",
      "Shona: 25 missing translations\n",
      "        French   English Shona\n",
      "447      route      road   NaN\n",
      "565   cailloux   pebbles   NaN\n",
      "748   pantalon     pants   NaN\n",
      "765     doigts   fingers   NaN\n",
      "832    chanter      sing   NaN\n",
      "863   pietuner  pietuner   NaN\n",
      "887   partager     share   NaN\n",
      "1561    Demain  Tomorrow   NaN\n",
      "1570   Abeille       Bee   NaN\n",
      "4605  ceinture      belt   NaN\n",
      "Afrikaans: 27 missing translations\n",
      "        French   English Afrikaans\n",
      "447      route      road       NaN\n",
      "565   cailloux   pebbles       NaN\n",
      "748   pantalon     pants       NaN\n",
      "765     doigts   fingers       NaN\n",
      "832    chanter      sing       NaN\n",
      "863   pietuner  pietuner       NaN\n",
      "887   partager     share       NaN\n",
      "1561    Demain  Tomorrow       NaN\n",
      "1570   Abeille       Bee       NaN\n",
      "2450   Rancune    Grudge       NaN\n"
     ]
    }
   ],
   "source": [
    "import pandas as pd\n",
    "\n",
    "# Load the fixed lexicon\n",
    "df_fixed = pd.read_excel(\"expanded_lexicon_fixed_v2.xlsx\")\n",
    "\n",
    "# List of columns to check\n",
    "langs = [\"Zulu\", \"Xhosa\", \"Sepedi\", \"Shona\", \"Afrikaans\"]\n",
    "\n",
    "# Check for missing translations in each language\n",
    "for lang in langs:\n",
    "    missing = df_fixed[df_fixed[lang].isna() | (df_fixed[lang] == \"\")]\n",
    "    print(f\"{lang}: {len(missing)} missing translations\")\n",
    "    if len(missing) > 0:\n",
    "        print(missing[[\"French\", \"English\", lang]].head(10))  # show first 10 missing\n"
   ]
  },
  {
   "cell_type": "code",
   "execution_count": null,
   "id": "45f4936b",
   "metadata": {},
   "outputs": [
    {
     "name": "stdout",
     "output_type": "stream",
     "text": [
      "\n",
      "🔎 Translating 10 missing entries for Zulu...\n",
      "\n",
      "🔎 Translating 13 missing entries for Xhosa...\n",
      "\n",
      "🔎 Translating 112 missing entries for Sepedi...\n",
      "\n",
      "🔎 Translating 25 missing entries for Shona...\n",
      "\n",
      "🔎 Translating 27 missing entries for Afrikaans...\n",
      "\n",
      "✅ Finished! Missing translations have been filled.\n"
     ]
    }
   ],
   "source": [
    "import pandas as pd\n",
    "import time\n",
    "from googletrans import Translator\n",
    "\n",
    "# Load the fixed lexicon\n",
    "df = pd.read_excel(\"expanded_lexicon_fixed_v2.xlsx\")\n",
    "\n",
    "translator = Translator()\n",
    "\n",
    "# Supported language codes\n",
    "langs = {\n",
    "    \"Zulu\": \"zu\",\n",
    "    \"Xhosa\": \"xh\",\n",
    "    \"Sepedi\": \"nso\",   # Note: Sepedi sometimes not supported well\n",
    "    \"Shona\": \"sn\",\n",
    "    \"Afrikaans\": \"af\"\n",
    "}\n",
    "\n",
    "def safe_translate(text, src=\"en\", dest=\"zu\", retries=3, delay=2):\n",
    "    \"\"\"Translate with retries to handle errors/timeouts.\"\"\"\n",
    "    if pd.isna(text) or text.strip() == \"\":\n",
    "        return None\n",
    "    for _ in range(retries):\n",
    "        try:\n",
    "            result = translator.translate(text, src=src, dest=dest)\n",
    "            if result and result.text:\n",
    "                return result.text\n",
    "        except Exception:\n",
    "            time.sleep(delay)\n",
    "    return None\n",
    "\n",
    "# Translate only missing entries for each language\n",
    "for lang, code in langs.items():\n",
    "    missing = df[df[lang].isna() | (df[lang] == \"\")]\n",
    "    print(f\"\\n🔎 Translating {len(missing)} missing entries for {lang}...\")\n",
    "    \n",
    "    for i, row in missing.iterrows():\n",
    "        english_word = str(row[\"English\"]).strip()\n",
    "        if not english_word:\n",
    "            continue\n",
    "        translated = safe_translate(english_word, src=\"en\", dest=code)\n",
    "        df.at[i, lang] = translated if translated else \"\"\n",
    "\n",
    "# Save updated file\n",
    "df.to_excel(\"expanded_lexicon_v3.xlsx\", index=False)\n",
    "print(\"\\n✅ Finished! Missing translations have been filled.\")\n"
   ]
  },
  {
   "cell_type": "code",
   "execution_count": null,
   "id": "1fb15554",
   "metadata": {},
   "outputs": [
    {
     "name": "stdout",
     "output_type": "stream",
     "text": [
      "Zulu: 0 still missing\n",
      "Xhosa: 0 still missing\n",
      "Sepedi: 112 still missing\n",
      "            French      English Sepedi\n",
      "447          route         road    NaN\n",
      "520        trouver         find    NaN\n",
      "748       pantalon        pants    NaN\n",
      "765         doigts      fingers    NaN\n",
      "832        chanter         sing    NaN\n",
      "887       partager        share    NaN\n",
      "1561        Demain     Tomorrow    NaN\n",
      "1570       Abeille          Bee    NaN\n",
      "1597   Information  Information    NaN\n",
      "1602          Père       Father    NaN\n",
      "Shona: 0 still missing\n",
      "Afrikaans: 0 still missing\n"
     ]
    }
   ],
   "source": [
    "import pandas as pd\n",
    "\n",
    "# Load the new file\n",
    "df = pd.read_excel(\"expanded_lexicon_v3.xlsx\")\n",
    "\n",
    "langs = [\"Zulu\", \"Xhosa\", \"Sepedi\", \"Shona\", \"Afrikaans\"]\n",
    "\n",
    "# Check if any missing values remain\n",
    "for lang in langs:\n",
    "    missing = df[df[lang].isna() | (df[lang] == \"\")]\n",
    "    print(f\"{lang}: {len(missing)} still missing\")\n",
    "    if len(missing) > 0:\n",
    "        print(missing[[\"French\", \"English\", lang]].head(10))\n"
   ]
  },
  {
   "cell_type": "code",
   "execution_count": null,
   "id": "867692d2",
   "metadata": {},
   "outputs": [
    {
     "name": "stdout",
     "output_type": "stream",
     "text": [
      "Found 112 missing Sepedi entries.\n"
     ]
    },
    {
     "name": "stderr",
     "output_type": "stream",
     "text": [
      "  1%|          | 1/112 [00:00<01:34,  1.17it/s]"
     ]
    },
    {
     "name": "stdout",
     "output_type": "stream",
     "text": [
      "⚠️ API error for 'road': {\n",
      "    \"error\": {\n",
      "        \"message\": \"Incorrect API key provided: YOUR_API*****HERE. You can find your API key at https://platform.openai.com/account/api-keys.\",\n",
      "        \"type\": \"invalid_request_error\",\n",
      "        \"param\": null,\n",
      "        \"code\": \"invalid_api_key\"\n",
      "    }\n",
      "}\n",
      "\n"
     ]
    },
    {
     "name": "stderr",
     "output_type": "stream",
     "text": [
      "  2%|▏         | 2/112 [00:01<01:28,  1.24it/s]"
     ]
    },
    {
     "name": "stdout",
     "output_type": "stream",
     "text": [
      "⚠️ API error for 'find': {\n",
      "    \"error\": {\n",
      "        \"message\": \"Incorrect API key provided: YOUR_API*****HERE. You can find your API key at https://platform.openai.com/account/api-keys.\",\n",
      "        \"type\": \"invalid_request_error\",\n",
      "        \"param\": null,\n",
      "        \"code\": \"invalid_api_key\"\n",
      "    }\n",
      "}\n",
      "\n"
     ]
    },
    {
     "name": "stderr",
     "output_type": "stream",
     "text": [
      "  3%|▎         | 3/112 [00:02<01:28,  1.23it/s]"
     ]
    },
    {
     "name": "stdout",
     "output_type": "stream",
     "text": [
      "⚠️ API error for 'pants': {\n",
      "    \"error\": {\n",
      "        \"message\": \"Incorrect API key provided: YOUR_API*****HERE. You can find your API key at https://platform.openai.com/account/api-keys.\",\n",
      "        \"type\": \"invalid_request_error\",\n",
      "        \"param\": null,\n",
      "        \"code\": \"invalid_api_key\"\n",
      "    }\n",
      "}\n",
      "\n"
     ]
    },
    {
     "name": "stderr",
     "output_type": "stream",
     "text": [
      "  4%|▎         | 4/112 [00:03<01:25,  1.27it/s]"
     ]
    },
    {
     "name": "stdout",
     "output_type": "stream",
     "text": [
      "⚠️ API error for 'fingers': {\n",
      "    \"error\": {\n",
      "        \"message\": \"Incorrect API key provided: YOUR_API*****HERE. You can find your API key at https://platform.openai.com/account/api-keys.\",\n",
      "        \"type\": \"invalid_request_error\",\n",
      "        \"param\": null,\n",
      "        \"code\": \"invalid_api_key\"\n",
      "    }\n",
      "}\n",
      "\n"
     ]
    },
    {
     "name": "stderr",
     "output_type": "stream",
     "text": [
      "  4%|▍         | 5/112 [00:03<01:22,  1.30it/s]"
     ]
    },
    {
     "name": "stdout",
     "output_type": "stream",
     "text": [
      "⚠️ API error for 'sing': {\n",
      "    \"error\": {\n",
      "        \"message\": \"Incorrect API key provided: YOUR_API*****HERE. You can find your API key at https://platform.openai.com/account/api-keys.\",\n",
      "        \"type\": \"invalid_request_error\",\n",
      "        \"param\": null,\n",
      "        \"code\": \"invalid_api_key\"\n",
      "    }\n",
      "}\n",
      "\n"
     ]
    },
    {
     "name": "stderr",
     "output_type": "stream",
     "text": [
      "  5%|▌         | 6/112 [00:04<01:19,  1.33it/s]"
     ]
    },
    {
     "name": "stdout",
     "output_type": "stream",
     "text": [
      "⚠️ API error for 'share': {\n",
      "    \"error\": {\n",
      "        \"message\": \"Incorrect API key provided: YOUR_API*****HERE. You can find your API key at https://platform.openai.com/account/api-keys.\",\n",
      "        \"type\": \"invalid_request_error\",\n",
      "        \"param\": null,\n",
      "        \"code\": \"invalid_api_key\"\n",
      "    }\n",
      "}\n",
      "\n"
     ]
    },
    {
     "name": "stderr",
     "output_type": "stream",
     "text": [
      "  6%|▋         | 7/112 [00:05<01:18,  1.34it/s]"
     ]
    },
    {
     "name": "stdout",
     "output_type": "stream",
     "text": [
      "⚠️ API error for 'Tomorrow': {\n",
      "    \"error\": {\n",
      "        \"message\": \"Incorrect API key provided: YOUR_API*****HERE. You can find your API key at https://platform.openai.com/account/api-keys.\",\n",
      "        \"type\": \"invalid_request_error\",\n",
      "        \"param\": null,\n",
      "        \"code\": \"invalid_api_key\"\n",
      "    }\n",
      "}\n",
      "\n"
     ]
    },
    {
     "name": "stderr",
     "output_type": "stream",
     "text": [
      "  7%|▋         | 8/112 [00:06<01:16,  1.36it/s]"
     ]
    },
    {
     "name": "stdout",
     "output_type": "stream",
     "text": [
      "⚠️ API error for 'Bee': {\n",
      "    \"error\": {\n",
      "        \"message\": \"Incorrect API key provided: YOUR_API*****HERE. You can find your API key at https://platform.openai.com/account/api-keys.\",\n",
      "        \"type\": \"invalid_request_error\",\n",
      "        \"param\": null,\n",
      "        \"code\": \"invalid_api_key\"\n",
      "    }\n",
      "}\n",
      "\n"
     ]
    },
    {
     "name": "stderr",
     "output_type": "stream",
     "text": [
      "  8%|▊         | 9/112 [00:06<01:15,  1.37it/s]"
     ]
    },
    {
     "name": "stdout",
     "output_type": "stream",
     "text": [
      "⚠️ API error for 'Information': {\n",
      "    \"error\": {\n",
      "        \"message\": \"Incorrect API key provided: YOUR_API*****HERE. You can find your API key at https://platform.openai.com/account/api-keys.\",\n",
      "        \"type\": \"invalid_request_error\",\n",
      "        \"param\": null,\n",
      "        \"code\": \"invalid_api_key\"\n",
      "    }\n",
      "}\n",
      "\n"
     ]
    },
    {
     "name": "stderr",
     "output_type": "stream",
     "text": [
      "  9%|▉         | 10/112 [00:07<01:14,  1.37it/s]"
     ]
    },
    {
     "name": "stdout",
     "output_type": "stream",
     "text": [
      "⚠️ API error for 'Father': {\n",
      "    \"error\": {\n",
      "        \"message\": \"Incorrect API key provided: YOUR_API*****HERE. You can find your API key at https://platform.openai.com/account/api-keys.\",\n",
      "        \"type\": \"invalid_request_error\",\n",
      "        \"param\": null,\n",
      "        \"code\": \"invalid_api_key\"\n",
      "    }\n",
      "}\n",
      "\n"
     ]
    },
    {
     "name": "stderr",
     "output_type": "stream",
     "text": [
      " 10%|▉         | 11/112 [00:08<01:14,  1.36it/s]"
     ]
    },
    {
     "name": "stdout",
     "output_type": "stream",
     "text": [
      "⚠️ API error for 'Education': {\n",
      "    \"error\": {\n",
      "        \"message\": \"Incorrect API key provided: YOUR_API*****HERE. You can find your API key at https://platform.openai.com/account/api-keys.\",\n",
      "        \"type\": \"invalid_request_error\",\n",
      "        \"param\": null,\n",
      "        \"code\": \"invalid_api_key\"\n",
      "    }\n",
      "}\n",
      "\n"
     ]
    },
    {
     "name": "stderr",
     "output_type": "stream",
     "text": [
      " 11%|█         | 12/112 [00:09<01:13,  1.36it/s]"
     ]
    },
    {
     "name": "stdout",
     "output_type": "stream",
     "text": [
      "⚠️ API error for 'teacher': {\n",
      "    \"error\": {\n",
      "        \"message\": \"Incorrect API key provided: YOUR_API*****HERE. You can find your API key at https://platform.openai.com/account/api-keys.\",\n",
      "        \"type\": \"invalid_request_error\",\n",
      "        \"param\": null,\n",
      "        \"code\": \"invalid_api_key\"\n",
      "    }\n",
      "}\n",
      "\n"
     ]
    },
    {
     "name": "stderr",
     "output_type": "stream",
     "text": [
      " 12%|█▏        | 13/112 [00:09<01:12,  1.36it/s]"
     ]
    },
    {
     "name": "stdout",
     "output_type": "stream",
     "text": [
      "⚠️ API error for 'Sadness': {\n",
      "    \"error\": {\n",
      "        \"message\": \"Incorrect API key provided: YOUR_API*****HERE. You can find your API key at https://platform.openai.com/account/api-keys.\",\n",
      "        \"type\": \"invalid_request_error\",\n",
      "        \"param\": null,\n",
      "        \"code\": \"invalid_api_key\"\n",
      "    }\n",
      "}\n",
      "\n"
     ]
    },
    {
     "name": "stderr",
     "output_type": "stream",
     "text": [
      " 12%|█▎        | 14/112 [00:10<01:12,  1.35it/s]"
     ]
    },
    {
     "name": "stdout",
     "output_type": "stream",
     "text": [
      "⚠️ API error for 'Pillow': {\n",
      "    \"error\": {\n",
      "        \"message\": \"Incorrect API key provided: YOUR_API*****HERE. You can find your API key at https://platform.openai.com/account/api-keys.\",\n",
      "        \"type\": \"invalid_request_error\",\n",
      "        \"param\": null,\n",
      "        \"code\": \"invalid_api_key\"\n",
      "    }\n",
      "}\n",
      "\n"
     ]
    },
    {
     "name": "stderr",
     "output_type": "stream",
     "text": [
      " 13%|█▎        | 15/112 [00:11<01:12,  1.35it/s]"
     ]
    },
    {
     "name": "stdout",
     "output_type": "stream",
     "text": [
      "⚠️ API error for 'Whirlwind': {\n",
      "    \"error\": {\n",
      "        \"message\": \"Incorrect API key provided: YOUR_API*****HERE. You can find your API key at https://platform.openai.com/account/api-keys.\",\n",
      "        \"type\": \"invalid_request_error\",\n",
      "        \"param\": null,\n",
      "        \"code\": \"invalid_api_key\"\n",
      "    }\n",
      "}\n",
      "\n"
     ]
    },
    {
     "name": "stderr",
     "output_type": "stream",
     "text": [
      " 14%|█▍        | 16/112 [00:11<01:11,  1.35it/s]"
     ]
    },
    {
     "name": "stdout",
     "output_type": "stream",
     "text": [
      "⚠️ API error for 'Rain': {\n",
      "    \"error\": {\n",
      "        \"message\": \"Incorrect API key provided: YOUR_API*****HERE. You can find your API key at https://platform.openai.com/account/api-keys.\",\n",
      "        \"type\": \"invalid_request_error\",\n",
      "        \"param\": null,\n",
      "        \"code\": \"invalid_api_key\"\n",
      "    }\n",
      "}\n",
      "\n"
     ]
    },
    {
     "name": "stderr",
     "output_type": "stream",
     "text": [
      " 15%|█▌        | 17/112 [00:12<01:10,  1.35it/s]"
     ]
    },
    {
     "name": "stdout",
     "output_type": "stream",
     "text": [
      "⚠️ API error for 'thumbtack': {\n",
      "    \"error\": {\n",
      "        \"message\": \"Incorrect API key provided: YOUR_API*****HERE. You can find your API key at https://platform.openai.com/account/api-keys.\",\n",
      "        \"type\": \"invalid_request_error\",\n",
      "        \"param\": null,\n",
      "        \"code\": \"invalid_api_key\"\n",
      "    }\n",
      "}\n",
      "\n"
     ]
    },
    {
     "name": "stderr",
     "output_type": "stream",
     "text": [
      " 16%|█▌        | 18/112 [00:13<01:10,  1.34it/s]"
     ]
    },
    {
     "name": "stdout",
     "output_type": "stream",
     "text": [
      "⚠️ API error for 'Young Woman': {\n",
      "    \"error\": {\n",
      "        \"message\": \"Incorrect API key provided: YOUR_API*****HERE. You can find your API key at https://platform.openai.com/account/api-keys.\",\n",
      "        \"type\": \"invalid_request_error\",\n",
      "        \"param\": null,\n",
      "        \"code\": \"invalid_api_key\"\n",
      "    }\n",
      "}\n",
      "\n"
     ]
    },
    {
     "name": "stderr",
     "output_type": "stream",
     "text": [
      " 17%|█▋        | 19/112 [00:14<01:09,  1.34it/s]"
     ]
    },
    {
     "name": "stdout",
     "output_type": "stream",
     "text": [
      "⚠️ API error for 'Youngman': {\n",
      "    \"error\": {\n",
      "        \"message\": \"Incorrect API key provided: YOUR_API*****HERE. You can find your API key at https://platform.openai.com/account/api-keys.\",\n",
      "        \"type\": \"invalid_request_error\",\n",
      "        \"param\": null,\n",
      "        \"code\": \"invalid_api_key\"\n",
      "    }\n",
      "}\n",
      "\n"
     ]
    },
    {
     "name": "stderr",
     "output_type": "stream",
     "text": [
      " 18%|█▊        | 20/112 [00:15<01:09,  1.33it/s]"
     ]
    },
    {
     "name": "stdout",
     "output_type": "stream",
     "text": [
      "⚠️ API error for 'Uncle': {\n",
      "    \"error\": {\n",
      "        \"message\": \"Incorrect API key provided: YOUR_API*****HERE. You can find your API key at https://platform.openai.com/account/api-keys.\",\n",
      "        \"type\": \"invalid_request_error\",\n",
      "        \"param\": null,\n",
      "        \"code\": \"invalid_api_key\"\n",
      "    }\n",
      "}\n",
      "\n"
     ]
    },
    {
     "name": "stderr",
     "output_type": "stream",
     "text": [
      " 19%|█▉        | 21/112 [00:15<01:08,  1.33it/s]"
     ]
    },
    {
     "name": "stdout",
     "output_type": "stream",
     "text": [
      "⚠️ API error for 'Aunt': {\n",
      "    \"error\": {\n",
      "        \"message\": \"Incorrect API key provided: YOUR_API*****HERE. You can find your API key at https://platform.openai.com/account/api-keys.\",\n",
      "        \"type\": \"invalid_request_error\",\n",
      "        \"param\": null,\n",
      "        \"code\": \"invalid_api_key\"\n",
      "    }\n",
      "}\n",
      "\n"
     ]
    },
    {
     "name": "stderr",
     "output_type": "stream",
     "text": [
      " 20%|█▉        | 22/112 [00:16<01:12,  1.24it/s]"
     ]
    },
    {
     "name": "stdout",
     "output_type": "stream",
     "text": [
      "⚠️ API error for 'Do': {\n",
      "    \"error\": {\n",
      "        \"message\": \"Incorrect API key provided: YOUR_API*****HERE. You can find your API key at https://platform.openai.com/account/api-keys.\",\n",
      "        \"type\": \"invalid_request_error\",\n",
      "        \"param\": null,\n",
      "        \"code\": \"invalid_api_key\"\n",
      "    }\n",
      "}\n",
      "\n"
     ]
    },
    {
     "name": "stderr",
     "output_type": "stream",
     "text": [
      " 21%|██        | 23/112 [00:17<01:10,  1.27it/s]"
     ]
    },
    {
     "name": "stdout",
     "output_type": "stream",
     "text": [
      "⚠️ API error for 'Urine': {\n",
      "    \"error\": {\n",
      "        \"message\": \"Incorrect API key provided: YOUR_API*****HERE. You can find your API key at https://platform.openai.com/account/api-keys.\",\n",
      "        \"type\": \"invalid_request_error\",\n",
      "        \"param\": null,\n",
      "        \"code\": \"invalid_api_key\"\n",
      "    }\n",
      "}\n",
      "\n"
     ]
    },
    {
     "name": "stderr",
     "output_type": "stream",
     "text": [
      " 21%|██▏       | 24/112 [00:18<01:08,  1.28it/s]"
     ]
    },
    {
     "name": "stdout",
     "output_type": "stream",
     "text": [
      "⚠️ API error for 'THANKS': {\n",
      "    \"error\": {\n",
      "        \"message\": \"Incorrect API key provided: YOUR_API*****HERE. You can find your API key at https://platform.openai.com/account/api-keys.\",\n",
      "        \"type\": \"invalid_request_error\",\n",
      "        \"param\": null,\n",
      "        \"code\": \"invalid_api_key\"\n",
      "    }\n",
      "}\n",
      "\n"
     ]
    },
    {
     "name": "stderr",
     "output_type": "stream",
     "text": [
      " 22%|██▏       | 25/112 [00:18<01:07,  1.29it/s]"
     ]
    },
    {
     "name": "stdout",
     "output_type": "stream",
     "text": [
      "⚠️ API error for 'Sleep': {\n",
      "    \"error\": {\n",
      "        \"message\": \"Incorrect API key provided: YOUR_API*****HERE. You can find your API key at https://platform.openai.com/account/api-keys.\",\n",
      "        \"type\": \"invalid_request_error\",\n",
      "        \"param\": null,\n",
      "        \"code\": \"invalid_api_key\"\n",
      "    }\n",
      "}\n",
      "\n"
     ]
    },
    {
     "name": "stderr",
     "output_type": "stream",
     "text": [
      " 23%|██▎       | 26/112 [00:19<01:05,  1.31it/s]"
     ]
    },
    {
     "name": "stdout",
     "output_type": "stream",
     "text": [
      "⚠️ API error for 'Struck': {\n",
      "    \"error\": {\n",
      "        \"message\": \"Incorrect API key provided: YOUR_API*****HERE. You can find your API key at https://platform.openai.com/account/api-keys.\",\n",
      "        \"type\": \"invalid_request_error\",\n",
      "        \"param\": null,\n",
      "        \"code\": \"invalid_api_key\"\n",
      "    }\n",
      "}\n",
      "\n"
     ]
    },
    {
     "name": "stderr",
     "output_type": "stream",
     "text": [
      " 24%|██▍       | 27/112 [00:20<01:04,  1.31it/s]"
     ]
    },
    {
     "name": "stdout",
     "output_type": "stream",
     "text": [
      "⚠️ API error for 'Turn': {\n",
      "    \"error\": {\n",
      "        \"message\": \"Incorrect API key provided: YOUR_API*****HERE. You can find your API key at https://platform.openai.com/account/api-keys.\",\n",
      "        \"type\": \"invalid_request_error\",\n",
      "        \"param\": null,\n",
      "        \"code\": \"invalid_api_key\"\n",
      "    }\n",
      "}\n",
      "\n"
     ]
    },
    {
     "name": "stderr",
     "output_type": "stream",
     "text": [
      " 25%|██▌       | 28/112 [00:21<01:03,  1.32it/s]"
     ]
    },
    {
     "name": "stdout",
     "output_type": "stream",
     "text": [
      "⚠️ API error for 'Read': {\n",
      "    \"error\": {\n",
      "        \"message\": \"Incorrect API key provided: YOUR_API*****HERE. You can find your API key at https://platform.openai.com/account/api-keys.\",\n",
      "        \"type\": \"invalid_request_error\",\n",
      "        \"param\": null,\n",
      "        \"code\": \"invalid_api_key\"\n",
      "    }\n",
      "}\n",
      "\n"
     ]
    },
    {
     "name": "stderr",
     "output_type": "stream",
     "text": [
      " 26%|██▌       | 29/112 [00:21<01:03,  1.31it/s]"
     ]
    },
    {
     "name": "stdout",
     "output_type": "stream",
     "text": [
      "⚠️ API error for 'Eat': {\n",
      "    \"error\": {\n",
      "        \"message\": \"Incorrect API key provided: YOUR_API*****HERE. You can find your API key at https://platform.openai.com/account/api-keys.\",\n",
      "        \"type\": \"invalid_request_error\",\n",
      "        \"param\": null,\n",
      "        \"code\": \"invalid_api_key\"\n",
      "    }\n",
      "}\n",
      "\n"
     ]
    },
    {
     "name": "stderr",
     "output_type": "stream",
     "text": [
      " 27%|██▋       | 30/112 [00:22<01:02,  1.30it/s]"
     ]
    },
    {
     "name": "stdout",
     "output_type": "stream",
     "text": [
      "⚠️ API error for 'Disease': {\n",
      "    \"error\": {\n",
      "        \"message\": \"Incorrect API key provided: YOUR_API*****HERE. You can find your API key at https://platform.openai.com/account/api-keys.\",\n",
      "        \"type\": \"invalid_request_error\",\n",
      "        \"param\": null,\n",
      "        \"code\": \"invalid_api_key\"\n",
      "    }\n",
      "}\n",
      "\n"
     ]
    },
    {
     "name": "stderr",
     "output_type": "stream",
     "text": [
      " 28%|██▊       | 31/112 [00:23<01:02,  1.31it/s]"
     ]
    },
    {
     "name": "stdout",
     "output_type": "stream",
     "text": [
      "⚠️ API error for 'Dead': {\n",
      "    \"error\": {\n",
      "        \"message\": \"Incorrect API key provided: YOUR_API*****HERE. You can find your API key at https://platform.openai.com/account/api-keys.\",\n",
      "        \"type\": \"invalid_request_error\",\n",
      "        \"param\": null,\n",
      "        \"code\": \"invalid_api_key\"\n",
      "    }\n",
      "}\n",
      "\n"
     ]
    },
    {
     "name": "stderr",
     "output_type": "stream",
     "text": [
      " 29%|██▊       | 32/112 [00:24<01:01,  1.29it/s]"
     ]
    },
    {
     "name": "stdout",
     "output_type": "stream",
     "text": [
      "⚠️ API error for 'Deceased': {\n",
      "    \"error\": {\n",
      "        \"message\": \"Incorrect API key provided: YOUR_API*****HERE. You can find your API key at https://platform.openai.com/account/api-keys.\",\n",
      "        \"type\": \"invalid_request_error\",\n",
      "        \"param\": null,\n",
      "        \"code\": \"invalid_api_key\"\n",
      "    }\n",
      "}\n",
      "\n"
     ]
    },
    {
     "name": "stderr",
     "output_type": "stream",
     "text": [
      " 29%|██▉       | 33/112 [00:25<01:03,  1.24it/s]"
     ]
    },
    {
     "name": "stdout",
     "output_type": "stream",
     "text": [
      "⚠️ API error for 'Pity': {\n",
      "    \"error\": {\n",
      "        \"message\": \"Incorrect API key provided: YOUR_API*****HERE. You can find your API key at https://platform.openai.com/account/api-keys.\",\n",
      "        \"type\": \"invalid_request_error\",\n",
      "        \"param\": null,\n",
      "        \"code\": \"invalid_api_key\"\n",
      "    }\n",
      "}\n",
      "\n"
     ]
    },
    {
     "name": "stderr",
     "output_type": "stream",
     "text": [
      " 30%|███       | 34/112 [00:25<01:01,  1.27it/s]"
     ]
    },
    {
     "name": "stdout",
     "output_type": "stream",
     "text": [
      "⚠️ API error for 'Ants': {\n",
      "    \"error\": {\n",
      "        \"message\": \"Incorrect API key provided: YOUR_API*****HERE. You can find your API key at https://platform.openai.com/account/api-keys.\",\n",
      "        \"type\": \"invalid_request_error\",\n",
      "        \"param\": null,\n",
      "        \"code\": \"invalid_api_key\"\n",
      "    }\n",
      "}\n",
      "\n"
     ]
    },
    {
     "name": "stderr",
     "output_type": "stream",
     "text": [
      " 31%|███▏      | 35/112 [00:26<00:58,  1.31it/s]"
     ]
    },
    {
     "name": "stdout",
     "output_type": "stream",
     "text": [
      "⚠️ API error for 'Bird': {\n",
      "    \"error\": {\n",
      "        \"message\": \"Incorrect API key provided: YOUR_API*****HERE. You can find your API key at https://platform.openai.com/account/api-keys.\",\n",
      "        \"type\": \"invalid_request_error\",\n",
      "        \"param\": null,\n",
      "        \"code\": \"invalid_api_key\"\n",
      "    }\n",
      "}\n",
      "\n"
     ]
    },
    {
     "name": "stderr",
     "output_type": "stream",
     "text": [
      " 32%|███▏      | 36/112 [00:27<00:58,  1.29it/s]"
     ]
    },
    {
     "name": "stdout",
     "output_type": "stream",
     "text": [
      "⚠️ API error for 'Mad': {\n",
      "    \"error\": {\n",
      "        \"message\": \"Incorrect API key provided: YOUR_API*****HERE. You can find your API key at https://platform.openai.com/account/api-keys.\",\n",
      "        \"type\": \"invalid_request_error\",\n",
      "        \"param\": null,\n",
      "        \"code\": \"invalid_api_key\"\n",
      "    }\n",
      "}\n",
      "\n"
     ]
    },
    {
     "name": "stderr",
     "output_type": "stream",
     "text": [
      " 33%|███▎      | 37/112 [00:28<00:58,  1.28it/s]"
     ]
    },
    {
     "name": "stdout",
     "output_type": "stream",
     "text": [
      "⚠️ API error for 'Rich': {\n",
      "    \"error\": {\n",
      "        \"message\": \"Incorrect API key provided: YOUR_API*****HERE. You can find your API key at https://platform.openai.com/account/api-keys.\",\n",
      "        \"type\": \"invalid_request_error\",\n",
      "        \"param\": null,\n",
      "        \"code\": \"invalid_api_key\"\n",
      "    }\n",
      "}\n",
      "\n"
     ]
    },
    {
     "name": "stderr",
     "output_type": "stream",
     "text": [
      " 34%|███▍      | 38/112 [00:28<00:57,  1.30it/s]"
     ]
    },
    {
     "name": "stdout",
     "output_type": "stream",
     "text": [
      "⚠️ API error for 'Marry': {\n",
      "    \"error\": {\n",
      "        \"message\": \"Incorrect API key provided: YOUR_API*****HERE. You can find your API key at https://platform.openai.com/account/api-keys.\",\n",
      "        \"type\": \"invalid_request_error\",\n",
      "        \"param\": null,\n",
      "        \"code\": \"invalid_api_key\"\n",
      "    }\n",
      "}\n",
      "\n"
     ]
    },
    {
     "name": "stderr",
     "output_type": "stream",
     "text": [
      " 35%|███▍      | 39/112 [00:29<00:55,  1.30it/s]"
     ]
    },
    {
     "name": "stdout",
     "output_type": "stream",
     "text": [
      "⚠️ API error for 'Rabbit': {\n",
      "    \"error\": {\n",
      "        \"message\": \"Incorrect API key provided: YOUR_API*****HERE. You can find your API key at https://platform.openai.com/account/api-keys.\",\n",
      "        \"type\": \"invalid_request_error\",\n",
      "        \"param\": null,\n",
      "        \"code\": \"invalid_api_key\"\n",
      "    }\n",
      "}\n",
      "\n"
     ]
    },
    {
     "name": "stderr",
     "output_type": "stream",
     "text": [
      " 36%|███▌      | 40/112 [00:30<00:54,  1.31it/s]"
     ]
    },
    {
     "name": "stdout",
     "output_type": "stream",
     "text": [
      "⚠️ API error for 'Bike': {\n",
      "    \"error\": {\n",
      "        \"message\": \"Incorrect API key provided: YOUR_API*****HERE. You can find your API key at https://platform.openai.com/account/api-keys.\",\n",
      "        \"type\": \"invalid_request_error\",\n",
      "        \"param\": null,\n",
      "        \"code\": \"invalid_api_key\"\n",
      "    }\n",
      "}\n",
      "\n"
     ]
    },
    {
     "name": "stderr",
     "output_type": "stream",
     "text": [
      " 37%|███▋      | 41/112 [00:31<00:53,  1.32it/s]"
     ]
    },
    {
     "name": "stdout",
     "output_type": "stream",
     "text": [
      "⚠️ API error for 'Fear': {\n",
      "    \"error\": {\n",
      "        \"message\": \"Incorrect API key provided: YOUR_API*****HERE. You can find your API key at https://platform.openai.com/account/api-keys.\",\n",
      "        \"type\": \"invalid_request_error\",\n",
      "        \"param\": null,\n",
      "        \"code\": \"invalid_api_key\"\n",
      "    }\n",
      "}\n",
      "\n"
     ]
    },
    {
     "name": "stderr",
     "output_type": "stream",
     "text": [
      " 38%|███▊      | 42/112 [00:32<00:52,  1.32it/s]"
     ]
    },
    {
     "name": "stdout",
     "output_type": "stream",
     "text": [
      "⚠️ API error for 'Mushrooms': {\n",
      "    \"error\": {\n",
      "        \"message\": \"Incorrect API key provided: YOUR_API*****HERE. You can find your API key at https://platform.openai.com/account/api-keys.\",\n",
      "        \"type\": \"invalid_request_error\",\n",
      "        \"param\": null,\n",
      "        \"code\": \"invalid_api_key\"\n",
      "    }\n",
      "}\n",
      "\n"
     ]
    },
    {
     "name": "stderr",
     "output_type": "stream",
     "text": [
      " 38%|███▊      | 43/112 [00:32<00:51,  1.34it/s]"
     ]
    },
    {
     "name": "stdout",
     "output_type": "stream",
     "text": [
      "⚠️ API error for 'Hour': {\n",
      "    \"error\": {\n",
      "        \"message\": \"Incorrect API key provided: YOUR_API*****HERE. You can find your API key at https://platform.openai.com/account/api-keys.\",\n",
      "        \"type\": \"invalid_request_error\",\n",
      "        \"param\": null,\n",
      "        \"code\": \"invalid_api_key\"\n",
      "    }\n",
      "}\n",
      "\n"
     ]
    },
    {
     "name": "stderr",
     "output_type": "stream",
     "text": [
      " 39%|███▉      | 44/112 [00:33<00:51,  1.31it/s]"
     ]
    },
    {
     "name": "stdout",
     "output_type": "stream",
     "text": [
      "⚠️ API error for 'Sabotaged': {\n",
      "    \"error\": {\n",
      "        \"message\": \"Incorrect API key provided: YOUR_API*****HERE. You can find your API key at https://platform.openai.com/account/api-keys.\",\n",
      "        \"type\": \"invalid_request_error\",\n",
      "        \"param\": null,\n",
      "        \"code\": \"invalid_api_key\"\n",
      "    }\n",
      "}\n",
      "\n"
     ]
    },
    {
     "name": "stderr",
     "output_type": "stream",
     "text": [
      " 40%|████      | 45/112 [00:34<00:53,  1.26it/s]"
     ]
    },
    {
     "name": "stdout",
     "output_type": "stream",
     "text": [
      "⚠️ API error for 'Mouth': {\n",
      "    \"error\": {\n",
      "        \"message\": \"Incorrect API key provided: YOUR_API*****HERE. You can find your API key at https://platform.openai.com/account/api-keys.\",\n",
      "        \"type\": \"invalid_request_error\",\n",
      "        \"param\": null,\n",
      "        \"code\": \"invalid_api_key\"\n",
      "    }\n",
      "}\n",
      "\n"
     ]
    },
    {
     "name": "stderr",
     "output_type": "stream",
     "text": [
      " 41%|████      | 46/112 [00:35<00:52,  1.26it/s]"
     ]
    },
    {
     "name": "stdout",
     "output_type": "stream",
     "text": [
      "⚠️ API error for 'Mango': {\n",
      "    \"error\": {\n",
      "        \"message\": \"Incorrect API key provided: YOUR_API*****HERE. You can find your API key at https://platform.openai.com/account/api-keys.\",\n",
      "        \"type\": \"invalid_request_error\",\n",
      "        \"param\": null,\n",
      "        \"code\": \"invalid_api_key\"\n",
      "    }\n",
      "}\n",
      "\n"
     ]
    },
    {
     "name": "stderr",
     "output_type": "stream",
     "text": [
      " 42%|████▏     | 47/112 [00:36<00:52,  1.24it/s]"
     ]
    },
    {
     "name": "stdout",
     "output_type": "stream",
     "text": [
      "⚠️ API error for 'lion': {\n",
      "    \"error\": {\n",
      "        \"message\": \"Incorrect API key provided: YOUR_API*****HERE. You can find your API key at https://platform.openai.com/account/api-keys.\",\n",
      "        \"type\": \"invalid_request_error\",\n",
      "        \"param\": null,\n",
      "        \"code\": \"invalid_api_key\"\n",
      "    }\n",
      "}\n",
      "\n"
     ]
    },
    {
     "name": "stderr",
     "output_type": "stream",
     "text": [
      " 43%|████▎     | 48/112 [00:36<00:50,  1.27it/s]"
     ]
    },
    {
     "name": "stdout",
     "output_type": "stream",
     "text": [
      "⚠️ API error for 'Monkey': {\n",
      "    \"error\": {\n",
      "        \"message\": \"Incorrect API key provided: YOUR_API*****HERE. You can find your API key at https://platform.openai.com/account/api-keys.\",\n",
      "        \"type\": \"invalid_request_error\",\n",
      "        \"param\": null,\n",
      "        \"code\": \"invalid_api_key\"\n",
      "    }\n",
      "}\n",
      "\n"
     ]
    },
    {
     "name": "stderr",
     "output_type": "stream",
     "text": [
      " 44%|████▍     | 49/112 [00:37<00:48,  1.29it/s]"
     ]
    },
    {
     "name": "stdout",
     "output_type": "stream",
     "text": [
      "⚠️ API error for 'Elephant': {\n",
      "    \"error\": {\n",
      "        \"message\": \"Incorrect API key provided: YOUR_API*****HERE. You can find your API key at https://platform.openai.com/account/api-keys.\",\n",
      "        \"type\": \"invalid_request_error\",\n",
      "        \"param\": null,\n",
      "        \"code\": \"invalid_api_key\"\n",
      "    }\n",
      "}\n",
      "\n"
     ]
    },
    {
     "name": "stderr",
     "output_type": "stream",
     "text": [
      " 45%|████▍     | 50/112 [00:38<00:47,  1.32it/s]"
     ]
    },
    {
     "name": "stdout",
     "output_type": "stream",
     "text": [
      "⚠️ API error for 'bottle': {\n",
      "    \"error\": {\n",
      "        \"message\": \"Incorrect API key provided: YOUR_API*****HERE. You can find your API key at https://platform.openai.com/account/api-keys.\",\n",
      "        \"type\": \"invalid_request_error\",\n",
      "        \"param\": null,\n",
      "        \"code\": \"invalid_api_key\"\n",
      "    }\n",
      "}\n",
      "\n"
     ]
    },
    {
     "name": "stderr",
     "output_type": "stream",
     "text": [
      " 46%|████▌     | 51/112 [00:39<00:47,  1.29it/s]"
     ]
    },
    {
     "name": "stdout",
     "output_type": "stream",
     "text": [
      "⚠️ API error for 'Water': {\n",
      "    \"error\": {\n",
      "        \"message\": \"Incorrect API key provided: YOUR_API*****HERE. You can find your API key at https://platform.openai.com/account/api-keys.\",\n",
      "        \"type\": \"invalid_request_error\",\n",
      "        \"param\": null,\n",
      "        \"code\": \"invalid_api_key\"\n",
      "    }\n",
      "}\n",
      "\n"
     ]
    },
    {
     "name": "stderr",
     "output_type": "stream",
     "text": [
      " 46%|████▋     | 52/112 [00:39<00:45,  1.33it/s]"
     ]
    },
    {
     "name": "stdout",
     "output_type": "stream",
     "text": [
      "⚠️ API error for 'Machete': {\n",
      "    \"error\": {\n",
      "        \"message\": \"Incorrect API key provided: YOUR_API*****HERE. You can find your API key at https://platform.openai.com/account/api-keys.\",\n",
      "        \"type\": \"invalid_request_error\",\n",
      "        \"param\": null,\n",
      "        \"code\": \"invalid_api_key\"\n",
      "    }\n",
      "}\n",
      "\n"
     ]
    },
    {
     "name": "stderr",
     "output_type": "stream",
     "text": [
      " 47%|████▋     | 53/112 [00:40<00:44,  1.33it/s]"
     ]
    },
    {
     "name": "stdout",
     "output_type": "stream",
     "text": [
      "⚠️ API error for 'Ax': {\n",
      "    \"error\": {\n",
      "        \"message\": \"Incorrect API key provided: YOUR_API*****HERE. You can find your API key at https://platform.openai.com/account/api-keys.\",\n",
      "        \"type\": \"invalid_request_error\",\n",
      "        \"param\": null,\n",
      "        \"code\": \"invalid_api_key\"\n",
      "    }\n",
      "}\n",
      "\n"
     ]
    },
    {
     "name": "stderr",
     "output_type": "stream",
     "text": [
      " 48%|████▊     | 54/112 [00:41<00:43,  1.34it/s]"
     ]
    },
    {
     "name": "stdout",
     "output_type": "stream",
     "text": [
      "⚠️ API error for 'Spade': {\n",
      "    \"error\": {\n",
      "        \"message\": \"Incorrect API key provided: YOUR_API*****HERE. You can find your API key at https://platform.openai.com/account/api-keys.\",\n",
      "        \"type\": \"invalid_request_error\",\n",
      "        \"param\": null,\n",
      "        \"code\": \"invalid_api_key\"\n",
      "    }\n",
      "}\n",
      "\n"
     ]
    },
    {
     "name": "stderr",
     "output_type": "stream",
     "text": [
      " 49%|████▉     | 55/112 [00:41<00:42,  1.35it/s]"
     ]
    },
    {
     "name": "stdout",
     "output_type": "stream",
     "text": [
      "⚠️ API error for 'Tarpaulin': {\n",
      "    \"error\": {\n",
      "        \"message\": \"Incorrect API key provided: YOUR_API*****HERE. You can find your API key at https://platform.openai.com/account/api-keys.\",\n",
      "        \"type\": \"invalid_request_error\",\n",
      "        \"param\": null,\n",
      "        \"code\": \"invalid_api_key\"\n",
      "    }\n",
      "}\n",
      "\n"
     ]
    },
    {
     "name": "stderr",
     "output_type": "stream",
     "text": [
      " 50%|█████     | 56/112 [00:42<00:41,  1.35it/s]"
     ]
    },
    {
     "name": "stdout",
     "output_type": "stream",
     "text": [
      "⚠️ API error for 'Moussa': {\n",
      "    \"error\": {\n",
      "        \"message\": \"Incorrect API key provided: YOUR_API*****HERE. You can find your API key at https://platform.openai.com/account/api-keys.\",\n",
      "        \"type\": \"invalid_request_error\",\n",
      "        \"param\": null,\n",
      "        \"code\": \"invalid_api_key\"\n",
      "    }\n",
      "}\n",
      "\n"
     ]
    },
    {
     "name": "stderr",
     "output_type": "stream",
     "text": [
      " 51%|█████     | 57/112 [00:43<00:41,  1.32it/s]"
     ]
    },
    {
     "name": "stdout",
     "output_type": "stream",
     "text": [
      "⚠️ API error for 'Insult': {\n",
      "    \"error\": {\n",
      "        \"message\": \"Incorrect API key provided: YOUR_API*****HERE. You can find your API key at https://platform.openai.com/account/api-keys.\",\n",
      "        \"type\": \"invalid_request_error\",\n",
      "        \"param\": null,\n",
      "        \"code\": \"invalid_api_key\"\n",
      "    }\n",
      "}\n",
      "\n"
     ]
    },
    {
     "name": "stderr",
     "output_type": "stream",
     "text": [
      " 52%|█████▏    | 58/112 [00:44<00:40,  1.33it/s]"
     ]
    },
    {
     "name": "stdout",
     "output_type": "stream",
     "text": [
      "⚠️ API error for 'Sieve': {\n",
      "    \"error\": {\n",
      "        \"message\": \"Incorrect API key provided: YOUR_API*****HERE. You can find your API key at https://platform.openai.com/account/api-keys.\",\n",
      "        \"type\": \"invalid_request_error\",\n",
      "        \"param\": null,\n",
      "        \"code\": \"invalid_api_key\"\n",
      "    }\n",
      "}\n",
      "\n"
     ]
    },
    {
     "name": "stderr",
     "output_type": "stream",
     "text": [
      " 53%|█████▎    | 59/112 [00:44<00:39,  1.34it/s]"
     ]
    },
    {
     "name": "stdout",
     "output_type": "stream",
     "text": [
      "⚠️ API error for 'Look at': {\n",
      "    \"error\": {\n",
      "        \"message\": \"Incorrect API key provided: YOUR_API*****HERE. You can find your API key at https://platform.openai.com/account/api-keys.\",\n",
      "        \"type\": \"invalid_request_error\",\n",
      "        \"param\": null,\n",
      "        \"code\": \"invalid_api_key\"\n",
      "    }\n",
      "}\n",
      "\n"
     ]
    },
    {
     "name": "stderr",
     "output_type": "stream",
     "text": [
      " 54%|█████▎    | 60/112 [00:45<00:39,  1.33it/s]"
     ]
    },
    {
     "name": "stdout",
     "output_type": "stream",
     "text": [
      "⚠️ API error for 'Sleep': {\n",
      "    \"error\": {\n",
      "        \"message\": \"Incorrect API key provided: YOUR_API*****HERE. You can find your API key at https://platform.openai.com/account/api-keys.\",\n",
      "        \"type\": \"invalid_request_error\",\n",
      "        \"param\": null,\n",
      "        \"code\": \"invalid_api_key\"\n",
      "    }\n",
      "}\n",
      "\n"
     ]
    },
    {
     "name": "stderr",
     "output_type": "stream",
     "text": [
      " 54%|█████▍    | 61/112 [00:46<00:38,  1.33it/s]"
     ]
    },
    {
     "name": "stdout",
     "output_type": "stream",
     "text": [
      "⚠️ API error for 'Only': {\n",
      "    \"error\": {\n",
      "        \"message\": \"Incorrect API key provided: YOUR_API*****HERE. You can find your API key at https://platform.openai.com/account/api-keys.\",\n",
      "        \"type\": \"invalid_request_error\",\n",
      "        \"param\": null,\n",
      "        \"code\": \"invalid_api_key\"\n",
      "    }\n",
      "}\n",
      "\n"
     ]
    },
    {
     "name": "stderr",
     "output_type": "stream",
     "text": [
      " 55%|█████▌    | 62/112 [00:47<00:37,  1.33it/s]"
     ]
    },
    {
     "name": "stdout",
     "output_type": "stream",
     "text": [
      "⚠️ API error for 'Take': {\n",
      "    \"error\": {\n",
      "        \"message\": \"Incorrect API key provided: YOUR_API*****HERE. You can find your API key at https://platform.openai.com/account/api-keys.\",\n",
      "        \"type\": \"invalid_request_error\",\n",
      "        \"param\": null,\n",
      "        \"code\": \"invalid_api_key\"\n",
      "    }\n",
      "}\n",
      "\n"
     ]
    },
    {
     "name": "stderr",
     "output_type": "stream",
     "text": [
      " 56%|█████▋    | 63/112 [00:47<00:36,  1.33it/s]"
     ]
    },
    {
     "name": "stdout",
     "output_type": "stream",
     "text": [
      "⚠️ API error for 'Transport': {\n",
      "    \"error\": {\n",
      "        \"message\": \"Incorrect API key provided: YOUR_API*****HERE. You can find your API key at https://platform.openai.com/account/api-keys.\",\n",
      "        \"type\": \"invalid_request_error\",\n",
      "        \"param\": null,\n",
      "        \"code\": \"invalid_api_key\"\n",
      "    }\n",
      "}\n",
      "\n"
     ]
    },
    {
     "name": "stderr",
     "output_type": "stream",
     "text": [
      " 57%|█████▋    | 64/112 [00:48<00:36,  1.33it/s]"
     ]
    },
    {
     "name": "stdout",
     "output_type": "stream",
     "text": [
      "⚠️ API error for 'Hands over': {\n",
      "    \"error\": {\n",
      "        \"message\": \"Incorrect API key provided: YOUR_API*****HERE. You can find your API key at https://platform.openai.com/account/api-keys.\",\n",
      "        \"type\": \"invalid_request_error\",\n",
      "        \"param\": null,\n",
      "        \"code\": \"invalid_api_key\"\n",
      "    }\n",
      "}\n",
      "\n"
     ]
    },
    {
     "name": "stderr",
     "output_type": "stream",
     "text": [
      " 58%|█████▊    | 65/112 [00:49<00:35,  1.32it/s]"
     ]
    },
    {
     "name": "stdout",
     "output_type": "stream",
     "text": [
      "⚠️ API error for 'Return': {\n",
      "    \"error\": {\n",
      "        \"message\": \"Incorrect API key provided: YOUR_API*****HERE. You can find your API key at https://platform.openai.com/account/api-keys.\",\n",
      "        \"type\": \"invalid_request_error\",\n",
      "        \"param\": null,\n",
      "        \"code\": \"invalid_api_key\"\n",
      "    }\n",
      "}\n",
      "\n"
     ]
    },
    {
     "name": "stderr",
     "output_type": "stream",
     "text": [
      " 59%|█████▉    | 66/112 [00:50<00:35,  1.31it/s]"
     ]
    },
    {
     "name": "stdout",
     "output_type": "stream",
     "text": [
      "⚠️ API error for 'Feet': {\n",
      "    \"error\": {\n",
      "        \"message\": \"Incorrect API key provided: YOUR_API*****HERE. You can find your API key at https://platform.openai.com/account/api-keys.\",\n",
      "        \"type\": \"invalid_request_error\",\n",
      "        \"param\": null,\n",
      "        \"code\": \"invalid_api_key\"\n",
      "    }\n",
      "}\n",
      "\n"
     ]
    },
    {
     "name": "stderr",
     "output_type": "stream",
     "text": [
      " 60%|█████▉    | 67/112 [00:51<00:34,  1.30it/s]"
     ]
    },
    {
     "name": "stdout",
     "output_type": "stream",
     "text": [
      "⚠️ API error for 'Said': {\n",
      "    \"error\": {\n",
      "        \"message\": \"Incorrect API key provided: YOUR_API*****HERE. You can find your API key at https://platform.openai.com/account/api-keys.\",\n",
      "        \"type\": \"invalid_request_error\",\n",
      "        \"param\": null,\n",
      "        \"code\": \"invalid_api_key\"\n",
      "    }\n",
      "}\n",
      "\n"
     ]
    },
    {
     "name": "stderr",
     "output_type": "stream",
     "text": [
      " 61%|██████    | 68/112 [00:51<00:33,  1.30it/s]"
     ]
    },
    {
     "name": "stdout",
     "output_type": "stream",
     "text": [
      "⚠️ API error for 'Overlay': {\n",
      "    \"error\": {\n",
      "        \"message\": \"Incorrect API key provided: YOUR_API*****HERE. You can find your API key at https://platform.openai.com/account/api-keys.\",\n",
      "        \"type\": \"invalid_request_error\",\n",
      "        \"param\": null,\n",
      "        \"code\": \"invalid_api_key\"\n",
      "    }\n",
      "}\n",
      "\n"
     ]
    },
    {
     "name": "stderr",
     "output_type": "stream",
     "text": [
      " 62%|██████▏   | 69/112 [00:52<00:32,  1.30it/s]"
     ]
    },
    {
     "name": "stdout",
     "output_type": "stream",
     "text": [
      "⚠️ API error for 'Repeated': {\n",
      "    \"error\": {\n",
      "        \"message\": \"Incorrect API key provided: YOUR_API*****HERE. You can find your API key at https://platform.openai.com/account/api-keys.\",\n",
      "        \"type\": \"invalid_request_error\",\n",
      "        \"param\": null,\n",
      "        \"code\": \"invalid_api_key\"\n",
      "    }\n",
      "}\n",
      "\n"
     ]
    },
    {
     "name": "stderr",
     "output_type": "stream",
     "text": [
      " 62%|██████▎   | 70/112 [00:53<00:32,  1.31it/s]"
     ]
    },
    {
     "name": "stdout",
     "output_type": "stream",
     "text": [
      "⚠️ API error for 'Out': {\n",
      "    \"error\": {\n",
      "        \"message\": \"Incorrect API key provided: YOUR_API*****HERE. You can find your API key at https://platform.openai.com/account/api-keys.\",\n",
      "        \"type\": \"invalid_request_error\",\n",
      "        \"param\": null,\n",
      "        \"code\": \"invalid_api_key\"\n",
      "    }\n",
      "}\n",
      "\n"
     ]
    },
    {
     "name": "stderr",
     "output_type": "stream",
     "text": [
      " 63%|██████▎   | 71/112 [00:54<00:31,  1.32it/s]"
     ]
    },
    {
     "name": "stdout",
     "output_type": "stream",
     "text": [
      "⚠️ API error for 'Plate': {\n",
      "    \"error\": {\n",
      "        \"message\": \"Incorrect API key provided: YOUR_API*****HERE. You can find your API key at https://platform.openai.com/account/api-keys.\",\n",
      "        \"type\": \"invalid_request_error\",\n",
      "        \"param\": null,\n",
      "        \"code\": \"invalid_api_key\"\n",
      "    }\n",
      "}\n",
      "\n"
     ]
    },
    {
     "name": "stderr",
     "output_type": "stream",
     "text": [
      " 64%|██████▍   | 72/112 [00:54<00:31,  1.27it/s]"
     ]
    },
    {
     "name": "stdout",
     "output_type": "stream",
     "text": [
      "⚠️ API error for 'Parents': {\n",
      "    \"error\": {\n",
      "        \"message\": \"Incorrect API key provided: YOUR_API*****HERE. You can find your API key at https://platform.openai.com/account/api-keys.\",\n",
      "        \"type\": \"invalid_request_error\",\n",
      "        \"param\": null,\n",
      "        \"code\": \"invalid_api_key\"\n",
      "    }\n",
      "}\n",
      "\n"
     ]
    },
    {
     "name": "stderr",
     "output_type": "stream",
     "text": [
      " 65%|██████▌   | 73/112 [00:55<00:31,  1.24it/s]"
     ]
    },
    {
     "name": "stdout",
     "output_type": "stream",
     "text": [
      "⚠️ API error for 'Begin': {\n",
      "    \"error\": {\n",
      "        \"message\": \"Incorrect API key provided: YOUR_API*****HERE. You can find your API key at https://platform.openai.com/account/api-keys.\",\n",
      "        \"type\": \"invalid_request_error\",\n",
      "        \"param\": null,\n",
      "        \"code\": \"invalid_api_key\"\n",
      "    }\n",
      "}\n",
      "\n"
     ]
    },
    {
     "name": "stderr",
     "output_type": "stream",
     "text": [
      " 66%|██████▌   | 74/112 [00:56<00:30,  1.25it/s]"
     ]
    },
    {
     "name": "stdout",
     "output_type": "stream",
     "text": [
      "⚠️ API error for 'Hat': {\n",
      "    \"error\": {\n",
      "        \"message\": \"Incorrect API key provided: YOUR_API*****HERE. You can find your API key at https://platform.openai.com/account/api-keys.\",\n",
      "        \"type\": \"invalid_request_error\",\n",
      "        \"param\": null,\n",
      "        \"code\": \"invalid_api_key\"\n",
      "    }\n",
      "}\n",
      "\n"
     ]
    },
    {
     "name": "stderr",
     "output_type": "stream",
     "text": [
      " 67%|██████▋   | 75/112 [00:57<00:29,  1.26it/s]"
     ]
    },
    {
     "name": "stdout",
     "output_type": "stream",
     "text": [
      "⚠️ API error for 'Clothing': {\n",
      "    \"error\": {\n",
      "        \"message\": \"Incorrect API key provided: YOUR_API*****HERE. You can find your API key at https://platform.openai.com/account/api-keys.\",\n",
      "        \"type\": \"invalid_request_error\",\n",
      "        \"param\": null,\n",
      "        \"code\": \"invalid_api_key\"\n",
      "    }\n",
      "}\n",
      "\n"
     ]
    },
    {
     "name": "stderr",
     "output_type": "stream",
     "text": [
      " 68%|██████▊   | 76/112 [00:58<00:28,  1.27it/s]"
     ]
    },
    {
     "name": "stdout",
     "output_type": "stream",
     "text": [
      "⚠️ API error for 'Pond': {\n",
      "    \"error\": {\n",
      "        \"message\": \"Incorrect API key provided: YOUR_API*****HERE. You can find your API key at https://platform.openai.com/account/api-keys.\",\n",
      "        \"type\": \"invalid_request_error\",\n",
      "        \"param\": null,\n",
      "        \"code\": \"invalid_api_key\"\n",
      "    }\n",
      "}\n",
      "\n"
     ]
    },
    {
     "name": "stderr",
     "output_type": "stream",
     "text": [
      " 69%|██████▉   | 77/112 [00:58<00:26,  1.30it/s]"
     ]
    },
    {
     "name": "stdout",
     "output_type": "stream",
     "text": [
      "⚠️ API error for 'Origin': {\n",
      "    \"error\": {\n",
      "        \"message\": \"Incorrect API key provided: YOUR_API*****HERE. You can find your API key at https://platform.openai.com/account/api-keys.\",\n",
      "        \"type\": \"invalid_request_error\",\n",
      "        \"param\": null,\n",
      "        \"code\": \"invalid_api_key\"\n",
      "    }\n",
      "}\n",
      "\n"
     ]
    },
    {
     "name": "stderr",
     "output_type": "stream",
     "text": [
      " 70%|██████▉   | 78/112 [00:59<00:26,  1.28it/s]"
     ]
    },
    {
     "name": "stdout",
     "output_type": "stream",
     "text": [
      "⚠️ API error for 'Behavior': {\n",
      "    \"error\": {\n",
      "        \"message\": \"Incorrect API key provided: YOUR_API*****HERE. You can find your API key at https://platform.openai.com/account/api-keys.\",\n",
      "        \"type\": \"invalid_request_error\",\n",
      "        \"param\": null,\n",
      "        \"code\": \"invalid_api_key\"\n",
      "    }\n",
      "}\n",
      "\n"
     ]
    },
    {
     "name": "stderr",
     "output_type": "stream",
     "text": [
      " 71%|███████   | 79/112 [01:00<00:25,  1.28it/s]"
     ]
    },
    {
     "name": "stdout",
     "output_type": "stream",
     "text": [
      "⚠️ API error for 'Game': {\n",
      "    \"error\": {\n",
      "        \"message\": \"Incorrect API key provided: YOUR_API*****HERE. You can find your API key at https://platform.openai.com/account/api-keys.\",\n",
      "        \"type\": \"invalid_request_error\",\n",
      "        \"param\": null,\n",
      "        \"code\": \"invalid_api_key\"\n",
      "    }\n",
      "}\n",
      "\n"
     ]
    },
    {
     "name": "stderr",
     "output_type": "stream",
     "text": [
      " 71%|███████▏  | 80/112 [01:01<00:24,  1.31it/s]"
     ]
    },
    {
     "name": "stdout",
     "output_type": "stream",
     "text": [
      "⚠️ API error for 'Ball': {\n",
      "    \"error\": {\n",
      "        \"message\": \"Incorrect API key provided: YOUR_API*****HERE. You can find your API key at https://platform.openai.com/account/api-keys.\",\n",
      "        \"type\": \"invalid_request_error\",\n",
      "        \"param\": null,\n",
      "        \"code\": \"invalid_api_key\"\n",
      "    }\n",
      "}\n",
      "\n"
     ]
    },
    {
     "name": "stderr",
     "output_type": "stream",
     "text": [
      " 72%|███████▏  | 81/112 [01:01<00:23,  1.32it/s]"
     ]
    },
    {
     "name": "stdout",
     "output_type": "stream",
     "text": [
      "⚠️ API error for 'Cicada': {\n",
      "    \"error\": {\n",
      "        \"message\": \"Incorrect API key provided: YOUR_API*****HERE. You can find your API key at https://platform.openai.com/account/api-keys.\",\n",
      "        \"type\": \"invalid_request_error\",\n",
      "        \"param\": null,\n",
      "        \"code\": \"invalid_api_key\"\n",
      "    }\n",
      "}\n",
      "\n"
     ]
    },
    {
     "name": "stderr",
     "output_type": "stream",
     "text": [
      " 73%|███████▎  | 82/112 [01:02<00:22,  1.31it/s]"
     ]
    },
    {
     "name": "stdout",
     "output_type": "stream",
     "text": [
      "⚠️ API error for 'Failed': {\n",
      "    \"error\": {\n",
      "        \"message\": \"Incorrect API key provided: YOUR_API*****HERE. You can find your API key at https://platform.openai.com/account/api-keys.\",\n",
      "        \"type\": \"invalid_request_error\",\n",
      "        \"param\": null,\n",
      "        \"code\": \"invalid_api_key\"\n",
      "    }\n",
      "}\n",
      "\n"
     ]
    },
    {
     "name": "stderr",
     "output_type": "stream",
     "text": [
      " 74%|███████▍  | 83/112 [01:03<00:22,  1.32it/s]"
     ]
    },
    {
     "name": "stdout",
     "output_type": "stream",
     "text": [
      "⚠️ API error for 'Lack': {\n",
      "    \"error\": {\n",
      "        \"message\": \"Incorrect API key provided: YOUR_API*****HERE. You can find your API key at https://platform.openai.com/account/api-keys.\",\n",
      "        \"type\": \"invalid_request_error\",\n",
      "        \"param\": null,\n",
      "        \"code\": \"invalid_api_key\"\n",
      "    }\n",
      "}\n",
      "\n"
     ]
    },
    {
     "name": "stderr",
     "output_type": "stream",
     "text": [
      " 75%|███████▌  | 84/112 [01:04<00:21,  1.32it/s]"
     ]
    },
    {
     "name": "stdout",
     "output_type": "stream",
     "text": [
      "⚠️ API error for 'Suffering': {\n",
      "    \"error\": {\n",
      "        \"message\": \"Incorrect API key provided: YOUR_API*****HERE. You can find your API key at https://platform.openai.com/account/api-keys.\",\n",
      "        \"type\": \"invalid_request_error\",\n",
      "        \"param\": null,\n",
      "        \"code\": \"invalid_api_key\"\n",
      "    }\n",
      "}\n",
      "\n"
     ]
    },
    {
     "name": "stderr",
     "output_type": "stream",
     "text": [
      " 76%|███████▌  | 85/112 [01:04<00:20,  1.32it/s]"
     ]
    },
    {
     "name": "stdout",
     "output_type": "stream",
     "text": [
      "⚠️ API error for 'Galley': {\n",
      "    \"error\": {\n",
      "        \"message\": \"Incorrect API key provided: YOUR_API*****HERE. You can find your API key at https://platform.openai.com/account/api-keys.\",\n",
      "        \"type\": \"invalid_request_error\",\n",
      "        \"param\": null,\n",
      "        \"code\": \"invalid_api_key\"\n",
      "    }\n",
      "}\n",
      "\n"
     ]
    },
    {
     "name": "stderr",
     "output_type": "stream",
     "text": [
      " 77%|███████▋  | 86/112 [01:05<00:19,  1.33it/s]"
     ]
    },
    {
     "name": "stdout",
     "output_type": "stream",
     "text": [
      "⚠️ API error for 'Love': {\n",
      "    \"error\": {\n",
      "        \"message\": \"Incorrect API key provided: YOUR_API*****HERE. You can find your API key at https://platform.openai.com/account/api-keys.\",\n",
      "        \"type\": \"invalid_request_error\",\n",
      "        \"param\": null,\n",
      "        \"code\": \"invalid_api_key\"\n",
      "    }\n",
      "}\n",
      "\n"
     ]
    },
    {
     "name": "stderr",
     "output_type": "stream",
     "text": [
      " 78%|███████▊  | 87/112 [01:06<00:18,  1.32it/s]"
     ]
    },
    {
     "name": "stdout",
     "output_type": "stream",
     "text": [
      "⚠️ API error for 'Punishment': {\n",
      "    \"error\": {\n",
      "        \"message\": \"Incorrect API key provided: YOUR_API*****HERE. You can find your API key at https://platform.openai.com/account/api-keys.\",\n",
      "        \"type\": \"invalid_request_error\",\n",
      "        \"param\": null,\n",
      "        \"code\": \"invalid_api_key\"\n",
      "    }\n",
      "}\n",
      "\n"
     ]
    },
    {
     "name": "stderr",
     "output_type": "stream",
     "text": [
      " 79%|███████▊  | 88/112 [01:07<00:17,  1.33it/s]"
     ]
    },
    {
     "name": "stdout",
     "output_type": "stream",
     "text": [
      "⚠️ API error for 'Rich': {\n",
      "    \"error\": {\n",
      "        \"message\": \"Incorrect API key provided: YOUR_API*****HERE. You can find your API key at https://platform.openai.com/account/api-keys.\",\n",
      "        \"type\": \"invalid_request_error\",\n",
      "        \"param\": null,\n",
      "        \"code\": \"invalid_api_key\"\n",
      "    }\n",
      "}\n",
      "\n"
     ]
    },
    {
     "name": "stderr",
     "output_type": "stream",
     "text": [
      " 79%|███████▉  | 89/112 [01:07<00:17,  1.33it/s]"
     ]
    },
    {
     "name": "stdout",
     "output_type": "stream",
     "text": [
      "⚠️ API error for 'Poverty': {\n",
      "    \"error\": {\n",
      "        \"message\": \"Incorrect API key provided: YOUR_API*****HERE. You can find your API key at https://platform.openai.com/account/api-keys.\",\n",
      "        \"type\": \"invalid_request_error\",\n",
      "        \"param\": null,\n",
      "        \"code\": \"invalid_api_key\"\n",
      "    }\n",
      "}\n",
      "\n"
     ]
    },
    {
     "name": "stderr",
     "output_type": "stream",
     "text": [
      " 80%|████████  | 90/112 [01:08<00:16,  1.33it/s]"
     ]
    },
    {
     "name": "stdout",
     "output_type": "stream",
     "text": [
      "⚠️ API error for 'Pride': {\n",
      "    \"error\": {\n",
      "        \"message\": \"Incorrect API key provided: YOUR_API*****HERE. You can find your API key at https://platform.openai.com/account/api-keys.\",\n",
      "        \"type\": \"invalid_request_error\",\n",
      "        \"param\": null,\n",
      "        \"code\": \"invalid_api_key\"\n",
      "    }\n",
      "}\n",
      "\n"
     ]
    },
    {
     "name": "stderr",
     "output_type": "stream",
     "text": [
      " 81%|████████▏ | 91/112 [01:09<00:15,  1.34it/s]"
     ]
    },
    {
     "name": "stdout",
     "output_type": "stream",
     "text": [
      "⚠️ API error for 'Misery': {\n",
      "    \"error\": {\n",
      "        \"message\": \"Incorrect API key provided: YOUR_API*****HERE. You can find your API key at https://platform.openai.com/account/api-keys.\",\n",
      "        \"type\": \"invalid_request_error\",\n",
      "        \"param\": null,\n",
      "        \"code\": \"invalid_api_key\"\n",
      "    }\n",
      "}\n",
      "\n"
     ]
    },
    {
     "name": "stderr",
     "output_type": "stream",
     "text": [
      " 82%|████████▏ | 92/112 [01:10<00:14,  1.33it/s]"
     ]
    },
    {
     "name": "stdout",
     "output_type": "stream",
     "text": [
      "⚠️ API error for 'Quarrel': {\n",
      "    \"error\": {\n",
      "        \"message\": \"Incorrect API key provided: YOUR_API*****HERE. You can find your API key at https://platform.openai.com/account/api-keys.\",\n",
      "        \"type\": \"invalid_request_error\",\n",
      "        \"param\": null,\n",
      "        \"code\": \"invalid_api_key\"\n",
      "    }\n",
      "}\n",
      "\n"
     ]
    },
    {
     "name": "stderr",
     "output_type": "stream",
     "text": [
      " 83%|████████▎ | 93/112 [01:10<00:14,  1.34it/s]"
     ]
    },
    {
     "name": "stdout",
     "output_type": "stream",
     "text": [
      "⚠️ API error for 'Insult': {\n",
      "    \"error\": {\n",
      "        \"message\": \"Incorrect API key provided: YOUR_API*****HERE. You can find your API key at https://platform.openai.com/account/api-keys.\",\n",
      "        \"type\": \"invalid_request_error\",\n",
      "        \"param\": null,\n",
      "        \"code\": \"invalid_api_key\"\n",
      "    }\n",
      "}\n",
      "\n"
     ]
    },
    {
     "name": "stderr",
     "output_type": "stream",
     "text": [
      " 84%|████████▍ | 94/112 [01:11<00:13,  1.33it/s]"
     ]
    },
    {
     "name": "stdout",
     "output_type": "stream",
     "text": [
      "⚠️ API error for 'Bachelor': {\n",
      "    \"error\": {\n",
      "        \"message\": \"Incorrect API key provided: YOUR_API*****HERE. You can find your API key at https://platform.openai.com/account/api-keys.\",\n",
      "        \"type\": \"invalid_request_error\",\n",
      "        \"param\": null,\n",
      "        \"code\": \"invalid_api_key\"\n",
      "    }\n",
      "}\n",
      "\n"
     ]
    },
    {
     "name": "stderr",
     "output_type": "stream",
     "text": [
      " 85%|████████▍ | 95/112 [01:12<00:12,  1.33it/s]"
     ]
    },
    {
     "name": "stdout",
     "output_type": "stream",
     "text": [
      "⚠️ API error for 'Driver': {\n",
      "    \"error\": {\n",
      "        \"message\": \"Incorrect API key provided: YOUR_API*****HERE. You can find your API key at https://platform.openai.com/account/api-keys.\",\n",
      "        \"type\": \"invalid_request_error\",\n",
      "        \"param\": null,\n",
      "        \"code\": \"invalid_api_key\"\n",
      "    }\n",
      "}\n",
      "\n"
     ]
    },
    {
     "name": "stderr",
     "output_type": "stream",
     "text": [
      " 86%|████████▌ | 96/112 [01:13<00:12,  1.31it/s]"
     ]
    },
    {
     "name": "stdout",
     "output_type": "stream",
     "text": [
      "⚠️ API error for 'Sin': {\n",
      "    \"error\": {\n",
      "        \"message\": \"Incorrect API key provided: YOUR_API*****HERE. You can find your API key at https://platform.openai.com/account/api-keys.\",\n",
      "        \"type\": \"invalid_request_error\",\n",
      "        \"param\": null,\n",
      "        \"code\": \"invalid_api_key\"\n",
      "    }\n",
      "}\n",
      "\n"
     ]
    },
    {
     "name": "stderr",
     "output_type": "stream",
     "text": [
      " 87%|████████▋ | 97/112 [01:13<00:11,  1.33it/s]"
     ]
    },
    {
     "name": "stdout",
     "output_type": "stream",
     "text": [
      "⚠️ API error for 'EcoMotist': {\n",
      "    \"error\": {\n",
      "        \"message\": \"Incorrect API key provided: YOUR_API*****HERE. You can find your API key at https://platform.openai.com/account/api-keys.\",\n",
      "        \"type\": \"invalid_request_error\",\n",
      "        \"param\": null,\n",
      "        \"code\": \"invalid_api_key\"\n",
      "    }\n",
      "}\n",
      "\n"
     ]
    },
    {
     "name": "stderr",
     "output_type": "stream",
     "text": [
      " 88%|████████▊ | 98/112 [01:14<00:10,  1.33it/s]"
     ]
    },
    {
     "name": "stdout",
     "output_type": "stream",
     "text": [
      "⚠️ API error for 'Engineer': {\n",
      "    \"error\": {\n",
      "        \"message\": \"Incorrect API key provided: YOUR_API*****HERE. You can find your API key at https://platform.openai.com/account/api-keys.\",\n",
      "        \"type\": \"invalid_request_error\",\n",
      "        \"param\": null,\n",
      "        \"code\": \"invalid_api_key\"\n",
      "    }\n",
      "}\n",
      "\n"
     ]
    },
    {
     "name": "stderr",
     "output_type": "stream",
     "text": [
      " 88%|████████▊ | 99/112 [01:15<00:09,  1.34it/s]"
     ]
    },
    {
     "name": "stdout",
     "output_type": "stream",
     "text": [
      "⚠️ API error for 'Lombola': {\n",
      "    \"error\": {\n",
      "        \"message\": \"Incorrect API key provided: YOUR_API*****HERE. You can find your API key at https://platform.openai.com/account/api-keys.\",\n",
      "        \"type\": \"invalid_request_error\",\n",
      "        \"param\": null,\n",
      "        \"code\": \"invalid_api_key\"\n",
      "    }\n",
      "}\n",
      "\n"
     ]
    },
    {
     "name": "stderr",
     "output_type": "stream",
     "text": [
      " 89%|████████▉ | 100/112 [01:16<00:08,  1.35it/s]"
     ]
    },
    {
     "name": "stdout",
     "output_type": "stream",
     "text": [
      "⚠️ API error for 'Mystery of iniquity': {\n",
      "    \"error\": {\n",
      "        \"message\": \"Incorrect API key provided: YOUR_API*****HERE. You can find your API key at https://platform.openai.com/account/api-keys.\",\n",
      "        \"type\": \"invalid_request_error\",\n",
      "        \"param\": null,\n",
      "        \"code\": \"invalid_api_key\"\n",
      "    }\n",
      "}\n",
      "\n"
     ]
    },
    {
     "name": "stderr",
     "output_type": "stream",
     "text": [
      " 90%|█████████ | 101/112 [01:16<00:08,  1.34it/s]"
     ]
    },
    {
     "name": "stdout",
     "output_type": "stream",
     "text": [
      "⚠️ API error for 'chenapan': {\n",
      "    \"error\": {\n",
      "        \"message\": \"Incorrect API key provided: YOUR_API*****HERE. You can find your API key at https://platform.openai.com/account/api-keys.\",\n",
      "        \"type\": \"invalid_request_error\",\n",
      "        \"param\": null,\n",
      "        \"code\": \"invalid_api_key\"\n",
      "    }\n",
      "}\n",
      "\n"
     ]
    },
    {
     "name": "stderr",
     "output_type": "stream",
     "text": [
      " 91%|█████████ | 102/112 [01:17<00:07,  1.34it/s]"
     ]
    },
    {
     "name": "stdout",
     "output_type": "stream",
     "text": [
      "⚠️ API error for 'quack grass': {\n",
      "    \"error\": {\n",
      "        \"message\": \"Incorrect API key provided: YOUR_API*****HERE. You can find your API key at https://platform.openai.com/account/api-keys.\",\n",
      "        \"type\": \"invalid_request_error\",\n",
      "        \"param\": null,\n",
      "        \"code\": \"invalid_api_key\"\n",
      "    }\n",
      "}\n",
      "\n"
     ]
    },
    {
     "name": "stderr",
     "output_type": "stream",
     "text": [
      " 92%|█████████▏| 103/112 [01:18<00:06,  1.34it/s]"
     ]
    },
    {
     "name": "stdout",
     "output_type": "stream",
     "text": [
      "⚠️ API error for 'chimerical': {\n",
      "    \"error\": {\n",
      "        \"message\": \"Incorrect API key provided: YOUR_API*****HERE. You can find your API key at https://platform.openai.com/account/api-keys.\",\n",
      "        \"type\": \"invalid_request_error\",\n",
      "        \"param\": null,\n",
      "        \"code\": \"invalid_api_key\"\n",
      "    }\n",
      "}\n",
      "\n"
     ]
    },
    {
     "name": "stderr",
     "output_type": "stream",
     "text": [
      " 93%|█████████▎| 104/112 [01:19<00:05,  1.35it/s]"
     ]
    },
    {
     "name": "stdout",
     "output_type": "stream",
     "text": [
      "⚠️ API error for 'chimpanzee': {\n",
      "    \"error\": {\n",
      "        \"message\": \"Incorrect API key provided: YOUR_API*****HERE. You can find your API key at https://platform.openai.com/account/api-keys.\",\n",
      "        \"type\": \"invalid_request_error\",\n",
      "        \"param\": null,\n",
      "        \"code\": \"invalid_api_key\"\n",
      "    }\n",
      "}\n",
      "\n"
     ]
    },
    {
     "name": "stderr",
     "output_type": "stream",
     "text": [
      " 94%|█████████▍| 105/112 [01:19<00:05,  1.35it/s]"
     ]
    },
    {
     "name": "stdout",
     "output_type": "stream",
     "text": [
      "⚠️ API error for 'puppy': {\n",
      "    \"error\": {\n",
      "        \"message\": \"Incorrect API key provided: YOUR_API*****HERE. You can find your API key at https://platform.openai.com/account/api-keys.\",\n",
      "        \"type\": \"invalid_request_error\",\n",
      "        \"param\": null,\n",
      "        \"code\": \"invalid_api_key\"\n",
      "    }\n",
      "}\n",
      "\n"
     ]
    },
    {
     "name": "stderr",
     "output_type": "stream",
     "text": [
      " 95%|█████████▍| 106/112 [01:20<00:04,  1.34it/s]"
     ]
    },
    {
     "name": "stdout",
     "output_type": "stream",
     "text": [
      "⚠️ API error for 'steal': {\n",
      "    \"error\": {\n",
      "        \"message\": \"Incorrect API key provided: YOUR_API*****HERE. You can find your API key at https://platform.openai.com/account/api-keys.\",\n",
      "        \"type\": \"invalid_request_error\",\n",
      "        \"param\": null,\n",
      "        \"code\": \"invalid_api_key\"\n",
      "    }\n",
      "}\n",
      "\n"
     ]
    },
    {
     "name": "stderr",
     "output_type": "stream",
     "text": [
      " 96%|█████████▌| 107/112 [01:21<00:03,  1.34it/s]"
     ]
    },
    {
     "name": "stdout",
     "output_type": "stream",
     "text": [
      "⚠️ API error for 'classy': {\n",
      "    \"error\": {\n",
      "        \"message\": \"Incorrect API key provided: YOUR_API*****HERE. You can find your API key at https://platform.openai.com/account/api-keys.\",\n",
      "        \"type\": \"invalid_request_error\",\n",
      "        \"param\": null,\n",
      "        \"code\": \"invalid_api_key\"\n",
      "    }\n",
      "}\n",
      "\n"
     ]
    },
    {
     "name": "stderr",
     "output_type": "stream",
     "text": [
      " 96%|█████████▋| 108/112 [01:22<00:03,  1.32it/s]"
     ]
    },
    {
     "name": "stdout",
     "output_type": "stream",
     "text": [
      "⚠️ API error for 'crop': {\n",
      "    \"error\": {\n",
      "        \"message\": \"Incorrect API key provided: YOUR_API*****HERE. You can find your API key at https://platform.openai.com/account/api-keys.\",\n",
      "        \"type\": \"invalid_request_error\",\n",
      "        \"param\": null,\n",
      "        \"code\": \"invalid_api_key\"\n",
      "    }\n",
      "}\n",
      "\n"
     ]
    },
    {
     "name": "stderr",
     "output_type": "stream",
     "text": [
      " 97%|█████████▋| 109/112 [01:22<00:02,  1.34it/s]"
     ]
    },
    {
     "name": "stdout",
     "output_type": "stream",
     "text": [
      "⚠️ API error for 'chatter': {\n",
      "    \"error\": {\n",
      "        \"message\": \"Incorrect API key provided: YOUR_API*****HERE. You can find your API key at https://platform.openai.com/account/api-keys.\",\n",
      "        \"type\": \"invalid_request_error\",\n",
      "        \"param\": null,\n",
      "        \"code\": \"invalid_api_key\"\n",
      "    }\n",
      "}\n",
      "\n"
     ]
    },
    {
     "name": "stderr",
     "output_type": "stream",
     "text": [
      " 98%|█████████▊| 110/112 [01:23<00:01,  1.32it/s]"
     ]
    },
    {
     "name": "stdout",
     "output_type": "stream",
     "text": [
      "⚠️ API error for 'formerly': {\n",
      "    \"error\": {\n",
      "        \"message\": \"Incorrect API key provided: YOUR_API*****HERE. You can find your API key at https://platform.openai.com/account/api-keys.\",\n",
      "        \"type\": \"invalid_request_error\",\n",
      "        \"param\": null,\n",
      "        \"code\": \"invalid_api_key\"\n",
      "    }\n",
      "}\n",
      "\n"
     ]
    },
    {
     "name": "stderr",
     "output_type": "stream",
     "text": [
      " 99%|█████████▉| 111/112 [01:24<00:00,  1.32it/s]"
     ]
    },
    {
     "name": "stdout",
     "output_type": "stream",
     "text": [
      "⚠️ API error for 'Breathing': {\n",
      "    \"error\": {\n",
      "        \"message\": \"Incorrect API key provided: YOUR_API*****HERE. You can find your API key at https://platform.openai.com/account/api-keys.\",\n",
      "        \"type\": \"invalid_request_error\",\n",
      "        \"param\": null,\n",
      "        \"code\": \"invalid_api_key\"\n",
      "    }\n",
      "}\n",
      "\n"
     ]
    },
    {
     "name": "stderr",
     "output_type": "stream",
     "text": [
      "100%|██████████| 112/112 [01:25<00:00,  1.31it/s]"
     ]
    },
    {
     "name": "stdout",
     "output_type": "stream",
     "text": [
      "⚠️ API error for 'Firmly': {\n",
      "    \"error\": {\n",
      "        \"message\": \"Incorrect API key provided: YOUR_API*****HERE. You can find your API key at https://platform.openai.com/account/api-keys.\",\n",
      "        \"type\": \"invalid_request_error\",\n",
      "        \"param\": null,\n",
      "        \"code\": \"invalid_api_key\"\n",
      "    }\n",
      "}\n",
      "\n"
     ]
    },
    {
     "name": "stderr",
     "output_type": "stream",
     "text": [
      "\n"
     ]
    },
    {
     "name": "stdout",
     "output_type": "stream",
     "text": [
      "✅ Sepedi translations completed!\n"
     ]
    }
   ],
   "source": [
    "import pandas as pd\n",
    "import requests\n",
    "from tqdm import tqdm\n",
    "\n",
    "# Load your lexicon\n",
    "df = pd.read_excel(\"expanded_lexicon_fixed_v2.xlsx\")\n",
    "missing_sepedi = df[df[\"Sepedi\"].isna() | (df[\"Sepedi\"] == \"\")]\n",
    "print(f\"Found {len(missing_sepedi)} missing Sepedi entries.\")\n",
    "\n",
    "OPENAI_API_KEY = \"YOUR_API_KEY_HERE\"\n",
    "\n",
    "def translate_to_sepedi(text):\n",
    "    url = \"https://api.openai.com/v1/chat/completions\"\n",
    "    headers = {\n",
    "        \"Authorization\": f\"Bearer {OPENAI_API_KEY}\",\n",
    "        \"Content-Type\": \"application/json\"\n",
    "    }\n",
    "    data = {\n",
    "        \"model\": \"gpt-4\",\n",
    "        \"messages\": [{\"role\": \"user\", \"content\": f\"Translate the English word '{text}' to Sepedi (Northern Sotho).\"}],\n",
    "        \"temperature\": 0\n",
    "    }\n",
    "    response = requests.post(url, headers=headers, json=data)\n",
    "    if response.status_code == 200:\n",
    "        return response.json()['choices'][0]['message']['content'].strip()\n",
    "    else:\n",
    "        print(f\"⚠️ API error for '{text}': {response.text}\")\n",
    "        return None\n",
    "\n",
    "# Translate missing entries\n",
    "for idx, row in tqdm(missing_sepedi.iterrows(), total=len(missing_sepedi)):\n",
    "    english_word = row[\"English\"]\n",
    "    df.at[idx, \"Sepedi\"] = translate_to_sepedi(english_word)\n",
    "\n",
    "df.to_excel(\"expanded_lexicon_v4.xlsx\", index=False)\n",
    "print(\"✅ Sepedi translations completed!\")\n"
   ]
  },
  {
   "cell_type": "code",
   "execution_count": 2,
   "id": "c69e5016",
   "metadata": {},
   "outputs": [
    {
     "name": "stdout",
     "output_type": "stream",
     "text": [
      "Collecting deep-translator\n",
      "  Using cached deep_translator-1.11.4-py3-none-any.whl.metadata (30 kB)\n",
      "Collecting pandas\n",
      "  Downloading pandas-2.3.3-cp312-cp312-win_amd64.whl.metadata (19 kB)\n",
      "Collecting openpyxl\n",
      "  Using cached openpyxl-3.1.5-py2.py3-none-any.whl.metadata (2.5 kB)\n",
      "Collecting beautifulsoup4<5.0.0,>=4.9.1 (from deep-translator)\n",
      "  Using cached beautifulsoup4-4.14.2-py3-none-any.whl.metadata (3.8 kB)\n",
      "Requirement already satisfied: requests<3.0.0,>=2.23.0 in c:\\users\\visha\\appdata\\local\\python\\pythoncore-3.12-64\\lib\\site-packages (from deep-translator) (2.32.5)\n",
      "Requirement already satisfied: numpy>=1.26.0 in c:\\users\\visha\\appdata\\local\\python\\pythoncore-3.12-64\\lib\\site-packages (from pandas) (2.3.3)\n",
      "Requirement already satisfied: python-dateutil>=2.8.2 in c:\\users\\visha\\appdata\\roaming\\python\\python312\\site-packages (from pandas) (2.9.0.post0)\n",
      "Collecting pytz>=2020.1 (from pandas)\n",
      "  Using cached pytz-2025.2-py2.py3-none-any.whl.metadata (22 kB)\n",
      "Collecting tzdata>=2022.7 (from pandas)\n",
      "  Using cached tzdata-2025.2-py2.py3-none-any.whl.metadata (1.4 kB)\n",
      "Collecting et-xmlfile (from openpyxl)\n",
      "  Using cached et_xmlfile-2.0.0-py3-none-any.whl.metadata (2.7 kB)\n",
      "Collecting soupsieve>1.2 (from beautifulsoup4<5.0.0,>=4.9.1->deep-translator)\n",
      "  Using cached soupsieve-2.8-py3-none-any.whl.metadata (4.6 kB)\n",
      "Requirement already satisfied: typing-extensions>=4.0.0 in c:\\users\\visha\\appdata\\local\\python\\pythoncore-3.12-64\\lib\\site-packages (from beautifulsoup4<5.0.0,>=4.9.1->deep-translator) (4.15.0)\n",
      "Requirement already satisfied: six>=1.5 in c:\\users\\visha\\appdata\\roaming\\python\\python312\\site-packages (from python-dateutil>=2.8.2->pandas) (1.17.0)\n",
      "Requirement already satisfied: charset_normalizer<4,>=2 in c:\\users\\visha\\appdata\\local\\python\\pythoncore-3.12-64\\lib\\site-packages (from requests<3.0.0,>=2.23.0->deep-translator) (3.4.3)\n",
      "Requirement already satisfied: idna<4,>=2.5 in c:\\users\\visha\\appdata\\local\\python\\pythoncore-3.12-64\\lib\\site-packages (from requests<3.0.0,>=2.23.0->deep-translator) (3.10)\n",
      "Requirement already satisfied: urllib3<3,>=1.21.1 in c:\\users\\visha\\appdata\\local\\python\\pythoncore-3.12-64\\lib\\site-packages (from requests<3.0.0,>=2.23.0->deep-translator) (2.5.0)\n",
      "Requirement already satisfied: certifi>=2017.4.17 in c:\\users\\visha\\appdata\\local\\python\\pythoncore-3.12-64\\lib\\site-packages (from requests<3.0.0,>=2.23.0->deep-translator) (2025.10.5)\n",
      "Using cached deep_translator-1.11.4-py3-none-any.whl (42 kB)\n",
      "Downloading pandas-2.3.3-cp312-cp312-win_amd64.whl (11.0 MB)\n",
      "   ---------------------------------------- 0.0/11.0 MB ? eta -:--:--\n",
      "   -- ------------------------------------- 0.8/11.0 MB 8.3 MB/s eta 0:00:02\n",
      "   -------- ------------------------------- 2.4/11.0 MB 7.1 MB/s eta 0:00:02\n",
      "   ------------- -------------------------- 3.7/11.0 MB 6.8 MB/s eta 0:00:02\n",
      "   ------------------ --------------------- 5.0/11.0 MB 6.9 MB/s eta 0:00:01\n",
      "   ----------------------- ---------------- 6.6/11.0 MB 6.8 MB/s eta 0:00:01\n",
      "   ---------------------------- ----------- 7.9/11.0 MB 6.8 MB/s eta 0:00:01\n",
      "   ---------------------------------- ----- 9.4/11.0 MB 6.7 MB/s eta 0:00:01\n",
      "   ---------------------------------------  10.7/11.0 MB 6.7 MB/s eta 0:00:01\n",
      "   ---------------------------------------- 11.0/11.0 MB 6.5 MB/s eta 0:00:00\n",
      "Using cached openpyxl-3.1.5-py2.py3-none-any.whl (250 kB)\n",
      "Using cached beautifulsoup4-4.14.2-py3-none-any.whl (106 kB)\n",
      "Using cached pytz-2025.2-py2.py3-none-any.whl (509 kB)\n",
      "Using cached tzdata-2025.2-py2.py3-none-any.whl (347 kB)\n",
      "Using cached et_xmlfile-2.0.0-py3-none-any.whl (18 kB)\n",
      "Using cached soupsieve-2.8-py3-none-any.whl (36 kB)\n",
      "Installing collected packages: pytz, tzdata, soupsieve, et-xmlfile, pandas, openpyxl, beautifulsoup4, deep-translator\n",
      "Successfully installed beautifulsoup4-4.14.2 deep-translator-1.11.4 et-xmlfile-2.0.0 openpyxl-3.1.5 pandas-2.3.3 pytz-2025.2 soupsieve-2.8 tzdata-2025.2\n",
      "Note: you may need to restart the kernel to use updated packages.\n"
     ]
    },
    {
     "name": "stderr",
     "output_type": "stream",
     "text": [
      "  WARNING: The scripts deep-translator.exe and dt.exe are installed in 'c:\\Users\\visha\\AppData\\Local\\Python\\pythoncore-3.12-64\\Scripts' which is not on PATH.\n",
      "  Consider adding this directory to PATH or, if you prefer to suppress this warning, use --no-warn-script-location.\n",
      "\n",
      "[notice] A new release of pip is available: 25.0.1 -> 25.2\n",
      "[notice] To update, run: python.exe -m pip install --upgrade pip\n"
     ]
    }
   ],
   "source": [
    "pip install deep-translator pandas openpyxl\n"
   ]
  },
  {
   "cell_type": "code",
   "execution_count": 7,
   "id": "e5d09dc1",
   "metadata": {},
   "outputs": [],
   "source": [
    "import pandas as pd\n",
    "from deep_translator import GoogleTranslator\n",
    "\n",
    "\n"
   ]
  },
  {
   "cell_type": "code",
   "execution_count": 10,
   "id": "28facf7a",
   "metadata": {},
   "outputs": [
    {
     "data": {
      "text/html": [
       "<div>\n",
       "<style scoped>\n",
       "    .dataframe tbody tr th:only-of-type {\n",
       "        vertical-align: middle;\n",
       "    }\n",
       "\n",
       "    .dataframe tbody tr th {\n",
       "        vertical-align: top;\n",
       "    }\n",
       "\n",
       "    .dataframe thead th {\n",
       "        text-align: right;\n",
       "    }\n",
       "</style>\n",
       "<table border=\"1\" class=\"dataframe\">\n",
       "  <thead>\n",
       "    <tr style=\"text-align: right;\">\n",
       "      <th></th>\n",
       "      <th>CILUBA</th>\n",
       "      <th>French</th>\n",
       "      <th>Score</th>\n",
       "      <th>Sentiment</th>\n",
       "      <th>Nature</th>\n",
       "      <th>English</th>\n",
       "      <th>Zulu</th>\n",
       "      <th>Xhosa</th>\n",
       "      <th>Sepedi</th>\n",
       "      <th>Shona</th>\n",
       "      <th>Afrikaans</th>\n",
       "    </tr>\n",
       "  </thead>\n",
       "  <tbody>\n",
       "    <tr>\n",
       "      <th>0</th>\n",
       "      <td>Akaja</td>\n",
       "      <td>Arrange</td>\n",
       "      <td>1.0</td>\n",
       "      <td>Positif</td>\n",
       "      <td>Verbe</td>\n",
       "      <td>Arrange</td>\n",
       "      <td>Hlela</td>\n",
       "      <td>Cwangcisa</td>\n",
       "      <td>Hlophisa</td>\n",
       "      <td>Ronga</td>\n",
       "      <td>Reël</td>\n",
       "    </tr>\n",
       "    <tr>\n",
       "      <th>1</th>\n",
       "      <td>Akajilula</td>\n",
       "      <td>Rearrange</td>\n",
       "      <td>1.0</td>\n",
       "      <td>Positif</td>\n",
       "      <td>Verbe</td>\n",
       "      <td>Rear range</td>\n",
       "      <td>Ibanga langemuva</td>\n",
       "      <td>Uluhlu lwangasemva</td>\n",
       "      <td>Boraro ba morao</td>\n",
       "      <td>Kumashure</td>\n",
       "      <td>Grootafstand</td>\n",
       "    </tr>\n",
       "    <tr>\n",
       "      <th>2</th>\n",
       "      <td>Akula</td>\n",
       "      <td>Parle</td>\n",
       "      <td>2.0</td>\n",
       "      <td>Positif</td>\n",
       "      <td>Verbe</td>\n",
       "      <td>Speak</td>\n",
       "      <td>Khuluma</td>\n",
       "      <td>Thetha</td>\n",
       "      <td>Bua</td>\n",
       "      <td>Taura</td>\n",
       "      <td>Praat</td>\n",
       "    </tr>\n",
       "    <tr>\n",
       "      <th>3</th>\n",
       "      <td>Akulula</td>\n",
       "      <td>Reparle</td>\n",
       "      <td>2.0</td>\n",
       "      <td>Positif</td>\n",
       "      <td>Verbe</td>\n",
       "      <td>Speak again</td>\n",
       "      <td>Khuluma futhi</td>\n",
       "      <td>Thetha kwakhona</td>\n",
       "      <td>Bua hape</td>\n",
       "      <td>Taura zvakare</td>\n",
       "      <td>Praat weer</td>\n",
       "    </tr>\n",
       "    <tr>\n",
       "      <th>4</th>\n",
       "      <td>Aluja</td>\n",
       "      <td>Remet</td>\n",
       "      <td>3.0</td>\n",
       "      <td>Positif</td>\n",
       "      <td>Verbe</td>\n",
       "      <td>Hands over</td>\n",
       "      <td>Izandla ngaphezulu</td>\n",
       "      <td>Izandla ngaphezulu</td>\n",
       "      <td>Matsoho a fetang</td>\n",
       "      <td>Maoko pamusoro</td>\n",
       "      <td>Hande om</td>\n",
       "    </tr>\n",
       "  </tbody>\n",
       "</table>\n",
       "</div>"
      ],
      "text/plain": [
       "      CILUBA     French  Score Sentiment Nature      English  \\\n",
       "0      Akaja    Arrange    1.0   Positif  Verbe      Arrange   \n",
       "1  Akajilula  Rearrange    1.0   Positif  Verbe   Rear range   \n",
       "2      Akula      Parle    2.0   Positif  Verbe        Speak   \n",
       "3    Akulula    Reparle    2.0   Positif  Verbe  Speak again   \n",
       "4      Aluja      Remet    3.0   Positif  Verbe   Hands over   \n",
       "\n",
       "                 Zulu               Xhosa            Sepedi           Shona  \\\n",
       "0               Hlela           Cwangcisa          Hlophisa           Ronga   \n",
       "1    Ibanga langemuva  Uluhlu lwangasemva   Boraro ba morao       Kumashure   \n",
       "2             Khuluma              Thetha               Bua           Taura   \n",
       "3       Khuluma futhi     Thetha kwakhona          Bua hape   Taura zvakare   \n",
       "4  Izandla ngaphezulu  Izandla ngaphezulu  Matsoho a fetang  Maoko pamusoro   \n",
       "\n",
       "      Afrikaans  \n",
       "0          Reël  \n",
       "1  Grootafstand  \n",
       "2         Praat  \n",
       "3    Praat weer  \n",
       "4      Hande om  "
      ]
     },
     "execution_count": 10,
     "metadata": {},
     "output_type": "execute_result"
    }
   ],
   "source": [
    "import pandas as pd\n",
    "\n",
    "input_file = r\"C:\\Users\\visha\\OneDrive - University of Pretoria\\Desktop\\Honours\\INF 791\\Assignment 3\\expanded_lexicon_v4.xlsx\"\n",
    "\n",
    "# Try loading\n",
    "df = pd.read_excel(input_file)\n",
    "df.head()\n"
   ]
  },
  {
   "cell_type": "code",
   "execution_count": 15,
   "id": "90f9d896",
   "metadata": {},
   "outputs": [
    {
     "data": {
      "text/html": [
       "<div>\n",
       "<style scoped>\n",
       "    .dataframe tbody tr th:only-of-type {\n",
       "        vertical-align: middle;\n",
       "    }\n",
       "\n",
       "    .dataframe tbody tr th {\n",
       "        vertical-align: top;\n",
       "    }\n",
       "\n",
       "    .dataframe thead th {\n",
       "        text-align: right;\n",
       "    }\n",
       "</style>\n",
       "<table border=\"1\" class=\"dataframe\">\n",
       "  <thead>\n",
       "    <tr style=\"text-align: right;\">\n",
       "      <th></th>\n",
       "      <th>CILUBA</th>\n",
       "      <th>French</th>\n",
       "      <th>Score</th>\n",
       "      <th>Sentiment</th>\n",
       "      <th>Nature</th>\n",
       "      <th>English</th>\n",
       "      <th>Zulu</th>\n",
       "      <th>Xhosa</th>\n",
       "      <th>Sepedi</th>\n",
       "      <th>Shona</th>\n",
       "      <th>Afrikaans</th>\n",
       "    </tr>\n",
       "  </thead>\n",
       "  <tbody>\n",
       "    <tr>\n",
       "      <th>0</th>\n",
       "      <td>Akaja</td>\n",
       "      <td>Arrange</td>\n",
       "      <td>1.0</td>\n",
       "      <td>Positif</td>\n",
       "      <td>Verbe</td>\n",
       "      <td>Arrange</td>\n",
       "      <td>Hlela</td>\n",
       "      <td>Cwangcisa</td>\n",
       "      <td>Hlophisa</td>\n",
       "      <td>Ronga</td>\n",
       "      <td>Reël</td>\n",
       "    </tr>\n",
       "    <tr>\n",
       "      <th>1</th>\n",
       "      <td>Akajilula</td>\n",
       "      <td>Rearrange</td>\n",
       "      <td>1.0</td>\n",
       "      <td>Positif</td>\n",
       "      <td>Verbe</td>\n",
       "      <td>Rear range</td>\n",
       "      <td>Ibanga langemuva</td>\n",
       "      <td>Uluhlu lwangasemva</td>\n",
       "      <td>Boraro ba morao</td>\n",
       "      <td>Kumashure</td>\n",
       "      <td>Grootafstand</td>\n",
       "    </tr>\n",
       "    <tr>\n",
       "      <th>2</th>\n",
       "      <td>Akula</td>\n",
       "      <td>Parle</td>\n",
       "      <td>2.0</td>\n",
       "      <td>Positif</td>\n",
       "      <td>Verbe</td>\n",
       "      <td>Speak</td>\n",
       "      <td>Khuluma</td>\n",
       "      <td>Thetha</td>\n",
       "      <td>Bua</td>\n",
       "      <td>Taura</td>\n",
       "      <td>Praat</td>\n",
       "    </tr>\n",
       "    <tr>\n",
       "      <th>3</th>\n",
       "      <td>Akulula</td>\n",
       "      <td>Reparle</td>\n",
       "      <td>2.0</td>\n",
       "      <td>Positif</td>\n",
       "      <td>Verbe</td>\n",
       "      <td>Speak again</td>\n",
       "      <td>Khuluma futhi</td>\n",
       "      <td>Thetha kwakhona</td>\n",
       "      <td>Bua hape</td>\n",
       "      <td>Taura zvakare</td>\n",
       "      <td>Praat weer</td>\n",
       "    </tr>\n",
       "    <tr>\n",
       "      <th>4</th>\n",
       "      <td>Aluja</td>\n",
       "      <td>Remet</td>\n",
       "      <td>3.0</td>\n",
       "      <td>Positif</td>\n",
       "      <td>Verbe</td>\n",
       "      <td>Hands over</td>\n",
       "      <td>Izandla ngaphezulu</td>\n",
       "      <td>Izandla ngaphezulu</td>\n",
       "      <td>Matsoho a fetang</td>\n",
       "      <td>Maoko pamusoro</td>\n",
       "      <td>Hande om</td>\n",
       "    </tr>\n",
       "  </tbody>\n",
       "</table>\n",
       "</div>"
      ],
      "text/plain": [
       "      CILUBA     French  Score Sentiment Nature      English  \\\n",
       "0      Akaja    Arrange    1.0   Positif  Verbe      Arrange   \n",
       "1  Akajilula  Rearrange    1.0   Positif  Verbe   Rear range   \n",
       "2      Akula      Parle    2.0   Positif  Verbe        Speak   \n",
       "3    Akulula    Reparle    2.0   Positif  Verbe  Speak again   \n",
       "4      Aluja      Remet    3.0   Positif  Verbe   Hands over   \n",
       "\n",
       "                 Zulu               Xhosa            Sepedi           Shona  \\\n",
       "0               Hlela           Cwangcisa          Hlophisa           Ronga   \n",
       "1    Ibanga langemuva  Uluhlu lwangasemva   Boraro ba morao       Kumashure   \n",
       "2             Khuluma              Thetha               Bua           Taura   \n",
       "3       Khuluma futhi     Thetha kwakhona          Bua hape   Taura zvakare   \n",
       "4  Izandla ngaphezulu  Izandla ngaphezulu  Matsoho a fetang  Maoko pamusoro   \n",
       "\n",
       "      Afrikaans  \n",
       "0          Reël  \n",
       "1  Grootafstand  \n",
       "2         Praat  \n",
       "3    Praat weer  \n",
       "4      Hande om  "
      ]
     },
     "execution_count": 15,
     "metadata": {},
     "output_type": "execute_result"
    }
   ],
   "source": [
    "import pandas as pd\n",
    "\n",
    "input_file = r\"C:\\Users\\visha\\OneDrive - University of Pretoria\\Desktop\\Honours\\INF 791\\Assignment 3\\expanded_lexicon_v3.xlsx\"\n",
    "\n",
    "# Try loading\n",
    "df = pd.read_excel(input_file)\n",
    "df.head()\n"
   ]
  },
  {
   "cell_type": "code",
   "execution_count": null,
   "id": "82a31ca3",
   "metadata": {},
   "outputs": [
    {
     "name": "stdout",
     "output_type": "stream",
     "text": [
      "Zulu: 0 still missing\n",
      "Xhosa: 0 still missing\n",
      "Sepedi: 112 still missing\n",
      "            French      English Sepedi\n",
      "447          route         road    NaN\n",
      "520        trouver         find    NaN\n",
      "748       pantalon        pants    NaN\n",
      "765         doigts      fingers    NaN\n",
      "832        chanter         sing    NaN\n",
      "887       partager        share    NaN\n",
      "1561        Demain     Tomorrow    NaN\n",
      "1570       Abeille          Bee    NaN\n",
      "1597   Information  Information    NaN\n",
      "1602          Père       Father    NaN\n",
      "Shona: 0 still missing\n",
      "Afrikaans: 0 still missing\n"
     ]
    }
   ],
   "source": [
    "import pandas as pd\n",
    "\n",
    "# Load the new file\n",
    "df = pd.read_excel(\"expanded_lexicon_v3.xlsx\")\n",
    "\n",
    "langs = [\"Zulu\", \"Xhosa\", \"Sepedi\", \"Shona\", \"Afrikaans\"]\n",
    "\n",
    "# Check if any missing values remain\n",
    "for lang in langs:\n",
    "    missing = df[df[lang].isna() | (df[lang] == \"\")]\n",
    "    print(f\"{lang}: {len(missing)} still missing\")\n",
    "    if len(missing) > 0:\n",
    "        print(missing[[\"French\", \"English\", lang]].head(10))\n"
   ]
  },
  {
   "cell_type": "code",
   "execution_count": null,
   "id": "5fb2afca",
   "metadata": {},
   "outputs": [],
   "source": []
  },
  {
   "cell_type": "code",
   "execution_count": 17,
   "id": "682d3a67",
   "metadata": {},
   "outputs": [
    {
     "name": "stdout",
     "output_type": "stream",
     "text": [
      "road -> tsela\n",
      "find -> hwetša\n",
      "pants -> marokgwana\n",
      "fingers -> Menwana .\n",
      "sing -> opela\n",
      "share -> abelana\n",
      "Tomorrow -> Gosasa\n",
      "Bee -> Nosi\n",
      "Information -> Tshedimošo\n",
      "Father -> Papa\n",
      "Education -> Thuto\n",
      "teacher -> morutiši\n",
      "Sadness -> manyami a go nyama .\n",
      "Pillow -> Mosamelo\n",
      "Whirlwind -> Ledimo la ledimo .\n",
      "Rain -> Pula\n",
      "thumbtack -> Thumbtack .\n",
      "Young Woman -> Mosadi yo mofsa .\n",
      "Youngman -> Youngman .\n",
      "Uncle -> Malome\n",
      "Aunt -> Rakgadi\n",
      "Do -> Dira\n",
      "Urine -> Moroto .\n",
      "THANKS -> KE A LEBOGA\n",
      "Sleep -> Robala\n",
      "Struck -> Bethilwe\n",
      "Turn -> Fetoga\n",
      "Read -> Bala\n",
      "Eat -> Ja\n",
      "Disease -> Bolwetši\n",
      "Dead -> Hlokofetše\n",
      "Deceased -> Mohu\n",
      "Pity -> Kwelobohloko\n",
      "Ants -> Ditšhošwane .\n",
      "Bird -> Nonyana\n",
      "Mad -> Gafa\n",
      "Rich -> Humile\n",
      "Marry -> Nyala .\n",
      "Rabbit -> Mmutla\n",
      "Bike -> Paesekela\n",
      "Fear -> Tšhoga\n",
      "Mushrooms -> Di-mushroom .\n",
      "Hour -> Iri\n",
      "Sabotaged -> Sabotaged .\n",
      "Mouth -> Molomo\n",
      "Mango -> Mango .\n",
      "lion -> tau\n",
      "Monkey -> Kgabo\n",
      "Elephant -> Tlou\n",
      "bottle -> lebotlelo\n",
      "Water -> Meetse\n",
      "Machete -> Machete .\n",
      "Ax -> Selepe .\n",
      "Spade -> Spade .\n",
      "Tarpaulin -> Tarpaulin .\n",
      "Moussa -> Moussa .\n",
      "Insult -> Maroga\n",
      "Sieve -> Sefe ya go se be le mohola .\n",
      "Look at -> Lebelela .\n",
      "Sleep -> Robala\n",
      "Only -> Fela\n",
      "Take -> Tšea\n",
      "Transport -> Senamelwa\n",
      "Hands over -> diatla godimo ga .\n",
      "Return -> Boa\n",
      "Feet -> Maoto\n",
      "Said -> Boletše\n",
      "Overlay -> Overlay .\n",
      "Repeated -> pheta-pheta .\n",
      "Out -> Ntle\n",
      "Plate -> Poleiti\n",
      "Parents -> Batswadi\n",
      "Begin -> Thoma\n",
      "Hat -> katiba .\n",
      "Clothing -> Diaparo .\n",
      "Pond -> Letangwana\n",
      "Origin -> Setlogo\n",
      "Behavior -> Maitshwaro\n",
      "Game -> Papadi\n",
      "Ball -> Kgwele\n",
      "Cicada -> CicAda .\n",
      "Failed -> Paletšwe\n",
      "Lack -> Tlhokego\n",
      "Suffering -> Go tlaišega\n",
      "Galley -> Galley .\n",
      "Love -> Lerato\n",
      "Punishment -> Kotlo .\n",
      "Rich -> Humile\n",
      "Poverty -> Bodiidi\n",
      "Pride -> Boitumelo\n",
      "Misery -> Masetlapelo\n",
      "Quarrel -> Kgakgana\n",
      "Insult -> Maroga\n",
      "Bachelor -> Kgope\n",
      "Driver -> Mootledi .\n",
      "Sin -> Sebe .\n",
      "EcoMotist -> Ecomotist .\n",
      "Engineer -> Moentšineere\n",
      "Lombola -> Lombola .\n",
      "Mystery of iniquity -> Sephiri sa bokgopo .\n",
      "chenapan -> Chenapan .\n",
      "quack grass -> Bjang bja Quack .\n",
      "chimerical -> Chimerical .\n",
      "chimpanzee -> Tšhimpantši ya .\n",
      "puppy -> Ntšwanyana .\n",
      "steal -> utswa\n",
      "classy -> Classy .\n",
      "crop -> puno\n",
      "chatter -> Chatter .\n",
      "formerly -> Pele e be e le .\n",
      "Breathing -> Go hema .\n",
      "Firmly -> ka go tia .\n",
      "✅ Missing Sepedi words filled and saved.\n"
     ]
    }
   ],
   "source": [
    "from deep_translator import GoogleTranslator\n",
    "\n",
    "# Function to translate English -> Sepedi\n",
    "def translate_to_sepedi(text):\n",
    "    try:\n",
    "        return GoogleTranslator(source='en', target='nso').translate(text)\n",
    "    except Exception as e:\n",
    "        print(\"Translation error:\", e)\n",
    "        return None\n",
    "\n",
    "# Fill missing Sepedi words\n",
    "for idx, row in df[df[\"Sepedi\"].isna() | (df[\"Sepedi\"] == \"\")].iterrows():\n",
    "    english_word = row[\"English\"]\n",
    "    sepedi_translation = translate_to_sepedi(english_word)\n",
    "    df.at[idx, \"Sepedi\"] = sepedi_translation\n",
    "    print(f\"{english_word} -> {sepedi_translation}\")\n",
    "\n",
    "# Save updated Excel\n",
    "df.to_excel(\"expanded_lexicon_v4.xlsx\", index=False)\n",
    "print(\"✅ Missing Sepedi words filled and saved.\")\n"
   ]
  },
  {
   "cell_type": "code",
   "execution_count": 18,
   "id": "9f6785a0",
   "metadata": {},
   "outputs": [
    {
     "name": "stdout",
     "output_type": "stream",
     "text": [
      "✅ Missing Sepedi words filled and saved.\n"
     ]
    }
   ],
   "source": [
    "from deep_translator import GoogleTranslator\n",
    "\n",
    "# Function to translate English -> Sepedi\n",
    "def translate_to_sepedi(text):\n",
    "    try:\n",
    "        return GoogleTranslator(source='en', target='nso').translate(text)\n",
    "    except Exception as e:\n",
    "        print(\"Translation error:\", e)\n",
    "        return None\n",
    "\n",
    "# Fill missing Sepedi words\n",
    "for idx, row in df[df[\"Sepedi\"].isna() | (df[\"Sepedi\"] == \"\")].iterrows():\n",
    "    english_word = row[\"English\"]\n",
    "    sepedi_translation = translate_to_sepedi(english_word)\n",
    "    df.at[idx, \"Sepedi\"] = sepedi_translation\n",
    "    print(f\"{english_word} -> {sepedi_translation}\")\n",
    "\n",
    "# Save updated Excel\n",
    "df.to_excel(\"expanded_lexicon_v4.xlsx\", index=False)\n",
    "print(\"✅ Missing Sepedi words filled and saved.\")\n"
   ]
  },
  {
   "cell_type": "code",
   "execution_count": 19,
   "id": "0f351247",
   "metadata": {},
   "outputs": [
    {
     "name": "stdout",
     "output_type": "stream",
     "text": [
      "✅ Zulu has no missing words\n",
      "✅ Xhosa has no missing words\n",
      "✅ Sepedi has no missing words\n",
      "✅ Shona has no missing words\n",
      "✅ Afrikaans has no missing words\n"
     ]
    }
   ],
   "source": [
    "langs = [\"Zulu\", \"Xhosa\", \"Sepedi\", \"Shona\", \"Afrikaans\"]\n",
    "\n",
    "# Check for missing values\n",
    "for lang in langs:\n",
    "    missing_count = df[lang].isna().sum() + (df[lang] == \"\").sum()\n",
    "    if missing_count == 0:\n",
    "        print(f\"✅ {lang} has no missing words\")\n",
    "    else:\n",
    "        print(f\"⚠️ {lang} still has {missing_count} missing words\")\n"
   ]
  }
 ],
 "metadata": {
  "kernelspec": {
   "display_name": "Python 3",
   "language": "python",
   "name": "python3"
  },
  "language_info": {
   "codemirror_mode": {
    "name": "ipython",
    "version": 3
   },
   "file_extension": ".py",
   "mimetype": "text/x-python",
   "name": "python",
   "nbconvert_exporter": "python",
   "pygments_lexer": "ipython3",
   "version": "3.12.10"
  }
 },
 "nbformat": 4,
 "nbformat_minor": 5
}
